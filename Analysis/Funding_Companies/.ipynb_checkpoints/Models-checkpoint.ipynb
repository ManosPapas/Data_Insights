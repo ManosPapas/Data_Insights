{
 "cells": [
  {
   "cell_type": "markdown",
   "metadata": {},
   "source": [
    "# Models & Evaluation"
   ]
  },
  {
   "cell_type": "code",
   "execution_count": 1,
   "metadata": {
    "scrolled": true
   },
   "outputs": [
    {
     "data": {
      "text/html": [
       "<style>.container { width:100% !important; }</style>"
      ],
      "text/plain": [
       "<IPython.core.display.HTML object>"
      ]
     },
     "metadata": {},
     "output_type": "display_data"
    },
    {
     "data": {
      "text/html": [
       "<style>.container { width:100% !important; }</style>"
      ],
      "text/plain": [
       "<IPython.core.display.HTML object>"
      ]
     },
     "metadata": {},
     "output_type": "display_data"
    },
    {
     "data": {
      "text/html": [
       "<style>.container { width:100% !important; }</style>"
      ],
      "text/plain": [
       "<IPython.core.display.HTML object>"
      ]
     },
     "metadata": {},
     "output_type": "display_data"
    },
    {
     "name": "stderr",
     "output_type": "stream",
     "text": [
      "c:\\users\\mpapagiannidis\\appdata\\local\\programs\\python\\python37\\lib\\site-packages\\sklearn\\externals\\joblib\\__init__.py:15: DeprecationWarning: sklearn.externals.joblib is deprecated in 0.21 and will be removed in 0.23. Please import this functionality directly from joblib, which can be installed with: pip install joblib. If this warning is raised when loading pickled models, you may need to re-serialize those models with scikit-learn 0.21+.\n",
      "  warnings.warn(msg, category=DeprecationWarning)\n"
     ]
    },
    {
     "data": {
      "text/html": [
       "<style>.container { width:100% !important; }</style>"
      ],
      "text/plain": [
       "<IPython.core.display.HTML object>"
      ]
     },
     "metadata": {},
     "output_type": "display_data"
    },
    {
     "data": {
      "text/html": [
       "<style>.container { width:100% !important; }</style>"
      ],
      "text/plain": [
       "<IPython.core.display.HTML object>"
      ]
     },
     "metadata": {},
     "output_type": "display_data"
    },
    {
     "data": {
      "text/html": [
       "<style>.container { width:100% !important; }</style>"
      ],
      "text/plain": [
       "<IPython.core.display.HTML object>"
      ]
     },
     "metadata": {},
     "output_type": "display_data"
    },
    {
     "data": {
      "text/html": [
       "<style>.container { width:100% !important; }</style>"
      ],
      "text/plain": [
       "<IPython.core.display.HTML object>"
      ]
     },
     "metadata": {},
     "output_type": "display_data"
    }
   ],
   "source": [
    "%run \"../../Libraries/Display.ipynb\"\n",
    "%run \"../../Libraries/Standard.ipynb\"\n",
    "%run \"../../Libraries/Modelling.ipynb\"\n",
    "%run \"../../Libraries/Style.ipynb\"\n",
    "%run \"../../Core/Standard.ipynb\"\n",
    "%run \"../../Core/Engineering.ipynb\"\n",
    "%run \"../../Core/Modelling.ipynb\""
   ]
  },
  {
   "cell_type": "markdown",
   "metadata": {},
   "source": [
    "### Initial Values"
   ]
  },
  {
   "cell_type": "code",
   "execution_count": 2,
   "metadata": {},
   "outputs": [],
   "source": [
    "apply_log_transform = False # Notice: No transformation has been done for the feature that we want to predict!\n",
    "\n",
    "apply_RFR = [True, False, False]\n",
    "\n",
    "apply_RFC = [True, True, False]\n",
    "\n",
    "apply_SVR = [True, False, False]\n",
    "\n",
    "apply_GBoost = [True, False, False]\n",
    "\n",
    "apply_KRR = [True, False, False]\n",
    "\n",
    "apply_stack_models = [True, False, False]"
   ]
  },
  {
   "cell_type": "code",
   "execution_count": 3,
   "metadata": {},
   "outputs": [],
   "source": [
    "%store -r predict\n",
    "\n",
    "%store -r final\n",
    "\n",
    "%store -r data\n",
    "\n",
    "df = final"
   ]
  },
  {
   "cell_type": "code",
   "execution_count": 4,
   "metadata": {},
   "outputs": [
    {
     "name": "stdout",
     "output_type": "stream",
     "text": [
      "Profitability\n"
     ]
    }
   ],
   "source": [
    "print(predict)"
   ]
  },
  {
   "cell_type": "code",
   "execution_count": 5,
   "metadata": {},
   "outputs": [],
   "source": [
    "if apply_log_transform: df[predict] = np.log(df[predict])"
   ]
  },
  {
   "cell_type": "code",
   "execution_count": 6,
   "metadata": {
    "scrolled": true
   },
   "outputs": [
    {
     "name": "stdout",
     "output_type": "stream",
     "text": [
      "Dimensions: (2152, 10)\n"
     ]
    },
    {
     "data": {
      "text/html": [
       "<div>\n",
       "<style scoped>\n",
       "    .dataframe tbody tr th:only-of-type {\n",
       "        vertical-align: middle;\n",
       "    }\n",
       "\n",
       "    .dataframe tbody tr th {\n",
       "        vertical-align: top;\n",
       "    }\n",
       "\n",
       "    .dataframe thead th {\n",
       "        text-align: right;\n",
       "    }\n",
       "</style>\n",
       "<table border=\"1\" class=\"dataframe\">\n",
       "  <thead>\n",
       "    <tr style=\"text-align: right;\">\n",
       "      <th></th>\n",
       "      <th>Turnover size</th>\n",
       "      <th>3 year Performance</th>\n",
       "      <th>Growth in Total Sales (Period 1)</th>\n",
       "      <th>GP% 1</th>\n",
       "      <th>GP Movement</th>\n",
       "      <th>Number of Employees (Period 1)</th>\n",
       "      <th>working Capital/total sales</th>\n",
       "      <th>Total Sales per Employee (Period 1)</th>\n",
       "      <th>Net Asset Size</th>\n",
       "      <th>Profitability</th>\n",
       "    </tr>\n",
       "  </thead>\n",
       "  <tbody>\n",
       "    <tr>\n",
       "      <th>0</th>\n",
       "      <td>0.388889</td>\n",
       "      <td>1.0</td>\n",
       "      <td>0.703704</td>\n",
       "      <td>0.416667</td>\n",
       "      <td>0.0</td>\n",
       "      <td>0.841270</td>\n",
       "      <td>0.070665</td>\n",
       "      <td>0.393822</td>\n",
       "      <td>0.0</td>\n",
       "      <td>1</td>\n",
       "    </tr>\n",
       "    <tr>\n",
       "      <th>1</th>\n",
       "      <td>0.388889</td>\n",
       "      <td>0.0</td>\n",
       "      <td>0.066667</td>\n",
       "      <td>0.311111</td>\n",
       "      <td>1.0</td>\n",
       "      <td>0.980392</td>\n",
       "      <td>0.244315</td>\n",
       "      <td>0.344666</td>\n",
       "      <td>0.0</td>\n",
       "      <td>1</td>\n",
       "    </tr>\n",
       "    <tr>\n",
       "      <th>2</th>\n",
       "      <td>0.388889</td>\n",
       "      <td>0.0</td>\n",
       "      <td>0.100000</td>\n",
       "      <td>0.600000</td>\n",
       "      <td>0.0</td>\n",
       "      <td>0.478632</td>\n",
       "      <td>0.972543</td>\n",
       "      <td>0.641597</td>\n",
       "      <td>0.0</td>\n",
       "      <td>1</td>\n",
       "    </tr>\n",
       "    <tr>\n",
       "      <th>3</th>\n",
       "      <td>0.000000</td>\n",
       "      <td>1.0</td>\n",
       "      <td>0.511111</td>\n",
       "      <td>0.444444</td>\n",
       "      <td>0.0</td>\n",
       "      <td>0.452991</td>\n",
       "      <td>0.190724</td>\n",
       "      <td>0.261348</td>\n",
       "      <td>0.0</td>\n",
       "      <td>0</td>\n",
       "    </tr>\n",
       "    <tr>\n",
       "      <th>4</th>\n",
       "      <td>0.388889</td>\n",
       "      <td>1.0</td>\n",
       "      <td>0.793651</td>\n",
       "      <td>0.577778</td>\n",
       "      <td>1.0</td>\n",
       "      <td>0.686869</td>\n",
       "      <td>0.863578</td>\n",
       "      <td>0.500245</td>\n",
       "      <td>0.0</td>\n",
       "      <td>1</td>\n",
       "    </tr>\n",
       "  </tbody>\n",
       "</table>\n",
       "</div>"
      ],
      "text/plain": [
       "   Turnover size  3 year Performance  Growth in Total Sales (Period 1)  \\\n",
       "0       0.388889                 1.0                          0.703704   \n",
       "1       0.388889                 0.0                          0.066667   \n",
       "2       0.388889                 0.0                          0.100000   \n",
       "3       0.000000                 1.0                          0.511111   \n",
       "4       0.388889                 1.0                          0.793651   \n",
       "\n",
       "      GP% 1  GP Movement  Number of Employees (Period 1)  \\\n",
       "0  0.416667          0.0                        0.841270   \n",
       "1  0.311111          1.0                        0.980392   \n",
       "2  0.600000          0.0                        0.478632   \n",
       "3  0.444444          0.0                        0.452991   \n",
       "4  0.577778          1.0                        0.686869   \n",
       "\n",
       "   working Capital/total sales  Total Sales per Employee (Period 1)  \\\n",
       "0                     0.070665                             0.393822   \n",
       "1                     0.244315                             0.344666   \n",
       "2                     0.972543                             0.641597   \n",
       "3                     0.190724                             0.261348   \n",
       "4                     0.863578                             0.500245   \n",
       "\n",
       "   Net Asset Size  Profitability  \n",
       "0             0.0              1  \n",
       "1             0.0              1  \n",
       "2             0.0              1  \n",
       "3             0.0              0  \n",
       "4             0.0              1  "
      ]
     },
     "execution_count": 6,
     "metadata": {},
     "output_type": "execute_result"
    }
   ],
   "source": [
    "print(\"Dimensions: \" + str(df.shape))\n",
    "\n",
    "df.head()"
   ]
  },
  {
   "cell_type": "code",
   "execution_count": 7,
   "metadata": {},
   "outputs": [],
   "source": [
    "y = df[predict]\n",
    "\n",
    "X = df.drop(predict, axis=1)\n",
    "\n",
    "X_train, X_valid, y_train, y_valid = train_test_split(X, y, test_size=0.2)"
   ]
  },
  {
   "cell_type": "markdown",
   "metadata": {},
   "source": [
    "### Random Forest"
   ]
  },
  {
   "cell_type": "code",
   "execution_count": 8,
   "metadata": {},
   "outputs": [],
   "source": [
    "rf_estimators = 20"
   ]
  },
  {
   "cell_type": "code",
   "execution_count": 9,
   "metadata": {},
   "outputs": [],
   "source": [
    "# Regressor\n",
    "if apply_RFR[0]:\n",
    "    try:    \n",
    "        RFR = joblib.load('Saved_Models/funding_companies_RFR_model.pkl')\n",
    "    except:\n",
    "        print(\"No such file!\")\n",
    "        \n",
    "if apply_RFR[1]:\n",
    "    parameters_rfg = {\"n_estimators\" : [5, 10, 15, 20], \"criterion\" : [\"mse\" , \"mae\"], \"min_samples_split\" : [2, 3, 5, 10], \"max_features\" : [\"auto\", \"log2\"]}\n",
    "\n",
    "    RFR = model_results(RandomForestRegressor(), parameters_rfg, X_train, y_train, X_valid, y_valid)\n",
    "\n",
    "    RFR[0].fit(X_train, y_train)\n",
    "    \n",
    "    if apply_RFR[2]: joblib.dump(RFR[0], 'Saved_Models/funding_companies_RFR_model.pkl')\n",
    "\n",
    "    plot_residuals(RandomForestRegressor(n_estimators=rf_estimators, criterion='mse'), X_train, y_train, X_valid, y_valid)"
   ]
  },
  {
   "cell_type": "code",
   "execution_count": 10,
   "metadata": {},
   "outputs": [
    {
     "name": "stdout",
     "output_type": "stream",
     "text": [
      "Best Model: RandomForestClassifier(bootstrap=True, class_weight=None, criterion='gini',\n",
      "                       max_depth=None, max_features='auto', max_leaf_nodes=None,\n",
      "                       min_impurity_decrease=0.0, min_impurity_split=None,\n",
      "                       min_samples_leaf=1, min_samples_split=10,\n",
      "                       min_weight_fraction_leaf=0.0, n_estimators=20,\n",
      "                       n_jobs=None, oob_score=False, random_state=None,\n",
      "                       verbose=0, warm_start=False)\n",
      " Best Score: -0.09437245546542487\n",
      " RMSE Score: 0.5363795449504942\n",
      " Cross Validation Score: -0.1413784769277627\n"
     ]
    },
    {
     "name": "stderr",
     "output_type": "stream",
     "text": [
      "c:\\users\\mpapagiannidis\\appdata\\local\\programs\\python\\python37\\lib\\site-packages\\sklearn\\model_selection\\_search.py:813: DeprecationWarning: The default of the `iid` parameter will change from True to False in version 0.22 and will be removed in 0.24. This will change numeric results when test-set sizes are unequal.\n",
      "  DeprecationWarning)\n"
     ]
    },
    {
     "name": "stdout",
     "output_type": "stream",
     "text": [
      "Model: <class 'sklearn.model_selection._search.GridSearchCV'>\n",
      "[[ 794   14]\n",
      " [   3 1341]]\n",
      "\n",
      "\n",
      "Report\n",
      "              precision    recall  f1-score   support\n",
      "\n",
      "           0       0.60      0.52      0.55       153\n",
      "           1       0.75      0.81      0.78       278\n",
      "\n",
      "    accuracy                           0.71       431\n",
      "   macro avg       0.68      0.66      0.67       431\n",
      "weighted avg       0.70      0.71      0.70       431\n",
      "\n",
      "\n",
      "\n"
     ]
    },
    {
     "name": "stderr",
     "output_type": "stream",
     "text": [
      "c:\\users\\mpapagiannidis\\appdata\\local\\programs\\python\\python37\\lib\\site-packages\\sklearn\\model_selection\\_search.py:813: DeprecationWarning: The default of the `iid` parameter will change from True to False in version 0.22 and will be removed in 0.24. This will change numeric results when test-set sizes are unequal.\n",
      "  DeprecationWarning)\n"
     ]
    }
   ],
   "source": [
    "# Classifier\n",
    "if apply_RFC[0]:\n",
    "    try:\n",
    "        RFC = joblib.load('Saved_Models/funding_companies_RFC_model.pkl')\n",
    "    except:\n",
    "        print(\"No such file!\")\n",
    "        \n",
    "if apply_RFC[1]:\n",
    "    parameters_rfc = {\"n_estimators\" : [5, 10, 15, 20], \"criterion\" : [\"gini\", \"entropy\"], \"min_samples_split\" : [2, 3, 5, 10], \"max_features\" : [\"auto\", \"log2\"]}\n",
    "\n",
    "    RFC = model_results(RandomForestClassifier(), parameters_rfc, X_train, y_train, X_valid, y_valid)\n",
    "\n",
    "    RFC[0].fit(X_train, y_train)\n",
    "\n",
    "    if apply_RFC[2]: joblib.dump(RFC[0], 'Saved_Models/funding_companies_RFC_model.pkl')\n",
    "\n",
    "    metrics_confusion(RFC[0], X, y)\n",
    "\n",
    "    print(\"Report\")\n",
    "\n",
    "    classic_report(RFC[0], X_train, y_train, X_valid, y_valid)"
   ]
  },
  {
   "cell_type": "markdown",
   "metadata": {},
   "source": [
    "### Kernel Ridge"
   ]
  },
  {
   "cell_type": "code",
   "execution_count": 11,
   "metadata": {},
   "outputs": [],
   "source": [
    "if apply_KRR[0]:\n",
    "    try:\n",
    "        KRR_ = joblib.load('Saved_Models/funding_companies_KRR_model.pkl')\n",
    "    except:\n",
    "        print(\"No such file!\")\n",
    "        \n",
    "if apply_KRR[1]:\n",
    "    KRR = KernelRidge(alpha=0.6, kernel='polynomial', degree=3, coef0=2.5)\n",
    "\n",
    "    KRR_ = model_results(KRR, {}, X_train, y_train, X_valid, y_valid)\n",
    "\n",
    "    KRR_[0].fit(X_train, y_train)\n",
    "\n",
    "    if apply_KRR[2]: joblib.dump(KRR_[0], 'Saved_Models/funding_companies_KRR_model.pkl')\n",
    "\n",
    "    plot_residuals(KRR, X_train, y_train, X_valid, y_valid)"
   ]
  },
  {
   "cell_type": "markdown",
   "metadata": {},
   "source": [
    "### SVR"
   ]
  },
  {
   "cell_type": "code",
   "execution_count": 12,
   "metadata": {},
   "outputs": [],
   "source": [
    "if apply_SVR[0]:\n",
    "    try:\n",
    "        SVR_ = joblib.load('Saved_Models/funding_companies_svr_model.pkl')\n",
    "    except:\n",
    "        print(\"No such file!\")\n",
    "\n",
    "if apply_SVR[1]:\n",
    "    SVR_ = SVR(C=1.2, kernel='poly')\n",
    "\n",
    "    svr = model_results(SVR_, {}, X_train, y_train, X_valid, y_valid)\n",
    "\n",
    "    svr[0].fit(X_train, y_train)\n",
    "\n",
    "    if apply_SVR[2]: joblib.dump(svr[0], 'Saved_Models/funding_companies_svr_model.pkl')"
   ]
  },
  {
   "cell_type": "markdown",
   "metadata": {},
   "source": [
    "### GBoost"
   ]
  },
  {
   "cell_type": "code",
   "execution_count": 13,
   "metadata": {},
   "outputs": [],
   "source": [
    "if apply_GBoost[0]:\n",
    "    try:\n",
    "        GBoost = joblib.load('Saved_Models/funding_companies_GBoost_model.pkl')\n",
    "    except:\n",
    "        print(\"No such file!\")\n",
    "\n",
    "if apply_GBoost[1]:\n",
    "    GBoost = GradientBoostingRegressor(n_estimators=20, learning_rate=0.05, max_depth=7, max_features='sqrt', min_samples_leaf=10, min_samples_split=5, loss='huber', random_state =3)\n",
    "\n",
    "    GBoost_ = model_results(GBoost, {}, X_train, y_train, X_valid, y_valid)\n",
    "\n",
    "    GBoost_[0].fit(X_train, y_train)\n",
    "\n",
    "    if apply_GBoost[2]: joblib.dump(GBoost_[0], 'Saved_Models/funding_companies_GBoost_model.pkl')\n",
    "\n",
    "    plot_residuals(GBoost, X_train, y_train, X_valid, y_valid)"
   ]
  },
  {
   "cell_type": "markdown",
   "metadata": {},
   "source": [
    "### Stack Model"
   ]
  },
  {
   "cell_type": "code",
   "execution_count": 14,
   "metadata": {
    "scrolled": true
   },
   "outputs": [],
   "source": [
    "if apply_stack_models[0]:\n",
    "    try:\n",
    "        grid_stacked = joblib.load('Saved_Models/funding_companies_stacking_regressor_model.pkl')\n",
    "    except:\n",
    "        print(\"No such file!\")\n",
    "\n",
    "if apply_stack_models[1]:\n",
    "    random_forest = RandomForestRegressor()\n",
    "\n",
    "    KRR = KernelRidge(alpha=0.6, kernel='polynomial', degree=3, coef0=2.5)\n",
    "\n",
    "    SVR_ = SVR(C=1.2, kernel='poly')\n",
    "\n",
    "    GBoost = GradientBoostingRegressor(n_estimators=20, learning_rate=0.05, max_depth=7, max_features='sqrt', min_samples_leaf=10, min_samples_split=5, loss='huber', random_state =3)\n",
    "    ##################################################################################################################################################################################\n",
    "    # GridSearchCV\n",
    "    ensemble_model = StackingRegressor(regressors=[random_forest, KRR, GBoost], meta_regressor=SVR_)\n",
    "\n",
    "    params = {'meta_regressor__C': [0.1, 1.0, 10.0, 100.0], 'meta_regressor__gamma': [0.1, 1.0, 10.0]}\n",
    "\n",
    "    grid_stacked = model_results(ensemble_model, params, X_train, y_train, X_valid, y_valid)\n",
    "\n",
    "    grid_stacked[0].fit(X_train, y_train)\n",
    "    ##################################################################################################################################################################################\n",
    "    # Save the model as a pickle in a file\n",
    "    if apply_stack_models[2]: joblib.dump(grid_stacked[0], 'Saved_Models/funding_companies_stacking_regressor_model.pkl')"
   ]
  },
  {
   "cell_type": "markdown",
   "metadata": {},
   "source": [
    "# Predictions"
   ]
  },
  {
   "cell_type": "code",
   "execution_count": 15,
   "metadata": {
    "scrolled": true
   },
   "outputs": [],
   "source": [
    "# This is a simple naive prediction.\n",
    "x = data.drop([predict], axis=1)\n",
    "\n",
    "y = data[predict]"
   ]
  },
  {
   "cell_type": "code",
   "execution_count": 16,
   "metadata": {},
   "outputs": [],
   "source": [
    "x.loc[-1] = [1, 2, 0.12, 0.22, 0, 77.0, -0.076097, 120791.0, 0]  # Adding a row for prediction.\n",
    "    \n",
    "x.index = x.index + 1  # Shifting index\n",
    "\n",
    "x = x.sort_index()  # Sorting by index"
   ]
  },
  {
   "cell_type": "code",
   "execution_count": 17,
   "metadata": {},
   "outputs": [],
   "source": [
    "x = QuantileTransformer(n_quantiles=10, random_state=42).fit_transform(x.values)"
   ]
  },
  {
   "cell_type": "code",
   "execution_count": 18,
   "metadata": {},
   "outputs": [],
   "source": [
    "single_prediction = [x[0]]"
   ]
  },
  {
   "cell_type": "code",
   "execution_count": 19,
   "metadata": {},
   "outputs": [
    {
     "name": "stdout",
     "output_type": "stream",
     "text": [
      "Single Prediction: 0\n"
     ]
    }
   ],
   "source": [
    "model = LogisticRegression()\n",
    "\n",
    "model.fit(X_train, y_train)\n",
    "\n",
    "print(\"Single prediciton result: \" + str(model.predict(single_prediction)[0]))"
   ]
  },
  {
   "cell_type": "markdown",
   "metadata": {},
   "source": [
    "# Others"
   ]
  },
  {
   "cell_type": "markdown",
   "metadata": {},
   "source": [
    "Things that I tried and failed to give a good result:\n",
    "* Probabilities based on various feature, for instance, location, employee size etc.\n",
    "* Z-score outliers.\n",
    "* Take only one sector and predict location or date.\n",
    "* Combination of different features, based on PCA (or not).\n",
    "* Take features without PCA and apply normalisation.\n",
    "* Take only categorical features."
   ]
  },
  {
   "cell_type": "code",
   "execution_count": null,
   "metadata": {},
   "outputs": [],
   "source": []
  }
 ],
 "metadata": {
  "kernelspec": {
   "display_name": "Python 3",
   "language": "python",
   "name": "python3"
  },
  "language_info": {
   "codemirror_mode": {
    "name": "ipython",
    "version": 3
   },
   "file_extension": ".py",
   "mimetype": "text/x-python",
   "name": "python",
   "nbconvert_exporter": "python",
   "pygments_lexer": "ipython3",
   "version": "3.7.3"
  }
 },
 "nbformat": 4,
 "nbformat_minor": 2
}
