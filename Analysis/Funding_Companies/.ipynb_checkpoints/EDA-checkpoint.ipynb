{
 "cells": [
  {
   "cell_type": "markdown",
   "metadata": {},
   "source": [
    "# Explanatory Data Analysis"
   ]
  },
  {
   "cell_type": "code",
   "execution_count": 7,
   "metadata": {
    "scrolled": true
   },
   "outputs": [
    {
     "data": {
      "text/html": [
       "<style>.container { width:100% !important; }</style>"
      ],
      "text/plain": [
       "<IPython.core.display.HTML object>"
      ]
     },
     "metadata": {},
     "output_type": "display_data"
    },
    {
     "data": {
      "text/html": [
       "<style>.container { width:100% !important; }</style>"
      ],
      "text/plain": [
       "<IPython.core.display.HTML object>"
      ]
     },
     "metadata": {},
     "output_type": "display_data"
    },
    {
     "data": {
      "text/html": [
       "<style>.container { width:100% !important; }</style>"
      ],
      "text/plain": [
       "<IPython.core.display.HTML object>"
      ]
     },
     "metadata": {},
     "output_type": "display_data"
    }
   ],
   "source": [
    "%run \"../../Libraries/Display.ipynb\"\n",
    "%run \"../../Libraries/Standard.ipynb\"\n",
    "%run \"../../Libraries/Style.ipynb\"\n",
    "%run \"../../Core/Standard.ipynb\""
   ]
  },
  {
   "cell_type": "code",
   "execution_count": 8,
   "metadata": {},
   "outputs": [],
   "source": [
    "style.use('seaborn-whitegrid') or plt.style.use('seaborn-whitegrid')\n",
    "\n",
    "plt.style.use('seaborn-whitegrid')\n",
    "\n",
    "sns.set(style=\"ticks\", color_codes=True)"
   ]
  },
  {
   "cell_type": "code",
   "execution_count": 9,
   "metadata": {},
   "outputs": [
    {
     "name": "stdout",
     "output_type": "stream",
     "text": [
      "Dimensions: (37621, 103)\n"
     ]
    }
   ],
   "source": [
    "data = pd.read_csv(\"../../Data/Funding_Companies/data.csv\")\n",
    "\n",
    "print(\"Dimensions: \" + str(data.shape))"
   ]
  },
  {
   "cell_type": "code",
   "execution_count": 10,
   "metadata": {},
   "outputs": [
    {
     "data": {
      "text/html": [
       "<div>\n",
       "<style scoped>\n",
       "    .dataframe tbody tr th:only-of-type {\n",
       "        vertical-align: middle;\n",
       "    }\n",
       "\n",
       "    .dataframe tbody tr th {\n",
       "        vertical-align: top;\n",
       "    }\n",
       "\n",
       "    .dataframe thead th {\n",
       "        text-align: right;\n",
       "    }\n",
       "</style>\n",
       "<table border=\"1\" class=\"dataframe\">\n",
       "  <thead>\n",
       "    <tr style=\"text-align: right;\">\n",
       "      <th></th>\n",
       "      <th>Location</th>\n",
       "      <th>Date of Incorporation</th>\n",
       "      <th>SIC Industry</th>\n",
       "      <th>SIC short</th>\n",
       "      <th>Total Sales / Turnover (Period 1)</th>\n",
       "      <th>Total Sales / Turnover (Period 2)</th>\n",
       "      <th>Total Sales / Turnover (Period 3)</th>\n",
       "      <th>Turnover size</th>\n",
       "      <th>3 year Performance</th>\n",
       "      <th>Growth in Total Sales (Period 1)</th>\n",
       "      <th>...</th>\n",
       "      <th>Borrowings (current) (Period 2)</th>\n",
       "      <th>Borrowings (current) (Period 3)</th>\n",
       "      <th>Borrowings (non-current) (Period 1)</th>\n",
       "      <th>Borrowings (non-current) (Period 2)</th>\n",
       "      <th>Borrowings (non-current) (Period 3)</th>\n",
       "      <th>Total Net Assets (Period 1)</th>\n",
       "      <th>Total Net Assets (Period 2)</th>\n",
       "      <th>Total Net Assets (Period 3)</th>\n",
       "      <th>Net Asset Size</th>\n",
       "      <th>Comm Delphi Score Cur</th>\n",
       "    </tr>\n",
       "  </thead>\n",
       "  <tbody>\n",
       "    <tr>\n",
       "      <th>0</th>\n",
       "      <td>London</td>\n",
       "      <td>23/12/1936</td>\n",
       "      <td>Other Service activities</td>\n",
       "      <td>9609</td>\n",
       "      <td>8578000</td>\n",
       "      <td>7820000.0</td>\n",
       "      <td>7956000.0</td>\n",
       "      <td>&gt;5m</td>\n",
       "      <td>Growth</td>\n",
       "      <td>0.10</td>\n",
       "      <td>...</td>\n",
       "      <td>219000.0</td>\n",
       "      <td>135000.0</td>\n",
       "      <td>0.0</td>\n",
       "      <td>0.0</td>\n",
       "      <td>0.0</td>\n",
       "      <td>17671000</td>\n",
       "      <td>16394000.0</td>\n",
       "      <td>15606000.0</td>\n",
       "      <td>&gt;15m</td>\n",
       "      <td>Very Low Risk</td>\n",
       "    </tr>\n",
       "    <tr>\n",
       "      <th>1</th>\n",
       "      <td>South West</td>\n",
       "      <td>23/10/1975</td>\n",
       "      <td>Business services</td>\n",
       "      <td>8020</td>\n",
       "      <td>1610000</td>\n",
       "      <td>1417000.0</td>\n",
       "      <td>1460000.0</td>\n",
       "      <td>&lt;5m</td>\n",
       "      <td>Growth</td>\n",
       "      <td>0.14</td>\n",
       "      <td>...</td>\n",
       "      <td>267000.0</td>\n",
       "      <td>10962000.0</td>\n",
       "      <td>0.0</td>\n",
       "      <td>0.0</td>\n",
       "      <td>0.0</td>\n",
       "      <td>2394000</td>\n",
       "      <td>2160000.0</td>\n",
       "      <td>1271000.0</td>\n",
       "      <td>&lt;5m</td>\n",
       "      <td>Very Low Risk</td>\n",
       "    </tr>\n",
       "    <tr>\n",
       "      <th>2</th>\n",
       "      <td>NaN</td>\n",
       "      <td>13/01/1926</td>\n",
       "      <td>Wholesale and retail,motor vehicle repair,sale...</td>\n",
       "      <td>4624</td>\n",
       "      <td>1631322</td>\n",
       "      <td>2523817.0</td>\n",
       "      <td>7284779.0</td>\n",
       "      <td>&lt;5m</td>\n",
       "      <td>Decline</td>\n",
       "      <td>-0.35</td>\n",
       "      <td>...</td>\n",
       "      <td>NaN</td>\n",
       "      <td>NaN</td>\n",
       "      <td>0.0</td>\n",
       "      <td>0.0</td>\n",
       "      <td>0.0</td>\n",
       "      <td>712458</td>\n",
       "      <td>635115.0</td>\n",
       "      <td>563399.0</td>\n",
       "      <td>&lt;5m</td>\n",
       "      <td>Risk Score Suppressed</td>\n",
       "    </tr>\n",
       "    <tr>\n",
       "      <th>3</th>\n",
       "      <td>East of England</td>\n",
       "      <td>06/10/1947</td>\n",
       "      <td>All other Manufacturing</td>\n",
       "      <td>3250</td>\n",
       "      <td>1045187</td>\n",
       "      <td>1110000.0</td>\n",
       "      <td>2198000.0</td>\n",
       "      <td>&lt;5m</td>\n",
       "      <td>Decline</td>\n",
       "      <td>-0.06</td>\n",
       "      <td>...</td>\n",
       "      <td>6461000.0</td>\n",
       "      <td>5535000.0</td>\n",
       "      <td>293870.0</td>\n",
       "      <td>252000.0</td>\n",
       "      <td>252000.0</td>\n",
       "      <td>-8256816</td>\n",
       "      <td>-5644000.0</td>\n",
       "      <td>-3789000.0</td>\n",
       "      <td>&lt;5m</td>\n",
       "      <td>Maximum Risk</td>\n",
       "    </tr>\n",
       "    <tr>\n",
       "      <th>4</th>\n",
       "      <td>East of England</td>\n",
       "      <td>23/10/1956</td>\n",
       "      <td>All other Manufacturing</td>\n",
       "      <td>3109</td>\n",
       "      <td>6199220</td>\n",
       "      <td>5808238.0</td>\n",
       "      <td>5175177.0</td>\n",
       "      <td>&gt;5m</td>\n",
       "      <td>Growth</td>\n",
       "      <td>0.07</td>\n",
       "      <td>...</td>\n",
       "      <td>1401612.0</td>\n",
       "      <td>1447465.0</td>\n",
       "      <td>0.0</td>\n",
       "      <td>0.0</td>\n",
       "      <td>0.0</td>\n",
       "      <td>12733285</td>\n",
       "      <td>12513615.0</td>\n",
       "      <td>12143108.0</td>\n",
       "      <td>&gt;10m</td>\n",
       "      <td>Very Low Risk</td>\n",
       "    </tr>\n",
       "    <tr>\n",
       "      <th>5</th>\n",
       "      <td>South East</td>\n",
       "      <td>08/05/1915</td>\n",
       "      <td>Manufacture computer, electronic, light electr...</td>\n",
       "      <td>2651</td>\n",
       "      <td>4617000</td>\n",
       "      <td>5083000.0</td>\n",
       "      <td>3569000.0</td>\n",
       "      <td>&lt;5m</td>\n",
       "      <td>Growth</td>\n",
       "      <td>-0.09</td>\n",
       "      <td>...</td>\n",
       "      <td>2013000.0</td>\n",
       "      <td>1798000.0</td>\n",
       "      <td>0.0</td>\n",
       "      <td>0.0</td>\n",
       "      <td>0.0</td>\n",
       "      <td>6856000</td>\n",
       "      <td>6506000.0</td>\n",
       "      <td>6301000.0</td>\n",
       "      <td>&gt;5m</td>\n",
       "      <td>Very Low Risk</td>\n",
       "    </tr>\n",
       "    <tr>\n",
       "      <th>6</th>\n",
       "      <td>South East</td>\n",
       "      <td>10/12/1932</td>\n",
       "      <td>Transportation and Storage</td>\n",
       "      <td>5210</td>\n",
       "      <td>8251122</td>\n",
       "      <td>6774171.0</td>\n",
       "      <td>8005323.0</td>\n",
       "      <td>&gt;5m</td>\n",
       "      <td>Steady</td>\n",
       "      <td>0.22</td>\n",
       "      <td>...</td>\n",
       "      <td>NaN</td>\n",
       "      <td>NaN</td>\n",
       "      <td>0.0</td>\n",
       "      <td>0.0</td>\n",
       "      <td>0.0</td>\n",
       "      <td>3869815</td>\n",
       "      <td>3456238.0</td>\n",
       "      <td>3095341.0</td>\n",
       "      <td>&lt;5m</td>\n",
       "      <td>Very Low Risk</td>\n",
       "    </tr>\n",
       "    <tr>\n",
       "      <th>7</th>\n",
       "      <td>London</td>\n",
       "      <td>15/04/1947</td>\n",
       "      <td>Business services</td>\n",
       "      <td>6612</td>\n",
       "      <td>2704000</td>\n",
       "      <td>2169000.0</td>\n",
       "      <td>3050000.0</td>\n",
       "      <td>&lt;5m</td>\n",
       "      <td>Decline</td>\n",
       "      <td>0.25</td>\n",
       "      <td>...</td>\n",
       "      <td>4345000.0</td>\n",
       "      <td>3363000.0</td>\n",
       "      <td>0.0</td>\n",
       "      <td>0.0</td>\n",
       "      <td>0.0</td>\n",
       "      <td>5534000</td>\n",
       "      <td>12682000.0</td>\n",
       "      <td>20211000.0</td>\n",
       "      <td>&gt;5m</td>\n",
       "      <td>Below Average Risk</td>\n",
       "    </tr>\n",
       "    <tr>\n",
       "      <th>8</th>\n",
       "      <td>East of England</td>\n",
       "      <td>28/12/1923</td>\n",
       "      <td>Construction (including development of real es...</td>\n",
       "      <td>4399</td>\n",
       "      <td>3660143</td>\n",
       "      <td>4675056.0</td>\n",
       "      <td>4138419.0</td>\n",
       "      <td>&lt;5m</td>\n",
       "      <td>Decline</td>\n",
       "      <td>-0.22</td>\n",
       "      <td>...</td>\n",
       "      <td>34000.0</td>\n",
       "      <td>25860.0</td>\n",
       "      <td>2828436.0</td>\n",
       "      <td>2049278.0</td>\n",
       "      <td>2139278.0</td>\n",
       "      <td>253559</td>\n",
       "      <td>515657.0</td>\n",
       "      <td>407457.0</td>\n",
       "      <td>&lt;5m</td>\n",
       "      <td>Low Risk</td>\n",
       "    </tr>\n",
       "    <tr>\n",
       "      <th>9</th>\n",
       "      <td>Yorkshire and The Humber</td>\n",
       "      <td>15/06/1966</td>\n",
       "      <td>Manufacture computer, electronic, light electr...</td>\n",
       "      <td>2651</td>\n",
       "      <td>7797000</td>\n",
       "      <td>6805000.0</td>\n",
       "      <td>7557000.0</td>\n",
       "      <td>&gt;5m</td>\n",
       "      <td>Steady</td>\n",
       "      <td>0.15</td>\n",
       "      <td>...</td>\n",
       "      <td>472000.0</td>\n",
       "      <td>284000.0</td>\n",
       "      <td>0.0</td>\n",
       "      <td>0.0</td>\n",
       "      <td>0.0</td>\n",
       "      <td>9290000</td>\n",
       "      <td>8852000.0</td>\n",
       "      <td>9518000.0</td>\n",
       "      <td>&gt;5m</td>\n",
       "      <td>Very Low Risk</td>\n",
       "    </tr>\n",
       "  </tbody>\n",
       "</table>\n",
       "<p>10 rows × 103 columns</p>\n",
       "</div>"
      ],
      "text/plain": [
       "                   Location Date of Incorporation  \\\n",
       "0                    London            23/12/1936   \n",
       "1                South West            23/10/1975   \n",
       "2                       NaN            13/01/1926   \n",
       "3           East of England            06/10/1947   \n",
       "4           East of England            23/10/1956   \n",
       "5                South East            08/05/1915   \n",
       "6                South East            10/12/1932   \n",
       "7                    London            15/04/1947   \n",
       "8           East of England            28/12/1923   \n",
       "9  Yorkshire and The Humber            15/06/1966   \n",
       "\n",
       "                                        SIC Industry  SIC short  \\\n",
       "0                           Other Service activities       9609   \n",
       "1                                  Business services       8020   \n",
       "2  Wholesale and retail,motor vehicle repair,sale...       4624   \n",
       "3                            All other Manufacturing       3250   \n",
       "4                            All other Manufacturing       3109   \n",
       "5  Manufacture computer, electronic, light electr...       2651   \n",
       "6                         Transportation and Storage       5210   \n",
       "7                                  Business services       6612   \n",
       "8  Construction (including development of real es...       4399   \n",
       "9  Manufacture computer, electronic, light electr...       2651   \n",
       "\n",
       "   Total Sales / Turnover (Period 1)  Total Sales / Turnover (Period 2)  \\\n",
       "0                            8578000                          7820000.0   \n",
       "1                            1610000                          1417000.0   \n",
       "2                            1631322                          2523817.0   \n",
       "3                            1045187                          1110000.0   \n",
       "4                            6199220                          5808238.0   \n",
       "5                            4617000                          5083000.0   \n",
       "6                            8251122                          6774171.0   \n",
       "7                            2704000                          2169000.0   \n",
       "8                            3660143                          4675056.0   \n",
       "9                            7797000                          6805000.0   \n",
       "\n",
       "   Total Sales / Turnover (Period 3) Turnover size 3 year Performance  \\\n",
       "0                          7956000.0           >5m             Growth   \n",
       "1                          1460000.0           <5m             Growth   \n",
       "2                          7284779.0           <5m            Decline   \n",
       "3                          2198000.0           <5m            Decline   \n",
       "4                          5175177.0           >5m             Growth   \n",
       "5                          3569000.0           <5m             Growth   \n",
       "6                          8005323.0           >5m             Steady   \n",
       "7                          3050000.0           <5m            Decline   \n",
       "8                          4138419.0           <5m            Decline   \n",
       "9                          7557000.0           >5m             Steady   \n",
       "\n",
       "   Growth in Total Sales (Period 1)          ...            \\\n",
       "0                              0.10          ...             \n",
       "1                              0.14          ...             \n",
       "2                             -0.35          ...             \n",
       "3                             -0.06          ...             \n",
       "4                              0.07          ...             \n",
       "5                             -0.09          ...             \n",
       "6                              0.22          ...             \n",
       "7                              0.25          ...             \n",
       "8                             -0.22          ...             \n",
       "9                              0.15          ...             \n",
       "\n",
       "   Borrowings (current) (Period 2)  Borrowings (current) (Period 3)  \\\n",
       "0                         219000.0                         135000.0   \n",
       "1                         267000.0                       10962000.0   \n",
       "2                              NaN                              NaN   \n",
       "3                        6461000.0                        5535000.0   \n",
       "4                        1401612.0                        1447465.0   \n",
       "5                        2013000.0                        1798000.0   \n",
       "6                              NaN                              NaN   \n",
       "7                        4345000.0                        3363000.0   \n",
       "8                          34000.0                          25860.0   \n",
       "9                         472000.0                         284000.0   \n",
       "\n",
       "   Borrowings (non-current) (Period 1)  Borrowings (non-current) (Period 2)  \\\n",
       "0                                  0.0                                  0.0   \n",
       "1                                  0.0                                  0.0   \n",
       "2                                  0.0                                  0.0   \n",
       "3                             293870.0                             252000.0   \n",
       "4                                  0.0                                  0.0   \n",
       "5                                  0.0                                  0.0   \n",
       "6                                  0.0                                  0.0   \n",
       "7                                  0.0                                  0.0   \n",
       "8                            2828436.0                            2049278.0   \n",
       "9                                  0.0                                  0.0   \n",
       "\n",
       "   Borrowings (non-current) (Period 3)  Total Net Assets (Period 1)  \\\n",
       "0                                  0.0                     17671000   \n",
       "1                                  0.0                      2394000   \n",
       "2                                  0.0                       712458   \n",
       "3                             252000.0                     -8256816   \n",
       "4                                  0.0                     12733285   \n",
       "5                                  0.0                      6856000   \n",
       "6                                  0.0                      3869815   \n",
       "7                                  0.0                      5534000   \n",
       "8                            2139278.0                       253559   \n",
       "9                                  0.0                      9290000   \n",
       "\n",
       "   Total Net Assets (Period 2)  Total Net Assets (Period 3)  Net Asset Size  \\\n",
       "0                   16394000.0                   15606000.0            >15m   \n",
       "1                    2160000.0                    1271000.0             <5m   \n",
       "2                     635115.0                     563399.0             <5m   \n",
       "3                   -5644000.0                   -3789000.0             <5m   \n",
       "4                   12513615.0                   12143108.0            >10m   \n",
       "5                    6506000.0                    6301000.0             >5m   \n",
       "6                    3456238.0                    3095341.0             <5m   \n",
       "7                   12682000.0                   20211000.0             >5m   \n",
       "8                     515657.0                     407457.0             <5m   \n",
       "9                    8852000.0                    9518000.0             >5m   \n",
       "\n",
       "   Comm Delphi Score Cur  \n",
       "0          Very Low Risk  \n",
       "1          Very Low Risk  \n",
       "2  Risk Score Suppressed  \n",
       "3           Maximum Risk  \n",
       "4          Very Low Risk  \n",
       "5          Very Low Risk  \n",
       "6          Very Low Risk  \n",
       "7     Below Average Risk  \n",
       "8               Low Risk  \n",
       "9          Very Low Risk  \n",
       "\n",
       "[10 rows x 103 columns]"
      ]
     },
     "execution_count": 10,
     "metadata": {},
     "output_type": "execute_result"
    }
   ],
   "source": [
    "data.head(10)"
   ]
  },
  {
   "cell_type": "code",
   "execution_count": 11,
   "metadata": {},
   "outputs": [
    {
     "name": "stdout",
     "output_type": "stream",
     "text": [
      "Export Sales (Period 3)                   17864\n",
      "Export Sales (Period 2)                   17419\n",
      "UK Sales (Period 3)                       17241\n",
      "Export Sales (Period 1)                   16990\n",
      "UK Sales (Period 2)                       16834\n",
      "UK Sales (Period 1)                       16410\n",
      "Trade Creditors/Debtors (Period 3)        12930\n",
      "Total Sales per Employee (Period 3)       11824\n",
      "Gross Profit (Period 3)                   11285\n",
      "Trade Creditors/Debtors (Period 2)        11281\n",
      "Trade Creditors/Debtors (Period 1)        10981\n",
      "Total Sales per Employee (Period 2)       10066\n",
      "Gross Profit (Period 2)                    9187\n",
      "Total Sales per Employee (Period 1)        8457\n",
      "Employee Size                              8457\n",
      "Growth in Total Sales (Period 3)           8307\n",
      "Trade Debtors (Period 3)                   8015\n",
      "Number of Employees (Period 3)             7778\n",
      "Gross Profit (Period 1)                    7304\n",
      "Raw Materials / Stocks (Period 3)          6620\n",
      "Work in Progress (Period 3)                6620\n",
      "Trade Payables (Period 3)                  6256\n",
      "Trade Debtors (Period 2)                   6229\n",
      "Borrowings (current) (Period 3)            6085\n",
      "Growth in Total Sales (Period 2)           5883\n",
      "Trade Debtors (Period 1)                   5705\n",
      "Work in Progress (Period 2)                5600\n",
      "Raw Materials / Stocks (Period 2)          5599\n",
      "Number of Employees (Period 2)             5338\n",
      "Trade And Other Payables (Period 3)        5177\n",
      "                                          ...  \n",
      "Trade And Other Receivables (Period 3)     1692\n",
      "Intangible Assets (Period 3)               1618\n",
      "Working Capital (Period 3)                 1610\n",
      "Property, Plant & Equipment (Period 3)     1586\n",
      "Location                                   1574\n",
      "Total Net Assets (Period 3)                1556\n",
      "Total Cost of Sales (Period 3)             1554\n",
      "Dividends Paid (Period 3)                  1554\n",
      "Inventories (Period 2)                     1287\n",
      "Cash At Bank (Period 2)                    1182\n",
      "Borrowings (non-current) (Period 1)        1045\n",
      "Capital Employed (Period 2)                 977\n",
      "Trade And Other Receivables (Period 2)      789\n",
      "Intangible Assets (Period 2)                735\n",
      "Working Capital (Period 2)                  715\n",
      "Property, Plant & Equipment (Period 2)      696\n",
      "Total Net Assets (Period 2)                 658\n",
      "Dividends Paid (Period 2)                   656\n",
      "Total Cost of Sales (Period 2)              656\n",
      "Inventories (Period 1)                      562\n",
      "Cash At Bank (Period 1)                     529\n",
      "Capital Employed (Period 1)                 350\n",
      "SIC Industry                                325\n",
      "Intangible Assets (Period 1)                194\n",
      "Working Capital/Total Sales (Period 1)      161\n",
      "Trade And Other Receivables (Period 1)      114\n",
      "Property, Plant & Equipment (Period 1)       81\n",
      "Working Capital (Period 1)                   58\n",
      "Profit Before Tax (Period 1)                  1\n",
      "Retained Profit (Period 1)                    1\n",
      "Length: 87, dtype: int64\n"
     ]
    }
   ],
   "source": [
    "print(empty_columns(data))"
   ]
  },
  {
   "cell_type": "markdown",
   "metadata": {},
   "source": [
    "Remove all features (columns) that have less than 25% information."
   ]
  },
  {
   "cell_type": "code",
   "execution_count": 12,
   "metadata": {},
   "outputs": [
    {
     "name": "stdout",
     "output_type": "stream",
     "text": [
      "Dimensions: (37621, 91)\n"
     ]
    }
   ],
   "source": [
    "data = data.loc[:, data.isnull().mean() <= .25]\n",
    "print(\"Dimensions: \" + str(data.shape))"
   ]
  },
  {
   "cell_type": "markdown",
   "metadata": {},
   "source": [
    "Convert dates to years of existance and take companies that exist the last 20 years."
   ]
  },
  {
   "cell_type": "code",
   "execution_count": 13,
   "metadata": {},
   "outputs": [
    {
     "name": "stdout",
     "output_type": "stream",
     "text": [
      "Dimensions: (20244, 91)\n"
     ]
    }
   ],
   "source": [
    "data['Date of Incorporation'] = pd.to_datetime(data['Date of Incorporation'])\n",
    "\n",
    "data['Date of Incorporation'] = abs(round(data['Date of Incorporation'].apply(lambda x:(datetime.today()-x).days)/365, 1))\n",
    "\n",
    "data['Date of Incorporation'] = (data['Date of Incorporation'].fillna(data['Date of Incorporation'].median()))\n",
    "\n",
    "data = data.loc[data['Date of Incorporation'] <= 20]\n",
    "\n",
    "print(\"Dimensions: \" + str(data.shape))"
   ]
  },
  {
   "cell_type": "markdown",
   "metadata": {},
   "source": [
    "Drop all rows that do not have all information in the columns 'Profitability', 'Turnover size', 'Net Asset Size', '3 year Performance', 'GP Movement', 'Export Mix', 'Employee Size' and 'Comm Delphi Score Cur'. These columns are very important (based on business logic). Moreover, remove all rows that have less than 80% of information"
   ]
  },
  {
   "cell_type": "code",
   "execution_count": 14,
   "metadata": {},
   "outputs": [
    {
     "name": "stdout",
     "output_type": "stream",
     "text": [
      "Dimensions: (11560, 91)\n"
     ]
    }
   ],
   "source": [
    "data = data.dropna(subset=['Profitability', 'Turnover size', 'Net Asset Size', '3 year Performance', 'GP Movement', 'Export Mix', 'Employee Size', 'Comm Delphi Score Cur'])\n",
    "\n",
    "data = data.dropna(thresh=math.floor(len(data.columns)*0.8))\n",
    "\n",
    "print(\"Dimensions: \" + str(data.shape))"
   ]
  },
  {
   "cell_type": "markdown",
   "metadata": {},
   "source": [
    "Distribution of years 0-25. As we can see most of them exist at least 5 years."
   ]
  },
  {
   "cell_type": "code",
   "execution_count": 15,
   "metadata": {},
   "outputs": [
    {
     "ename": "AttributeError",
     "evalue": "'Series' object has no attribute 'iplot'",
     "output_type": "error",
     "traceback": [
      "\u001b[1;31m---------------------------------------------------------------------------\u001b[0m",
      "\u001b[1;31mAttributeError\u001b[0m                            Traceback (most recent call last)",
      "\u001b[1;32m<ipython-input-15-1a86561b5d4f>\u001b[0m in \u001b[0;36m<module>\u001b[1;34m\u001b[0m\n\u001b[1;32m----> 1\u001b[1;33m \u001b[0mdata\u001b[0m\u001b[1;33m[\u001b[0m\u001b[1;34m'Date of Incorporation'\u001b[0m\u001b[1;33m]\u001b[0m\u001b[1;33m.\u001b[0m\u001b[0miplot\u001b[0m\u001b[1;33m(\u001b[0m\u001b[0mkind\u001b[0m\u001b[1;33m=\u001b[0m\u001b[1;34m'hist'\u001b[0m\u001b[1;33m,\u001b[0m \u001b[0mxTitle\u001b[0m\u001b[1;33m=\u001b[0m\u001b[1;34m'Years'\u001b[0m\u001b[1;33m,\u001b[0m \u001b[0myTitle\u001b[0m\u001b[1;33m=\u001b[0m\u001b[1;34m'count'\u001b[0m\u001b[1;33m,\u001b[0m \u001b[0mtitle\u001b[0m\u001b[1;33m=\u001b[0m\u001b[1;34m'Years of existance'\u001b[0m\u001b[1;33m)\u001b[0m\u001b[1;33m\u001b[0m\u001b[1;33m\u001b[0m\u001b[0m\n\u001b[0m",
      "\u001b[1;32mc:\\users\\manos\\appdata\\local\\programs\\python\\python36\\lib\\site-packages\\pandas\\core\\generic.py\u001b[0m in \u001b[0;36m__getattr__\u001b[1;34m(self, name)\u001b[0m\n\u001b[0;32m   4374\u001b[0m             \u001b[1;32mif\u001b[0m \u001b[0mself\u001b[0m\u001b[1;33m.\u001b[0m\u001b[0m_info_axis\u001b[0m\u001b[1;33m.\u001b[0m\u001b[0m_can_hold_identifiers_and_holds_name\u001b[0m\u001b[1;33m(\u001b[0m\u001b[0mname\u001b[0m\u001b[1;33m)\u001b[0m\u001b[1;33m:\u001b[0m\u001b[1;33m\u001b[0m\u001b[1;33m\u001b[0m\u001b[0m\n\u001b[0;32m   4375\u001b[0m                 \u001b[1;32mreturn\u001b[0m \u001b[0mself\u001b[0m\u001b[1;33m[\u001b[0m\u001b[0mname\u001b[0m\u001b[1;33m]\u001b[0m\u001b[1;33m\u001b[0m\u001b[1;33m\u001b[0m\u001b[0m\n\u001b[1;32m-> 4376\u001b[1;33m             \u001b[1;32mreturn\u001b[0m \u001b[0mobject\u001b[0m\u001b[1;33m.\u001b[0m\u001b[0m__getattribute__\u001b[0m\u001b[1;33m(\u001b[0m\u001b[0mself\u001b[0m\u001b[1;33m,\u001b[0m \u001b[0mname\u001b[0m\u001b[1;33m)\u001b[0m\u001b[1;33m\u001b[0m\u001b[1;33m\u001b[0m\u001b[0m\n\u001b[0m\u001b[0;32m   4377\u001b[0m \u001b[1;33m\u001b[0m\u001b[0m\n\u001b[0;32m   4378\u001b[0m     \u001b[1;32mdef\u001b[0m \u001b[0m__setattr__\u001b[0m\u001b[1;33m(\u001b[0m\u001b[0mself\u001b[0m\u001b[1;33m,\u001b[0m \u001b[0mname\u001b[0m\u001b[1;33m,\u001b[0m \u001b[0mvalue\u001b[0m\u001b[1;33m)\u001b[0m\u001b[1;33m:\u001b[0m\u001b[1;33m\u001b[0m\u001b[1;33m\u001b[0m\u001b[0m\n",
      "\u001b[1;31mAttributeError\u001b[0m: 'Series' object has no attribute 'iplot'"
     ]
    }
   ],
   "source": [
    "data['Date of Incorporation'].iplot(kind='hist', xTitle='Years', yTitle='count', title='Years of existance')"
   ]
  },
  {
   "cell_type": "markdown",
   "metadata": {},
   "source": [
    "Industry that they belong. Although it is not clear the name of each industry, we can see that some industries tend to have more businesses."
   ]
  },
  {
   "cell_type": "code",
   "execution_count": null,
   "metadata": {},
   "outputs": [],
   "source": [
    "data['SIC Industry'].iplot(kind='hist', xTitle='Industry', yTitle='count', title='Industries')"
   ]
  },
  {
   "cell_type": "markdown",
   "metadata": {},
   "source": [
    "Most of the business have at least 5m turnover."
   ]
  },
  {
   "cell_type": "code",
   "execution_count": null,
   "metadata": {},
   "outputs": [],
   "source": [
    "data['Turnover size'].iplot(kind='hist', xTitle='Turnover', yTitle='count', title='Turnover size')"
   ]
  },
  {
   "cell_type": "markdown",
   "metadata": {},
   "source": [
    "Distribution of total sales."
   ]
  },
  {
   "cell_type": "code",
   "execution_count": null,
   "metadata": {
    "scrolled": true
   },
   "outputs": [],
   "source": [
    "data['Total Sales / Turnover (Period 1)'].iplot(kind='hist', xTitle='Turnonver', yTitle='count', title='Total Sales / Turnover (Period 1)')"
   ]
  },
  {
   "cell_type": "code",
   "execution_count": null,
   "metadata": {},
   "outputs": [],
   "source": [
    "data['3 year Performance'].iplot(kind='hist', xTitle='Performance', yTitle='count', title='3 year Performance')"
   ]
  },
  {
   "cell_type": "markdown",
   "metadata": {},
   "source": [
    "The variable export Mix has a lot of outliers (probably)."
   ]
  },
  {
   "cell_type": "code",
   "execution_count": null,
   "metadata": {},
   "outputs": [],
   "source": [
    "data['Export Mix'].iplot(kind='hist', xTitle='Export', yTitle='count', title='Export Mix')"
   ]
  },
  {
   "cell_type": "markdown",
   "metadata": {},
   "source": [
    "Log values will not fix the problem."
   ]
  },
  {
   "cell_type": "code",
   "execution_count": null,
   "metadata": {},
   "outputs": [],
   "source": [
    "df = data.dropna()\n",
    "df['Export Mix'] = (df['Export Mix']*df['Export Mix']+10)\n",
    "plot_log(df, 'Export Mix')"
   ]
  },
  {
   "cell_type": "code",
   "execution_count": null,
   "metadata": {
    "scrolled": true
   },
   "outputs": [],
   "source": [
    "plot_log(data, 'Date of Incorporation')"
   ]
  },
  {
   "cell_type": "code",
   "execution_count": null,
   "metadata": {},
   "outputs": [],
   "source": [
    "data['GP Movement'].iplot(kind='hist', xTitle='GP', yTitle='count', title='GP Movement')"
   ]
  },
  {
   "cell_type": "markdown",
   "metadata": {},
   "source": [
    "There are outliers in the GP% variable."
   ]
  },
  {
   "cell_type": "code",
   "execution_count": null,
   "metadata": {
    "scrolled": true
   },
   "outputs": [],
   "source": [
    "data['GP% 1'].iplot(kind='hist', xTitle='GP%', yTitle='count', title='GP% 1')"
   ]
  },
  {
   "cell_type": "code",
   "execution_count": null,
   "metadata": {
    "scrolled": true
   },
   "outputs": [],
   "source": [
    "data['Profitability'].iplot(kind='hist', xTitle='Profitability', yTitle='count', title='Profitability')"
   ]
  },
  {
   "cell_type": "code",
   "execution_count": null,
   "metadata": {},
   "outputs": [],
   "source": [
    "data['Employee Size'].iplot(kind='hist', xTitle='Employee Size', yTitle='count', title='Employee Size')"
   ]
  },
  {
   "cell_type": "markdown",
   "metadata": {},
   "source": [
    "Number of employees variable seems ot have outliers"
   ]
  },
  {
   "cell_type": "code",
   "execution_count": null,
   "metadata": {
    "scrolled": false
   },
   "outputs": [],
   "source": [
    "data['Number of Employees (Period 1)'].iplot(kind='hist', xTitle='Number of Employees (Period 1)', yTitle='count', title='Number of Employees (Period 1)')"
   ]
  },
  {
   "cell_type": "code",
   "execution_count": null,
   "metadata": {},
   "outputs": [],
   "source": [
    "data['Net Asset Size'].iplot(kind='hist', xTitle='Net Asset Size', yTitle='count', title='Net Asset Size')"
   ]
  },
  {
   "cell_type": "markdown",
   "metadata": {},
   "source": [
    "Distribution of 'Total Net Assets (Period 1)'. The feature 'Total Net Assets (Period 1)' probably has outliers."
   ]
  },
  {
   "cell_type": "code",
   "execution_count": null,
   "metadata": {
    "scrolled": true
   },
   "outputs": [],
   "source": [
    "data['Total Net Assets (Period 1)'].iplot(kind='hist', xTitle='Total Net Assets (Period 1)', yTitle='count', title='Total Net Assets (Period 1)')"
   ]
  },
  {
   "cell_type": "code",
   "execution_count": null,
   "metadata": {},
   "outputs": [],
   "source": [
    "data['Comm Delphi Score Cur'].iplot(kind='hist', xTitle='Comm Delphi Score Cur', yTitle='count', title='Comm Delphi Score Cur')"
   ]
  },
  {
   "cell_type": "markdown",
   "metadata": {},
   "source": [
    "Distribution of 'Growth in Total Sales (Period 1)'. The feature 'Growth in Total Sales (Period 1)' probably has outliers."
   ]
  },
  {
   "cell_type": "code",
   "execution_count": null,
   "metadata": {},
   "outputs": [],
   "source": [
    "data['Growth in Total Sales (Period 1)'].iplot(kind='hist', xTitle='Growth in Total Sales (Period 1)', yTitle='count', title='Growth in Total Sales (Period 1)')"
   ]
  },
  {
   "cell_type": "markdown",
   "metadata": {},
   "source": [
    "### Group Categorical Values"
   ]
  },
  {
   "cell_type": "code",
   "execution_count": null,
   "metadata": {},
   "outputs": [],
   "source": [
    "plot_stack(data, ['Location', 'Turnover size'])"
   ]
  },
  {
   "cell_type": "code",
   "execution_count": null,
   "metadata": {},
   "outputs": [],
   "source": [
    "plot_stack(data, ['Location', '3 year Performance'])"
   ]
  },
  {
   "cell_type": "code",
   "execution_count": null,
   "metadata": {},
   "outputs": [],
   "source": [
    "plot_stack(data, ['Location', 'Profitability'])"
   ]
  },
  {
   "cell_type": "code",
   "execution_count": null,
   "metadata": {},
   "outputs": [],
   "source": [
    "plot_stack(data, ['Location', 'GP Movement'])"
   ]
  },
  {
   "cell_type": "code",
   "execution_count": null,
   "metadata": {},
   "outputs": [],
   "source": [
    "plot_stack(data, ['Location', 'Employee Size'])"
   ]
  },
  {
   "cell_type": "code",
   "execution_count": null,
   "metadata": {
    "scrolled": true
   },
   "outputs": [],
   "source": [
    "plot_stack(data, ['Location', 'Net Asset Size'])"
   ]
  },
  {
   "cell_type": "code",
   "execution_count": null,
   "metadata": {
    "scrolled": false
   },
   "outputs": [],
   "source": [
    "plot_stack(data, ['Location', 'Comm Delphi Score Cur'])"
   ]
  },
  {
   "cell_type": "code",
   "execution_count": null,
   "metadata": {},
   "outputs": [],
   "source": [
    "data['date'] = round(data['Date of Incorporation'], 0)"
   ]
  },
  {
   "cell_type": "code",
   "execution_count": null,
   "metadata": {},
   "outputs": [],
   "source": [
    "plot_stack(data, ['Location', 'date'])"
   ]
  },
  {
   "cell_type": "code",
   "execution_count": null,
   "metadata": {},
   "outputs": [],
   "source": [
    "plot_stack(data, ['date', 'Turnover size'])"
   ]
  },
  {
   "cell_type": "code",
   "execution_count": null,
   "metadata": {},
   "outputs": [],
   "source": [
    "plot_stack(data, ['date', '3 year Performance'])"
   ]
  },
  {
   "cell_type": "code",
   "execution_count": null,
   "metadata": {},
   "outputs": [],
   "source": [
    "plot_stack(data, ['date', 'GP Movement'])"
   ]
  },
  {
   "cell_type": "code",
   "execution_count": null,
   "metadata": {},
   "outputs": [],
   "source": [
    "plot_stack(data, ['date', 'Profitability'])"
   ]
  },
  {
   "cell_type": "code",
   "execution_count": null,
   "metadata": {},
   "outputs": [],
   "source": [
    "plot_stack(data, ['date', 'Employee Size'])"
   ]
  },
  {
   "cell_type": "code",
   "execution_count": null,
   "metadata": {},
   "outputs": [],
   "source": [
    "plot_stack(data, ['date', 'Net Asset Size'])"
   ]
  },
  {
   "cell_type": "code",
   "execution_count": null,
   "metadata": {},
   "outputs": [],
   "source": [
    "plot_stack(data, ['date', 'Comm Delphi Score Cur'])"
   ]
  },
  {
   "cell_type": "code",
   "execution_count": null,
   "metadata": {},
   "outputs": [],
   "source": [
    "plot_stack(data, ['Turnover size', '3 year Performance'])"
   ]
  },
  {
   "cell_type": "code",
   "execution_count": null,
   "metadata": {},
   "outputs": [],
   "source": [
    "plot_stack(data, ['Turnover size', 'GP Movement'])"
   ]
  },
  {
   "cell_type": "code",
   "execution_count": null,
   "metadata": {},
   "outputs": [],
   "source": [
    "plot_stack(data, ['Turnover size', 'Profitability'])"
   ]
  },
  {
   "cell_type": "code",
   "execution_count": null,
   "metadata": {},
   "outputs": [],
   "source": [
    "plot_stack(data, ['Turnover size', 'Employee Size'])"
   ]
  },
  {
   "cell_type": "code",
   "execution_count": null,
   "metadata": {},
   "outputs": [],
   "source": [
    "plot_stack(data, ['Turnover size', 'Net Asset Size'])"
   ]
  },
  {
   "cell_type": "code",
   "execution_count": null,
   "metadata": {},
   "outputs": [],
   "source": [
    "plot_stack(data, ['Turnover size', 'Comm Delphi Score Cur'])"
   ]
  },
  {
   "cell_type": "code",
   "execution_count": null,
   "metadata": {},
   "outputs": [],
   "source": [
    "plot_stack(data, ['3 year Performance', 'GP Movement'])"
   ]
  },
  {
   "cell_type": "code",
   "execution_count": null,
   "metadata": {},
   "outputs": [],
   "source": [
    "plot_stack(data, ['3 year Performance', 'Profitability'])"
   ]
  },
  {
   "cell_type": "code",
   "execution_count": null,
   "metadata": {},
   "outputs": [],
   "source": [
    "plot_stack(data, ['3 year Performance', 'Employee Size'])"
   ]
  },
  {
   "cell_type": "code",
   "execution_count": null,
   "metadata": {},
   "outputs": [],
   "source": [
    "plot_stack(data, ['3 year Performance', 'Net Asset Size'])"
   ]
  },
  {
   "cell_type": "code",
   "execution_count": null,
   "metadata": {},
   "outputs": [],
   "source": [
    "plot_stack(data, ['3 year Performance', 'Comm Delphi Score Cur'])"
   ]
  },
  {
   "cell_type": "code",
   "execution_count": null,
   "metadata": {},
   "outputs": [],
   "source": [
    "plot_stack(data, ['GP Movement', 'Profitability'])"
   ]
  },
  {
   "cell_type": "code",
   "execution_count": null,
   "metadata": {},
   "outputs": [],
   "source": [
    "plot_stack(data, ['GP Movement', 'Employee Size'])"
   ]
  },
  {
   "cell_type": "code",
   "execution_count": null,
   "metadata": {},
   "outputs": [],
   "source": [
    "plot_stack(data, ['GP Movement', 'Net Asset Size'])"
   ]
  },
  {
   "cell_type": "code",
   "execution_count": null,
   "metadata": {},
   "outputs": [],
   "source": [
    "plot_stack(data, ['GP Movement', 'Comm Delphi Score Cur'])"
   ]
  },
  {
   "cell_type": "code",
   "execution_count": null,
   "metadata": {},
   "outputs": [],
   "source": [
    "plot_stack(data, ['Profitability', 'Employee Size'])"
   ]
  },
  {
   "cell_type": "code",
   "execution_count": null,
   "metadata": {},
   "outputs": [],
   "source": [
    "plot_stack(data, ['Profitability', 'Net Asset Size'])"
   ]
  },
  {
   "cell_type": "code",
   "execution_count": null,
   "metadata": {},
   "outputs": [],
   "source": [
    "plot_stack(data, ['Profitability', 'Comm Delphi Score Cur'])"
   ]
  },
  {
   "cell_type": "code",
   "execution_count": null,
   "metadata": {},
   "outputs": [],
   "source": [
    "plot_stack(data, ['Employee Size', 'Net Asset Size'])"
   ]
  },
  {
   "cell_type": "code",
   "execution_count": null,
   "metadata": {},
   "outputs": [],
   "source": [
    "plot_stack(data, ['Employee Size', 'Comm Delphi Score Cur'])"
   ]
  },
  {
   "cell_type": "markdown",
   "metadata": {},
   "source": [
    "The rest of the variables did not give any value information or the information is redudant, so these features are removed."
   ]
  },
  {
   "cell_type": "markdown",
   "metadata": {},
   "source": [
    "### Identify outliers\n",
    "\n",
    "The features that will be checked for outliers. IQR and boxplots will be used to detect outliers.\n",
    "\n",
    "'Export Mix'\n",
    "'GP% 1'\n",
    "'Number of Employees (Period 1)'\n",
    "'Total Net Assets (Period 1)"
   ]
  },
  {
   "cell_type": "markdown",
   "metadata": {},
   "source": [
    "### Z-score\n",
    "\n",
    "Print all unique outlier values for each variable"
   ]
  },
  {
   "cell_type": "code",
   "execution_count": null,
   "metadata": {},
   "outputs": [],
   "source": [
    "colnames = ['Export Mix', 'GP% 1', 'Number of Employees (Period 1)', 'Total Net Assets (Period 1)']\n",
    "\n",
    "for col in colnames:\n",
    "    print(str(col) + \": \")\n",
    "    print(detect_zscore_outliers(data[col], True))\n",
    "    print(\"  ----end----  \")"
   ]
  },
  {
   "cell_type": "markdown",
   "metadata": {},
   "source": [
    "### Boxplots"
   ]
  },
  {
   "cell_type": "code",
   "execution_count": null,
   "metadata": {
    "scrolled": true
   },
   "outputs": [],
   "source": [
    "data['Total Net Assets (Period 1)'].iplot(kind='box', xTitle='claps', yTitle='count', title='Total Net Assets (Period 1)')"
   ]
  },
  {
   "cell_type": "code",
   "execution_count": null,
   "metadata": {
    "scrolled": true
   },
   "outputs": [],
   "source": [
    "data['GP% 1'].iplot(kind='box', xTitle='GP% 1', yTitle='count', title='GP% 1')"
   ]
  },
  {
   "cell_type": "code",
   "execution_count": null,
   "metadata": {},
   "outputs": [],
   "source": [
    "data['Number of Employees (Period 1)'].iplot(kind='box', xTitle='Number of Employees (Period 1)', yTitle='count', title='Number of Employees (Period 1)')"
   ]
  },
  {
   "cell_type": "code",
   "execution_count": null,
   "metadata": {},
   "outputs": [],
   "source": [
    "data['Total Net Assets (Period 1)'].iplot(kind='box', xTitle='Total Net Assets (Period 1)', yTitle='count', title='Total Net Assets (Period 1)')"
   ]
  },
  {
   "cell_type": "markdown",
   "metadata": {},
   "source": [
    "In Engineering there is some EDA, after transforming the values and picking features."
   ]
  },
  {
   "cell_type": "code",
   "execution_count": null,
   "metadata": {},
   "outputs": [],
   "source": []
  }
 ],
 "metadata": {
  "kernelspec": {
   "display_name": "Python 3",
   "language": "python",
   "name": "python3"
  },
  "language_info": {
   "codemirror_mode": {
    "name": "ipython",
    "version": 3
   },
   "file_extension": ".py",
   "mimetype": "text/x-python",
   "name": "python",
   "nbconvert_exporter": "python",
   "pygments_lexer": "ipython3",
   "version": "3.6.7rc1"
  }
 },
 "nbformat": 4,
 "nbformat_minor": 2
}
