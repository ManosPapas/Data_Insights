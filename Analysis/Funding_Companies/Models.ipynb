{
 "cells": [
  {
   "cell_type": "markdown",
   "metadata": {},
   "source": [
    "# Models & Evaluation"
   ]
  },
  {
   "cell_type": "code",
   "execution_count": 1,
   "metadata": {
    "scrolled": true
   },
   "outputs": [
    {
     "data": {
      "text/html": [
       "<style>.container { width:100% !important; }</style>"
      ],
      "text/plain": [
       "<IPython.core.display.HTML object>"
      ]
     },
     "metadata": {},
     "output_type": "display_data"
    },
    {
     "data": {
      "text/html": [
       "<style>.container { width:100% !important; }</style>"
      ],
      "text/plain": [
       "<IPython.core.display.HTML object>"
      ]
     },
     "metadata": {},
     "output_type": "display_data"
    },
    {
     "data": {
      "text/html": [
       "<style>.container { width:100% !important; }</style>"
      ],
      "text/plain": [
       "<IPython.core.display.HTML object>"
      ]
     },
     "metadata": {},
     "output_type": "display_data"
    },
    {
     "data": {
      "text/html": [
       "        <script type=\"text/javascript\">\n",
       "        window.PlotlyConfig = {MathJaxConfig: 'local'};\n",
       "        if (window.MathJax) {MathJax.Hub.Config({SVG: {font: \"STIX-Web\"}});}\n",
       "        if (typeof require !== 'undefined') {\n",
       "        require.undef(\"plotly\");\n",
       "        requirejs.config({\n",
       "            paths: {\n",
       "                'plotly': ['https://cdn.plot.ly/plotly-latest.min']\n",
       "            }\n",
       "        });\n",
       "        require(['plotly'], function(Plotly) {\n",
       "            window._Plotly = Plotly;\n",
       "        });\n",
       "        }\n",
       "        </script>\n",
       "        "
      ]
     },
     "metadata": {},
     "output_type": "display_data"
    },
    {
     "data": {
      "text/html": [
       "        <script type=\"text/javascript\">\n",
       "        window.PlotlyConfig = {MathJaxConfig: 'local'};\n",
       "        if (window.MathJax) {MathJax.Hub.Config({SVG: {font: \"STIX-Web\"}});}\n",
       "        if (typeof require !== 'undefined') {\n",
       "        require.undef(\"plotly\");\n",
       "        requirejs.config({\n",
       "            paths: {\n",
       "                'plotly': ['https://cdn.plot.ly/plotly-latest.min']\n",
       "            }\n",
       "        });\n",
       "        require(['plotly'], function(Plotly) {\n",
       "            window._Plotly = Plotly;\n",
       "        });\n",
       "        }\n",
       "        </script>\n",
       "        "
      ]
     },
     "metadata": {},
     "output_type": "display_data"
    },
    {
     "data": {
      "text/html": [
       "<style>.container { width:100% !important; }</style>"
      ],
      "text/plain": [
       "<IPython.core.display.HTML object>"
      ]
     },
     "metadata": {},
     "output_type": "display_data"
    },
    {
     "data": {
      "text/html": [
       "<style>.container { width:100% !important; }</style>"
      ],
      "text/plain": [
       "<IPython.core.display.HTML object>"
      ]
     },
     "metadata": {},
     "output_type": "display_data"
    },
    {
     "data": {
      "text/html": [
       "<style>.container { width:100% !important; }</style>"
      ],
      "text/plain": [
       "<IPython.core.display.HTML object>"
      ]
     },
     "metadata": {},
     "output_type": "display_data"
    }
   ],
   "source": [
    "%run \"../../Libraries/Display.ipynb\"\n",
    "%run \"../../Libraries/Standard.ipynb\"\n",
    "%run \"../../Libraries/Modelling.ipynb\"\n",
    "%run \"../../Libraries/Style.ipynb\"\n",
    "%run \"../../Core/Standard.ipynb\"\n",
    "%run \"../../Core/Engineering.ipynb\"\n",
    "%run \"../../Core/Modelling.ipynb\""
   ]
  },
  {
   "cell_type": "markdown",
   "metadata": {},
   "source": [
    "### Initial Values"
   ]
  },
  {
   "cell_type": "code",
   "execution_count": 2,
   "metadata": {},
   "outputs": [],
   "source": [
    "apply_log_transform = False # Notice: No transformation has been done for the feature that we want to predict!\n",
    "\n",
    "apply_RFR = [True, True, True]\n",
    "\n",
    "apply_RFC = [True, True, True]\n",
    "\n",
    "apply_DTree = [True, True, True]\n",
    "\n",
    "apply_SVR = [True, True, True]\n",
    "\n",
    "apply_GBoost = [True, True, True]\n",
    "\n",
    "apply_KRR = [True, True, True]\n",
    "\n",
    "apply_stack_models = [True, True, True]"
   ]
  },
  {
   "cell_type": "code",
   "execution_count": 3,
   "metadata": {},
   "outputs": [],
   "source": [
    "%store -r predict\n",
    "\n",
    "%store -r final\n",
    "\n",
    "%store -r data\n",
    "\n",
    "df = final"
   ]
  },
  {
   "cell_type": "code",
   "execution_count": 4,
   "metadata": {},
   "outputs": [
    {
     "name": "stdout",
     "output_type": "stream",
     "text": [
      "Profitability\n"
     ]
    }
   ],
   "source": [
    "print(predict)"
   ]
  },
  {
   "cell_type": "code",
   "execution_count": 5,
   "metadata": {},
   "outputs": [],
   "source": [
    "if apply_log_transform: df[predict] = np.log(df[predict])"
   ]
  },
  {
   "cell_type": "code",
   "execution_count": 6,
   "metadata": {
    "scrolled": true
   },
   "outputs": [
    {
     "name": "stdout",
     "output_type": "stream",
     "text": [
      "Dimensions: (2175, 6)\n"
     ]
    },
    {
     "data": {
      "text/html": [
       "<div>\n",
       "<style scoped>\n",
       "    .dataframe tbody tr th:only-of-type {\n",
       "        vertical-align: middle;\n",
       "    }\n",
       "\n",
       "    .dataframe tbody tr th {\n",
       "        vertical-align: top;\n",
       "    }\n",
       "\n",
       "    .dataframe thead th {\n",
       "        text-align: right;\n",
       "    }\n",
       "</style>\n",
       "<table border=\"1\" class=\"dataframe\">\n",
       "  <thead>\n",
       "    <tr style=\"text-align: right;\">\n",
       "      <th></th>\n",
       "      <th>Turnover size</th>\n",
       "      <th>GP% 1</th>\n",
       "      <th>Number of Employees (Period 1)</th>\n",
       "      <th>working Capital/total sales</th>\n",
       "      <th>Total Sales per Employee (Period 1)</th>\n",
       "      <th>Profitability</th>\n",
       "    </tr>\n",
       "  </thead>\n",
       "  <tbody>\n",
       "    <tr>\n",
       "      <th>0</th>\n",
       "      <td>3.888889e-01</td>\n",
       "      <td>0.416667</td>\n",
       "      <td>0.841270</td>\n",
       "      <td>0.070397</td>\n",
       "      <td>0.394949</td>\n",
       "      <td>1</td>\n",
       "    </tr>\n",
       "    <tr>\n",
       "      <th>1</th>\n",
       "      <td>3.888889e-01</td>\n",
       "      <td>0.311111</td>\n",
       "      <td>0.980392</td>\n",
       "      <td>0.242742</td>\n",
       "      <td>0.346296</td>\n",
       "      <td>1</td>\n",
       "    </tr>\n",
       "    <tr>\n",
       "      <th>2</th>\n",
       "      <td>3.888889e-01</td>\n",
       "      <td>0.600000</td>\n",
       "      <td>0.478632</td>\n",
       "      <td>0.972149</td>\n",
       "      <td>0.640538</td>\n",
       "      <td>1</td>\n",
       "    </tr>\n",
       "    <tr>\n",
       "      <th>3</th>\n",
       "      <td>1.000000e-07</td>\n",
       "      <td>0.444444</td>\n",
       "      <td>0.452991</td>\n",
       "      <td>0.188922</td>\n",
       "      <td>0.262527</td>\n",
       "      <td>0</td>\n",
       "    </tr>\n",
       "    <tr>\n",
       "      <th>4</th>\n",
       "      <td>3.888889e-01</td>\n",
       "      <td>0.577778</td>\n",
       "      <td>0.686869</td>\n",
       "      <td>0.861824</td>\n",
       "      <td>0.500346</td>\n",
       "      <td>1</td>\n",
       "    </tr>\n",
       "  </tbody>\n",
       "</table>\n",
       "</div>"
      ],
      "text/plain": [
       "   Turnover size     GP% 1  Number of Employees (Period 1)  \\\n",
       "0   3.888889e-01  0.416667                        0.841270   \n",
       "1   3.888889e-01  0.311111                        0.980392   \n",
       "2   3.888889e-01  0.600000                        0.478632   \n",
       "3   1.000000e-07  0.444444                        0.452991   \n",
       "4   3.888889e-01  0.577778                        0.686869   \n",
       "\n",
       "   working Capital/total sales  Total Sales per Employee (Period 1)  \\\n",
       "0                     0.070397                             0.394949   \n",
       "1                     0.242742                             0.346296   \n",
       "2                     0.972149                             0.640538   \n",
       "3                     0.188922                             0.262527   \n",
       "4                     0.861824                             0.500346   \n",
       "\n",
       "   Profitability  \n",
       "0              1  \n",
       "1              1  \n",
       "2              1  \n",
       "3              0  \n",
       "4              1  "
      ]
     },
     "execution_count": 6,
     "metadata": {},
     "output_type": "execute_result"
    }
   ],
   "source": [
    "print(\"Dimensions: \" + str(df.shape))\n",
    "\n",
    "df.head()"
   ]
  },
  {
   "cell_type": "code",
   "execution_count": 7,
   "metadata": {},
   "outputs": [],
   "source": [
    "y = df[predict]\n",
    "\n",
    "X = df.drop(predict, axis=1)\n",
    "\n",
    "X_train, X_valid, y_train, y_valid = train_test_split(X, y, test_size=0.2)"
   ]
  },
  {
   "cell_type": "markdown",
   "metadata": {},
   "source": [
    "### Random Forest"
   ]
  },
  {
   "cell_type": "code",
   "execution_count": 8,
   "metadata": {},
   "outputs": [],
   "source": [
    "rf_estimators = 20"
   ]
  },
  {
   "cell_type": "code",
   "execution_count": 9,
   "metadata": {},
   "outputs": [
    {
     "name": "stdout",
     "output_type": "stream",
     "text": [
      "Best Model: RandomForestRegressor(bootstrap=True, criterion='mse', max_depth=None,\n",
      "           max_features='log2', max_leaf_nodes=None,\n",
      "           min_impurity_decrease=0.0, min_impurity_split=None,\n",
      "           min_samples_leaf=1, min_samples_split=10,\n",
      "           min_weight_fraction_leaf=0.0, n_estimators=15, n_jobs=None,\n",
      "           oob_score=False, random_state=None, verbose=0, warm_start=False)\n",
      " Best Score: 0.20679667273885655\n",
      " RMSE Score: 0.4360125609492772\n",
      " Cross Validation Score: 0.20288362529560028\n"
     ]
    },
    {
     "data": {
      "image/png": "[encoded data removed]",
      "text/plain": [
       "<Figure size 432x288 with 2 Axes>"
      ]
     },
     "metadata": {
      "needs_background": "light"
     },
     "output_type": "display_data"
    }
   ],
   "source": [
    "# Regressor\n",
    "if apply_RFR[0]:\n",
    "    try:    \n",
    "        RFR = joblib.load('Saved_Models/funding_companies_RFR_model.pkl')\n",
    "    except:\n",
    "        print(\"No such file!\")\n",
    "        \n",
    "if apply_RFR[1]:\n",
    "    parameters_rfg = {\"n_estimators\" : [5, 10, 15, 20], \"criterion\" : [\"mse\" , \"mae\"], \"min_samples_split\" : [2, 3, 5, 10], \"max_features\" : [\"auto\", \"log2\"]}\n",
    "\n",
    "    RFR = model_results(RandomForestRegressor(), parameters_rfg, X_train, y_train, X_valid, y_valid)\n",
    "\n",
    "    RFR[0].fit(X_train, y_train)\n",
    "    \n",
    "    if apply_RFR[2]: joblib.dump(RFR[0], 'Saved_Models/funding_companies_RFR_model.pkl')\n",
    "\n",
    "    plot_residuals(RandomForestRegressor(n_estimators=rf_estimators, criterion='mse'), X_train, y_train, X_valid, y_valid)"
   ]
  },
  {
   "cell_type": "code",
   "execution_count": 10,
   "metadata": {},
   "outputs": [
    {
     "name": "stdout",
     "output_type": "stream",
     "text": [
      "Best Model: RandomForestClassifier(bootstrap=True, class_weight=None, criterion='entropy',\n",
      "            max_depth=None, max_features='auto', max_leaf_nodes=None,\n",
      "            min_impurity_decrease=0.0, min_impurity_split=None,\n",
      "            min_samples_leaf=1, min_samples_split=10,\n",
      "            min_weight_fraction_leaf=0.0, n_estimators=10, n_jobs=None,\n",
      "            oob_score=False, random_state=None, verbose=0,\n",
      "            warm_start=False)\n",
      " Best Score: -0.1366837253827561\n",
      " RMSE Score: 0.5381962211069427\n",
      " Cross Validation Score: -0.18616033647283653\n"
     ]
    },
    {
     "name": "stderr",
     "output_type": "stream",
     "text": [
      "c:\\users\\manos\\appdata\\local\\programs\\python\\python36\\lib\\site-packages\\sklearn\\model_selection\\_search.py:841: DeprecationWarning:\n",
      "\n",
      "The default of the `iid` parameter will change from True to False in version 0.22 and will be removed in 0.24. This will change numeric results when test-set sizes are unequal.\n",
      "\n"
     ]
    },
    {
     "name": "stdout",
     "output_type": "stream",
     "text": [
      "Model: <class 'sklearn.model_selection._search.GridSearchCV'>\n",
      "[[ 664  152]\n",
      " [  78 1281]]\n",
      "\n",
      "\n",
      "Report\n",
      "              precision    recall  f1-score   support\n",
      "\n",
      "           0       0.69      0.59      0.63       179\n",
      "           1       0.74      0.82      0.78       256\n",
      "\n",
      "   micro avg       0.72      0.72      0.72       435\n",
      "   macro avg       0.71      0.70      0.70       435\n",
      "weighted avg       0.72      0.72      0.72       435\n",
      "\n",
      "\n",
      "\n"
     ]
    }
   ],
   "source": [
    "# Classifier\n",
    "if apply_RFC[0]:\n",
    "    try:\n",
    "        RFC = joblib.load('Saved_Models/funding_companies_RFC_model.pkl')\n",
    "    except:\n",
    "        print(\"No such file!\")\n",
    "        \n",
    "if apply_RFC[1]:\n",
    "    parameters_rfc = {\"n_estimators\" : [5, 10, 15, 20], \"criterion\" : [\"gini\", \"entropy\"], \"min_samples_split\" : [2, 3, 5, 10], \"max_features\" : [\"auto\", \"log2\"]}\n",
    "\n",
    "    RFC = model_results(RandomForestClassifier(), parameters_rfc, X_train, y_train, X_valid, y_valid)\n",
    "\n",
    "    RFC[0].fit(X_train, y_train)\n",
    "\n",
    "    if apply_RFC[2]: joblib.dump(RFC[0], 'Saved_Models/funding_companies_RFC_model.pkl')\n",
    "\n",
    "    metrics_confusion(RFC[0], X, y)\n",
    "\n",
    "    print(\"Report\")\n",
    "\n",
    "    classic_report(RFC[0], X_train, y_train, X_valid, y_valid)"
   ]
  },
  {
   "cell_type": "markdown",
   "metadata": {},
   "source": [
    "### Decision Tree"
   ]
  },
  {
   "cell_type": "code",
   "execution_count": 11,
   "metadata": {},
   "outputs": [
    {
     "name": "stdout",
     "output_type": "stream",
     "text": [
      "No such file!\n",
      "Best Model: DecisionTreeClassifier(class_weight=None, criterion='gini', max_depth=None,\n",
      "            max_features=None, max_leaf_nodes=None,\n",
      "            min_impurity_decrease=0.0, min_impurity_split=None,\n",
      "            min_samples_leaf=1, min_samples_split=2,\n",
      "            min_weight_fraction_leaf=0.0, presort=False, random_state=None,\n",
      "            splitter='best')\n",
      " Best Score: -0.5056533571256963\n",
      " RMSE Score: 0.5969269964413234\n",
      " Cross Validation Score: -0.4958232664482666\n",
      "Model: <class 'sklearn.model_selection._search.GridSearchCV'>\n",
      "[[ 816    0]\n",
      " [   1 1358]]\n",
      "\n",
      "\n",
      "Report\n",
      "              precision    recall  f1-score   support\n",
      "\n",
      "           0       0.57      0.55      0.56       179\n",
      "           1       0.69      0.71      0.70       256\n",
      "\n",
      "   micro avg       0.64      0.64      0.64       435\n",
      "   macro avg       0.63      0.63      0.63       435\n",
      "weighted avg       0.64      0.64      0.64       435\n",
      "\n",
      "\n",
      "\n"
     ]
    }
   ],
   "source": [
    "if apply_DTree[0]:\n",
    "    try:    \n",
    "        RFR = joblib.load('Saved_Models/funding_companies_Tree_model.pkl')\n",
    "    except:\n",
    "        print(\"No such file!\")\n",
    "        \n",
    "if apply_DTree[1]:\n",
    "    #parameters_dtree = {\"criterion\" : [\"mse\", \"friedman_mse\", \"mae\"], \"splitter\" : [\"best\", \"random\"], \"min_samples_split\" : [2, 3, 5, 10], \"max_features\" : [\"auto\", \"log2\"]}\n",
    "\n",
    "    DTree = model_results(DecisionTreeClassifier(), {}, X_train, y_train, X_valid, y_valid)\n",
    "\n",
    "    DTree[0].fit(X_train, y_train)\n",
    "    \n",
    "    if apply_DTree[2]: joblib.dump(DTree[0], 'Saved_Models/funding_companies_Dtree_model.pkl')\n",
    "\n",
    "    metrics_confusion(DTree[0], X, y)\n",
    "\n",
    "    print(\"Report\")\n",
    "\n",
    "    classic_report(DTree[0], X_train, y_train, X_valid, y_valid)"
   ]
  },
  {
   "cell_type": "markdown",
   "metadata": {},
   "source": [
    "### Kernel Ridge"
   ]
  },
  {
   "cell_type": "code",
   "execution_count": 12,
   "metadata": {},
   "outputs": [
    {
     "name": "stdout",
     "output_type": "stream",
     "text": [
      "Best Model: KernelRidge(alpha=0.6, coef0=2.5, degree=3, gamma=None, kernel='polynomial',\n",
      "      kernel_params=None)\n",
      " Best Score: 0.2369507229579035\n",
      " RMSE Score: 0.43066334648555626\n",
      " Cross Validation Score: 0.24325980765387065\n"
     ]
    },
    {
     "data": {
      "image/png": "[encoded data removed]",
      "text/plain": [
       "<Figure size 432x288 with 2 Axes>"
      ]
     },
     "metadata": {
      "needs_background": "light"
     },
     "output_type": "display_data"
    }
   ],
   "source": [
    "if apply_KRR[0]:\n",
    "    try:\n",
    "        KRR_ = joblib.load('Saved_Models/funding_companies_KRR_model.pkl')\n",
    "    except:\n",
    "        print(\"No such file!\")\n",
    "        \n",
    "if apply_KRR[1]:\n",
    "    KRR = KernelRidge(alpha=0.6, kernel='polynomial', degree=3, coef0=2.5)\n",
    "\n",
    "    KRR_ = model_results(KRR, {}, X_train, y_train, X_valid, y_valid)\n",
    "\n",
    "    KRR_[0].fit(X_train, y_train)\n",
    "\n",
    "    if apply_KRR[2]: joblib.dump(KRR_[0], 'Saved_Models/funding_companies_KRR_model.pkl')\n",
    "\n",
    "    plot_residuals(KRR, X_train, y_train, X_valid, y_valid)"
   ]
  },
  {
   "cell_type": "markdown",
   "metadata": {},
   "source": [
    "### SVR"
   ]
  },
  {
   "cell_type": "code",
   "execution_count": 13,
   "metadata": {},
   "outputs": [
    {
     "name": "stdout",
     "output_type": "stream",
     "text": [
      "Best Model: SVR(C=1.2, cache_size=200, coef0=0.0, degree=3, epsilon=0.1,\n",
      "  gamma='auto_deprecated', kernel='poly', max_iter=-1, shrinking=True,\n",
      "  tol=0.001, verbose=False)\n",
      " Best Score: -0.019326199113953835\n",
      " RMSE Score: 0.5102606422086091\n",
      " Cross Validation Score: -0.012057248562654166\n"
     ]
    }
   ],
   "source": [
    "if apply_SVR[0]:\n",
    "    try:\n",
    "        SVR_ = joblib.load('Saved_Models/funding_companies_svr_model.pkl')\n",
    "    except:\n",
    "        print(\"No such file!\")\n",
    "\n",
    "if apply_SVR[1]:\n",
    "    SVR_ = SVR(C=1.2, kernel='poly')\n",
    "\n",
    "    svr = model_results(SVR_, {}, X_train, y_train, X_valid, y_valid)\n",
    "\n",
    "    svr[0].fit(X_train, y_train)\n",
    "\n",
    "    if apply_SVR[2]: joblib.dump(svr[0], 'Saved_Models/funding_companies_svr_model.pkl')"
   ]
  },
  {
   "cell_type": "markdown",
   "metadata": {},
   "source": [
    "### GBoost"
   ]
  },
  {
   "cell_type": "code",
   "execution_count": 14,
   "metadata": {},
   "outputs": [
    {
     "name": "stdout",
     "output_type": "stream",
     "text": [
      "Best Model: GradientBoostingRegressor(alpha=0.9, criterion='friedman_mse', init=None,\n",
      "             learning_rate=0.05, loss='huber', max_depth=7,\n",
      "             max_features='sqrt', max_leaf_nodes=None,\n",
      "             min_impurity_decrease=0.0, min_impurity_split=None,\n",
      "             min_samples_leaf=10, min_samples_split=5,\n",
      "             min_weight_fraction_leaf=0.0, n_estimators=20,\n",
      "             n_iter_no_change=None, presort='auto', random_state=3,\n",
      "             subsample=1.0, tol=0.0001, validation_fraction=0.1, verbose=0,\n",
      "             warm_start=False)\n",
      " Best Score: 0.12893452961491958\n",
      " RMSE Score: 0.46358133061932133\n",
      " Cross Validation Score: 0.13042027833935763\n"
     ]
    },
    {
     "data": {
      "image/png": "[encoded data removed]",
      "text/plain": [
       "<Figure size 432x288 with 2 Axes>"
      ]
     },
     "metadata": {
      "needs_background": "light"
     },
     "output_type": "display_data"
    }
   ],
   "source": [
    "if apply_GBoost[0]:\n",
    "    try:\n",
    "        GBoost = joblib.load('Saved_Models/funding_companies_GBoost_model.pkl')\n",
    "    except:\n",
    "        print(\"No such file!\")\n",
    "\n",
    "if apply_GBoost[1]:\n",
    "    GBoost = GradientBoostingRegressor(n_estimators=20, learning_rate=0.05, max_depth=7, max_features='sqrt', min_samples_leaf=10, min_samples_split=5, loss='huber', random_state =3)\n",
    "\n",
    "    GBoost_ = model_results(GBoost, {}, X_train, y_train, X_valid, y_valid)\n",
    "\n",
    "    GBoost_[0].fit(X_train, y_train)\n",
    "\n",
    "    if apply_GBoost[2]: joblib.dump(GBoost_[0], 'Saved_Models/funding_companies_GBoost_model.pkl')\n",
    "\n",
    "    plot_residuals(GBoost, X_train, y_train, X_valid, y_valid)"
   ]
  },
  {
   "cell_type": "markdown",
   "metadata": {},
   "source": [
    "### Stack Model"
   ]
  },
  {
   "cell_type": "code",
   "execution_count": 15,
   "metadata": {
    "scrolled": true
   },
   "outputs": [
    {
     "name": "stderr",
     "output_type": "stream",
     "text": [
      "c:\\users\\manos\\appdata\\local\\programs\\python\\python36\\lib\\site-packages\\sklearn\\base.py:251: UserWarning:\n",
      "\n",
      "Trying to unpickle estimator DecisionTreeRegressor from version 0.21.0 when using version 0.20.2. This might lead to breaking code or invalid results. Use at your own risk.\n",
      "\n",
      "c:\\users\\manos\\appdata\\local\\programs\\python\\python36\\lib\\site-packages\\sklearn\\base.py:251: UserWarning:\n",
      "\n",
      "Trying to unpickle estimator RandomForestRegressor from version 0.21.0 when using version 0.20.2. This might lead to breaking code or invalid results. Use at your own risk.\n",
      "\n",
      "c:\\users\\manos\\appdata\\local\\programs\\python\\python36\\lib\\site-packages\\sklearn\\base.py:251: UserWarning:\n",
      "\n",
      "Trying to unpickle estimator KernelRidge from version 0.21.0 when using version 0.20.2. This might lead to breaking code or invalid results. Use at your own risk.\n",
      "\n",
      "c:\\users\\manos\\appdata\\local\\programs\\python\\python36\\lib\\site-packages\\sklearn\\base.py:251: UserWarning:\n",
      "\n",
      "Trying to unpickle estimator GradientBoostingRegressor from version 0.21.0 when using version 0.20.2. This might lead to breaking code or invalid results. Use at your own risk.\n",
      "\n",
      "c:\\users\\manos\\appdata\\local\\programs\\python\\python36\\lib\\site-packages\\sklearn\\base.py:251: UserWarning:\n",
      "\n",
      "Trying to unpickle estimator SVR from version 0.21.0 when using version 0.20.2. This might lead to breaking code or invalid results. Use at your own risk.\n",
      "\n",
      "c:\\users\\manos\\appdata\\local\\programs\\python\\python36\\lib\\site-packages\\sklearn\\base.py:251: UserWarning:\n",
      "\n",
      "Trying to unpickle estimator DecisionTreeRegressor from version 0.21.0 when using version 0.20.2. This might lead to breaking code or invalid results. Use at your own risk.\n",
      "\n",
      "c:\\users\\manos\\appdata\\local\\programs\\python\\python36\\lib\\site-packages\\sklearn\\base.py:251: UserWarning:\n",
      "\n",
      "Trying to unpickle estimator RandomForestRegressor from version 0.21.0 when using version 0.20.2. This might lead to breaking code or invalid results. Use at your own risk.\n",
      "\n",
      "c:\\users\\manos\\appdata\\local\\programs\\python\\python36\\lib\\site-packages\\sklearn\\base.py:251: UserWarning:\n",
      "\n",
      "Trying to unpickle estimator KernelRidge from version 0.21.0 when using version 0.20.2. This might lead to breaking code or invalid results. Use at your own risk.\n",
      "\n",
      "c:\\users\\manos\\appdata\\local\\programs\\python\\python36\\lib\\site-packages\\sklearn\\base.py:251: UserWarning:\n",
      "\n",
      "Trying to unpickle estimator GradientBoostingRegressor from version 0.21.0 when using version 0.20.2. This might lead to breaking code or invalid results. Use at your own risk.\n",
      "\n",
      "c:\\users\\manos\\appdata\\local\\programs\\python\\python36\\lib\\site-packages\\sklearn\\base.py:251: UserWarning:\n",
      "\n",
      "Trying to unpickle estimator SVR from version 0.21.0 when using version 0.20.2. This might lead to breaking code or invalid results. Use at your own risk.\n",
      "\n",
      "c:\\users\\manos\\appdata\\local\\programs\\python\\python36\\lib\\site-packages\\sklearn\\base.py:251: UserWarning:\n",
      "\n",
      "Trying to unpickle estimator DecisionTreeRegressor from version 0.21.0 when using version 0.20.2. This might lead to breaking code or invalid results. Use at your own risk.\n",
      "\n"
     ]
    },
    {
     "name": "stdout",
     "output_type": "stream",
     "text": [
      "No such file!\n",
      "Best Model: StackingRegressor(meta_regressor=SVR(C=0.1, cache_size=200, coef0=0.0, degree=3, epsilon=0.1, gamma=0.1,\n",
      "  kernel='poly', max_iter=-1, shrinking=True, tol=0.001, verbose=False),\n",
      "         refit=True,\n",
      "         regressors=[RandomForestRegressor(bootstrap=True, criterion='mse', max_depth=None,\n",
      "           max_features='auto', max_leaf_nodes=None,\n",
      "           min_impurity_decrease=0.0, min_impurity_split=None,\n",
      "           min_samples_leaf=1, min_samples_split=2,\n",
      "           min_weight_fraction_leaf=0.0, n_estima...      subsample=1.0, tol=0.0001, validation_fraction=0.1, verbose=0,\n",
      "             warm_start=False)],\n",
      "         store_train_meta_features=False, use_features_in_secondary=False,\n",
      "         verbose=0)\n",
      " Best Score: 0.06686928874081215\n",
      " RMSE Score: 0.4595978168975465\n",
      " Cross Validation Score: 0.12731511668243933\n"
     ]
    },
    {
     "ename": "KeyboardInterrupt",
     "evalue": "",
     "output_type": "error",
     "traceback": [
      "\u001b[1;31m---------------------------------------------------------------------------\u001b[0m",
      "\u001b[1;31mKeyboardInterrupt\u001b[0m                         Traceback (most recent call last)",
      "\u001b[1;32m<ipython-input-15-168ed9a79ee2>\u001b[0m in \u001b[0;36m<module>\u001b[1;34m\u001b[0m\n\u001b[0;32m     21\u001b[0m     \u001b[0mgrid_stacked\u001b[0m \u001b[1;33m=\u001b[0m \u001b[0mmodel_results\u001b[0m\u001b[1;33m(\u001b[0m\u001b[0mensemble_model\u001b[0m\u001b[1;33m,\u001b[0m \u001b[0mparams\u001b[0m\u001b[1;33m,\u001b[0m \u001b[0mX_train\u001b[0m\u001b[1;33m,\u001b[0m \u001b[0my_train\u001b[0m\u001b[1;33m,\u001b[0m \u001b[0mX_valid\u001b[0m\u001b[1;33m,\u001b[0m \u001b[0my_valid\u001b[0m\u001b[1;33m)\u001b[0m\u001b[1;33m\u001b[0m\u001b[1;33m\u001b[0m\u001b[0m\n\u001b[0;32m     22\u001b[0m \u001b[1;33m\u001b[0m\u001b[0m\n\u001b[1;32m---> 23\u001b[1;33m     \u001b[0mgrid_stacked\u001b[0m\u001b[1;33m[\u001b[0m\u001b[1;36m0\u001b[0m\u001b[1;33m]\u001b[0m\u001b[1;33m.\u001b[0m\u001b[0mfit\u001b[0m\u001b[1;33m(\u001b[0m\u001b[0mX_train\u001b[0m\u001b[1;33m,\u001b[0m \u001b[0my_train\u001b[0m\u001b[1;33m)\u001b[0m\u001b[1;33m\u001b[0m\u001b[1;33m\u001b[0m\u001b[0m\n\u001b[0m\u001b[0;32m     24\u001b[0m     \u001b[1;31m##################################################################################################################################################################################\u001b[0m\u001b[1;33m\u001b[0m\u001b[1;33m\u001b[0m\u001b[1;33m\u001b[0m\u001b[0m\n\u001b[0;32m     25\u001b[0m     \u001b[1;31m# Save the model as a pickle in a file\u001b[0m\u001b[1;33m\u001b[0m\u001b[1;33m\u001b[0m\u001b[1;33m\u001b[0m\u001b[0m\n",
      "\u001b[1;32mc:\\users\\manos\\appdata\\local\\programs\\python\\python36\\lib\\site-packages\\sklearn\\model_selection\\_search.py\u001b[0m in \u001b[0;36mfit\u001b[1;34m(self, X, y, groups, **fit_params)\u001b[0m\n\u001b[0;32m    720\u001b[0m                 \u001b[1;32mreturn\u001b[0m \u001b[0mresults_container\u001b[0m\u001b[1;33m[\u001b[0m\u001b[1;36m0\u001b[0m\u001b[1;33m]\u001b[0m\u001b[1;33m\u001b[0m\u001b[1;33m\u001b[0m\u001b[0m\n\u001b[0;32m    721\u001b[0m \u001b[1;33m\u001b[0m\u001b[0m\n\u001b[1;32m--> 722\u001b[1;33m             \u001b[0mself\u001b[0m\u001b[1;33m.\u001b[0m\u001b[0m_run_search\u001b[0m\u001b[1;33m(\u001b[0m\u001b[0mevaluate_candidates\u001b[0m\u001b[1;33m)\u001b[0m\u001b[1;33m\u001b[0m\u001b[1;33m\u001b[0m\u001b[0m\n\u001b[0m\u001b[0;32m    723\u001b[0m \u001b[1;33m\u001b[0m\u001b[0m\n\u001b[0;32m    724\u001b[0m         \u001b[0mresults\u001b[0m \u001b[1;33m=\u001b[0m \u001b[0mresults_container\u001b[0m\u001b[1;33m[\u001b[0m\u001b[1;36m0\u001b[0m\u001b[1;33m]\u001b[0m\u001b[1;33m\u001b[0m\u001b[1;33m\u001b[0m\u001b[0m\n",
      "\u001b[1;32mc:\\users\\manos\\appdata\\local\\programs\\python\\python36\\lib\\site-packages\\sklearn\\model_selection\\_search.py\u001b[0m in \u001b[0;36m_run_search\u001b[1;34m(self, evaluate_candidates)\u001b[0m\n\u001b[0;32m   1189\u001b[0m     \u001b[1;32mdef\u001b[0m \u001b[0m_run_search\u001b[0m\u001b[1;33m(\u001b[0m\u001b[0mself\u001b[0m\u001b[1;33m,\u001b[0m \u001b[0mevaluate_candidates\u001b[0m\u001b[1;33m)\u001b[0m\u001b[1;33m:\u001b[0m\u001b[1;33m\u001b[0m\u001b[1;33m\u001b[0m\u001b[0m\n\u001b[0;32m   1190\u001b[0m         \u001b[1;34m\"\"\"Search all candidates in param_grid\"\"\"\u001b[0m\u001b[1;33m\u001b[0m\u001b[1;33m\u001b[0m\u001b[0m\n\u001b[1;32m-> 1191\u001b[1;33m         \u001b[0mevaluate_candidates\u001b[0m\u001b[1;33m(\u001b[0m\u001b[0mParameterGrid\u001b[0m\u001b[1;33m(\u001b[0m\u001b[0mself\u001b[0m\u001b[1;33m.\u001b[0m\u001b[0mparam_grid\u001b[0m\u001b[1;33m)\u001b[0m\u001b[1;33m)\u001b[0m\u001b[1;33m\u001b[0m\u001b[1;33m\u001b[0m\u001b[0m\n\u001b[0m\u001b[0;32m   1192\u001b[0m \u001b[1;33m\u001b[0m\u001b[0m\n\u001b[0;32m   1193\u001b[0m \u001b[1;33m\u001b[0m\u001b[0m\n",
      "\u001b[1;32mc:\\users\\manos\\appdata\\local\\programs\\python\\python36\\lib\\site-packages\\sklearn\\model_selection\\_search.py\u001b[0m in \u001b[0;36mevaluate_candidates\u001b[1;34m(candidate_params)\u001b[0m\n\u001b[0;32m    709\u001b[0m                                \u001b[1;32mfor\u001b[0m \u001b[0mparameters\u001b[0m\u001b[1;33m,\u001b[0m \u001b[1;33m(\u001b[0m\u001b[0mtrain\u001b[0m\u001b[1;33m,\u001b[0m \u001b[0mtest\u001b[0m\u001b[1;33m)\u001b[0m\u001b[1;33m\u001b[0m\u001b[1;33m\u001b[0m\u001b[0m\n\u001b[0;32m    710\u001b[0m                                in product(candidate_params,\n\u001b[1;32m--> 711\u001b[1;33m                                           cv.split(X, y, groups)))\n\u001b[0m\u001b[0;32m    712\u001b[0m \u001b[1;33m\u001b[0m\u001b[0m\n\u001b[0;32m    713\u001b[0m                 \u001b[0mall_candidate_params\u001b[0m\u001b[1;33m.\u001b[0m\u001b[0mextend\u001b[0m\u001b[1;33m(\u001b[0m\u001b[0mcandidate_params\u001b[0m\u001b[1;33m)\u001b[0m\u001b[1;33m\u001b[0m\u001b[1;33m\u001b[0m\u001b[0m\n",
      "\u001b[1;32mc:\\users\\manos\\appdata\\local\\programs\\python\\python36\\lib\\site-packages\\sklearn\\externals\\joblib\\parallel.py\u001b[0m in \u001b[0;36m__call__\u001b[1;34m(self, iterable)\u001b[0m\n\u001b[0;32m    928\u001b[0m \u001b[1;33m\u001b[0m\u001b[0m\n\u001b[0;32m    929\u001b[0m             \u001b[1;32mwith\u001b[0m \u001b[0mself\u001b[0m\u001b[1;33m.\u001b[0m\u001b[0m_backend\u001b[0m\u001b[1;33m.\u001b[0m\u001b[0mretrieval_context\u001b[0m\u001b[1;33m(\u001b[0m\u001b[1;33m)\u001b[0m\u001b[1;33m:\u001b[0m\u001b[1;33m\u001b[0m\u001b[1;33m\u001b[0m\u001b[0m\n\u001b[1;32m--> 930\u001b[1;33m                 \u001b[0mself\u001b[0m\u001b[1;33m.\u001b[0m\u001b[0mretrieve\u001b[0m\u001b[1;33m(\u001b[0m\u001b[1;33m)\u001b[0m\u001b[1;33m\u001b[0m\u001b[1;33m\u001b[0m\u001b[0m\n\u001b[0m\u001b[0;32m    931\u001b[0m             \u001b[1;31m# Make sure that we get a last message telling us we are done\u001b[0m\u001b[1;33m\u001b[0m\u001b[1;33m\u001b[0m\u001b[1;33m\u001b[0m\u001b[0m\n\u001b[0;32m    932\u001b[0m             \u001b[0melapsed_time\u001b[0m \u001b[1;33m=\u001b[0m \u001b[0mtime\u001b[0m\u001b[1;33m.\u001b[0m\u001b[0mtime\u001b[0m\u001b[1;33m(\u001b[0m\u001b[1;33m)\u001b[0m \u001b[1;33m-\u001b[0m \u001b[0mself\u001b[0m\u001b[1;33m.\u001b[0m\u001b[0m_start_time\u001b[0m\u001b[1;33m\u001b[0m\u001b[1;33m\u001b[0m\u001b[0m\n",
      "\u001b[1;32mc:\\users\\manos\\appdata\\local\\programs\\python\\python36\\lib\\site-packages\\sklearn\\externals\\joblib\\parallel.py\u001b[0m in \u001b[0;36mretrieve\u001b[1;34m(self)\u001b[0m\n\u001b[0;32m    831\u001b[0m             \u001b[1;32mtry\u001b[0m\u001b[1;33m:\u001b[0m\u001b[1;33m\u001b[0m\u001b[1;33m\u001b[0m\u001b[0m\n\u001b[0;32m    832\u001b[0m                 \u001b[1;32mif\u001b[0m \u001b[0mgetattr\u001b[0m\u001b[1;33m(\u001b[0m\u001b[0mself\u001b[0m\u001b[1;33m.\u001b[0m\u001b[0m_backend\u001b[0m\u001b[1;33m,\u001b[0m \u001b[1;34m'supports_timeout'\u001b[0m\u001b[1;33m,\u001b[0m \u001b[1;32mFalse\u001b[0m\u001b[1;33m)\u001b[0m\u001b[1;33m:\u001b[0m\u001b[1;33m\u001b[0m\u001b[1;33m\u001b[0m\u001b[0m\n\u001b[1;32m--> 833\u001b[1;33m                     \u001b[0mself\u001b[0m\u001b[1;33m.\u001b[0m\u001b[0m_output\u001b[0m\u001b[1;33m.\u001b[0m\u001b[0mextend\u001b[0m\u001b[1;33m(\u001b[0m\u001b[0mjob\u001b[0m\u001b[1;33m.\u001b[0m\u001b[0mget\u001b[0m\u001b[1;33m(\u001b[0m\u001b[0mtimeout\u001b[0m\u001b[1;33m=\u001b[0m\u001b[0mself\u001b[0m\u001b[1;33m.\u001b[0m\u001b[0mtimeout\u001b[0m\u001b[1;33m)\u001b[0m\u001b[1;33m)\u001b[0m\u001b[1;33m\u001b[0m\u001b[1;33m\u001b[0m\u001b[0m\n\u001b[0m\u001b[0;32m    834\u001b[0m                 \u001b[1;32melse\u001b[0m\u001b[1;33m:\u001b[0m\u001b[1;33m\u001b[0m\u001b[1;33m\u001b[0m\u001b[0m\n\u001b[0;32m    835\u001b[0m                     \u001b[0mself\u001b[0m\u001b[1;33m.\u001b[0m\u001b[0m_output\u001b[0m\u001b[1;33m.\u001b[0m\u001b[0mextend\u001b[0m\u001b[1;33m(\u001b[0m\u001b[0mjob\u001b[0m\u001b[1;33m.\u001b[0m\u001b[0mget\u001b[0m\u001b[1;33m(\u001b[0m\u001b[1;33m)\u001b[0m\u001b[1;33m)\u001b[0m\u001b[1;33m\u001b[0m\u001b[1;33m\u001b[0m\u001b[0m\n",
      "\u001b[1;32mc:\\users\\manos\\appdata\\local\\programs\\python\\python36\\lib\\site-packages\\sklearn\\externals\\joblib\\_parallel_backends.py\u001b[0m in \u001b[0;36mwrap_future_result\u001b[1;34m(future, timeout)\u001b[0m\n\u001b[0;32m    519\u001b[0m         AsyncResults.get from multiprocessing.\"\"\"\n\u001b[0;32m    520\u001b[0m         \u001b[1;32mtry\u001b[0m\u001b[1;33m:\u001b[0m\u001b[1;33m\u001b[0m\u001b[1;33m\u001b[0m\u001b[0m\n\u001b[1;32m--> 521\u001b[1;33m             \u001b[1;32mreturn\u001b[0m \u001b[0mfuture\u001b[0m\u001b[1;33m.\u001b[0m\u001b[0mresult\u001b[0m\u001b[1;33m(\u001b[0m\u001b[0mtimeout\u001b[0m\u001b[1;33m=\u001b[0m\u001b[0mtimeout\u001b[0m\u001b[1;33m)\u001b[0m\u001b[1;33m\u001b[0m\u001b[1;33m\u001b[0m\u001b[0m\n\u001b[0m\u001b[0;32m    522\u001b[0m         \u001b[1;32mexcept\u001b[0m \u001b[0mLokyTimeoutError\u001b[0m\u001b[1;33m:\u001b[0m\u001b[1;33m\u001b[0m\u001b[1;33m\u001b[0m\u001b[0m\n\u001b[0;32m    523\u001b[0m             \u001b[1;32mraise\u001b[0m \u001b[0mTimeoutError\u001b[0m\u001b[1;33m(\u001b[0m\u001b[1;33m)\u001b[0m\u001b[1;33m\u001b[0m\u001b[1;33m\u001b[0m\u001b[0m\n",
      "\u001b[1;32mc:\\users\\manos\\appdata\\local\\programs\\python\\python36\\lib\\concurrent\\futures\\_base.py\u001b[0m in \u001b[0;36mresult\u001b[1;34m(self, timeout)\u001b[0m\n\u001b[0;32m    425\u001b[0m                 \u001b[1;32mreturn\u001b[0m \u001b[0mself\u001b[0m\u001b[1;33m.\u001b[0m\u001b[0m__get_result\u001b[0m\u001b[1;33m(\u001b[0m\u001b[1;33m)\u001b[0m\u001b[1;33m\u001b[0m\u001b[1;33m\u001b[0m\u001b[0m\n\u001b[0;32m    426\u001b[0m \u001b[1;33m\u001b[0m\u001b[0m\n\u001b[1;32m--> 427\u001b[1;33m             \u001b[0mself\u001b[0m\u001b[1;33m.\u001b[0m\u001b[0m_condition\u001b[0m\u001b[1;33m.\u001b[0m\u001b[0mwait\u001b[0m\u001b[1;33m(\u001b[0m\u001b[0mtimeout\u001b[0m\u001b[1;33m)\u001b[0m\u001b[1;33m\u001b[0m\u001b[1;33m\u001b[0m\u001b[0m\n\u001b[0m\u001b[0;32m    428\u001b[0m \u001b[1;33m\u001b[0m\u001b[0m\n\u001b[0;32m    429\u001b[0m             \u001b[1;32mif\u001b[0m \u001b[0mself\u001b[0m\u001b[1;33m.\u001b[0m\u001b[0m_state\u001b[0m \u001b[1;32min\u001b[0m \u001b[1;33m[\u001b[0m\u001b[0mCANCELLED\u001b[0m\u001b[1;33m,\u001b[0m \u001b[0mCANCELLED_AND_NOTIFIED\u001b[0m\u001b[1;33m]\u001b[0m\u001b[1;33m:\u001b[0m\u001b[1;33m\u001b[0m\u001b[1;33m\u001b[0m\u001b[0m\n",
      "\u001b[1;32mc:\\users\\manos\\appdata\\local\\programs\\python\\python36\\lib\\threading.py\u001b[0m in \u001b[0;36mwait\u001b[1;34m(self, timeout)\u001b[0m\n\u001b[0;32m    293\u001b[0m         \u001b[1;32mtry\u001b[0m\u001b[1;33m:\u001b[0m    \u001b[1;31m# restore state no matter what (e.g., KeyboardInterrupt)\u001b[0m\u001b[1;33m\u001b[0m\u001b[1;33m\u001b[0m\u001b[0m\n\u001b[0;32m    294\u001b[0m             \u001b[1;32mif\u001b[0m \u001b[0mtimeout\u001b[0m \u001b[1;32mis\u001b[0m \u001b[1;32mNone\u001b[0m\u001b[1;33m:\u001b[0m\u001b[1;33m\u001b[0m\u001b[1;33m\u001b[0m\u001b[0m\n\u001b[1;32m--> 295\u001b[1;33m                 \u001b[0mwaiter\u001b[0m\u001b[1;33m.\u001b[0m\u001b[0macquire\u001b[0m\u001b[1;33m(\u001b[0m\u001b[1;33m)\u001b[0m\u001b[1;33m\u001b[0m\u001b[1;33m\u001b[0m\u001b[0m\n\u001b[0m\u001b[0;32m    296\u001b[0m                 \u001b[0mgotit\u001b[0m \u001b[1;33m=\u001b[0m \u001b[1;32mTrue\u001b[0m\u001b[1;33m\u001b[0m\u001b[1;33m\u001b[0m\u001b[0m\n\u001b[0;32m    297\u001b[0m             \u001b[1;32melse\u001b[0m\u001b[1;33m:\u001b[0m\u001b[1;33m\u001b[0m\u001b[1;33m\u001b[0m\u001b[0m\n",
      "\u001b[1;31mKeyboardInterrupt\u001b[0m: "
     ]
    }
   ],
   "source": [
    "if apply_stack_models[0]:\n",
    "    try:\n",
    "        grid_stacked = joblib.load('Saved_Models/funding_companies_stacking_regressor_model.pkl')\n",
    "    except:\n",
    "        print(\"No such file!\")\n",
    "\n",
    "if apply_stack_models[1]:\n",
    "    random_forest = RandomForestRegressor()\n",
    "\n",
    "    KRR = KernelRidge(alpha=0.6, kernel='polynomial', degree=3, coef0=2.5)\n",
    "\n",
    "    SVR_ = SVR(C=1.2, kernel='poly')\n",
    "\n",
    "    GBoost = GradientBoostingRegressor(n_estimators=20, learning_rate=0.05, max_depth=7, max_features='sqrt', min_samples_leaf=10, min_samples_split=5, loss='huber', random_state =3)\n",
    "    ##################################################################################################################################################################################\n",
    "    # GridSearchCV\n",
    "    ensemble_model = StackingRegressor(regressors=[random_forest, KRR, GBoost], meta_regressor=SVR_)\n",
    "\n",
    "    params = {'meta_regressor__C': [0.1, 1.0, 10.0, 100.0], 'meta_regressor__gamma': [0.1, 1.0, 10.0]}\n",
    "\n",
    "    grid_stacked = model_results(ensemble_model, params, X_train, y_train, X_valid, y_valid)\n",
    "\n",
    "    grid_stacked[0].fit(X_train, y_train)\n",
    "    ##################################################################################################################################################################################\n",
    "    # Save the model as a pickle in a file\n",
    "    if apply_stack_models[2]: joblib.dump(grid_stacked[0], 'Saved_Models/funding_companies_stacking_regressor_model.pkl')"
   ]
  },
  {
   "cell_type": "markdown",
   "metadata": {},
   "source": [
    "# Predictions"
   ]
  },
  {
   "cell_type": "code",
   "execution_count": null,
   "metadata": {
    "scrolled": true
   },
   "outputs": [],
   "source": [
    "# This is a simple naive prediction.\n",
    "x = data.drop([predict], axis=1)\n",
    "\n",
    "y = data[predict]"
   ]
  },
  {
   "cell_type": "code",
   "execution_count": null,
   "metadata": {},
   "outputs": [],
   "source": [
    "x.loc[-1] = [1, 2, 0.12, 0.22, 0, 77.0, -0.076097, 120791.0, 0]  # Adding a row for prediction.\n",
    "    \n",
    "x.index = x.index + 1  # Shifting index\n",
    "\n",
    "x = x.sort_index()  # Sorting by index"
   ]
  },
  {
   "cell_type": "code",
   "execution_count": null,
   "metadata": {},
   "outputs": [],
   "source": [
    "x = QuantileTransformer(n_quantiles=10, random_state=42).fit_transform(x.values)"
   ]
  },
  {
   "cell_type": "code",
   "execution_count": null,
   "metadata": {},
   "outputs": [],
   "source": [
    "single_prediction = [x[0]]"
   ]
  },
  {
   "cell_type": "code",
   "execution_count": null,
   "metadata": {},
   "outputs": [],
   "source": [
    "model = LogisticRegression()\n",
    "\n",
    "model.fit(X_train, y_train)\n",
    "\n",
    "print(\"Single prediciton result: \" + str(model.predict(single_prediction)[0]))"
   ]
  },
  {
   "cell_type": "markdown",
   "metadata": {},
   "source": [
    "# Others"
   ]
  },
  {
   "cell_type": "markdown",
   "metadata": {},
   "source": [
    "Things that I tried and failed to give a good result:\n",
    "* Probabilities based on various feature, for instance, location, employee size etc.\n",
    "* Z-score outliers.\n",
    "* Take only one sector and predict location or date.\n",
    "* Combination of different features, based on PCA (or not).\n",
    "* Take features without PCA and apply normalisation.\n",
    "* Take only categorical features."
   ]
  },
  {
   "cell_type": "code",
   "execution_count": null,
   "metadata": {},
   "outputs": [],
   "source": []
  }
 ],
 "metadata": {
  "kernelspec": {
   "display_name": "Python 3",
   "language": "python",
   "name": "python3"
  },
  "language_info": {
   "codemirror_mode": {
    "name": "ipython",
    "version": 3
   },
   "file_extension": ".py",
   "mimetype": "text/x-python",
   "name": "python",
   "nbconvert_exporter": "python",
   "pygments_lexer": "ipython3",
   "version": "3.6.7rc1"
  }
 },
 "nbformat": 4,
 "nbformat_minor": 2
}
