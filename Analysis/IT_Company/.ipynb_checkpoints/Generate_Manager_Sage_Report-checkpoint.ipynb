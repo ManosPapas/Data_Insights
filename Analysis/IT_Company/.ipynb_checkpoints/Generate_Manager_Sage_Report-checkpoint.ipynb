{
 "cells": [
  {
   "cell_type": "markdown",
   "metadata": {
    "scrolled": true
   },
   "source": [
    "# Load Libraries"
   ]
  },
  {
   "cell_type": "code",
   "execution_count": 1,
   "metadata": {},
   "outputs": [
    {
     "data": {
      "text/html": [
       "<style>.container { width:100% !important; }</style>"
      ],
      "text/plain": [
       "<IPython.core.display.HTML object>"
      ]
     },
     "metadata": {},
     "output_type": "display_data"
    },
    {
     "data": {
      "text/html": [
       "<style>.container { width:100% !important; }</style>"
      ],
      "text/plain": [
       "<IPython.core.display.HTML object>"
      ]
     },
     "metadata": {},
     "output_type": "display_data"
    }
   ],
   "source": [
    "%run \"../../Libraries/Display.ipynb\"\n",
    "%run \"../../Libraries/Standard.ipynb\""
   ]
  },
  {
   "cell_type": "markdown",
   "metadata": {},
   "source": [
    "# Read Data"
   ]
  },
  {
   "cell_type": "code",
   "execution_count": 2,
   "metadata": {
    "scrolled": true
   },
   "outputs": [],
   "source": [
    "sage    = pd.read_csv(\"../../Data/ITPS/sage.csv\")\n",
    "manager = pd.read_csv(\"../../Data/ITPS/manager.csv\")"
   ]
  },
  {
   "cell_type": "code",
   "execution_count": 3,
   "metadata": {},
   "outputs": [],
   "source": [
    "months = ['Jun-16', 'Jul-16', 'Aug-16', 'Sep-16',\n",
    "       'Oct-16', 'Nov-16', 'Dec-16', 'Jan-17', 'Feb-17', 'Mar-17', 'Apr-17',\n",
    "       'May-17', 'Jun-17', 'Jul-17', 'Aug-17', 'Sep-17', 'Oct-17', 'Nov-17',\n",
    "       'Dec-17', 'Jan-18', 'Feb-18', 'Mar-18', 'Apr-18', 'May-18', 'Jun-18',\n",
    "       'Jul-18', 'Aug-18', 'Sep-18', 'Oct-18', 'Nov-18', 'Dec-18', 'Jan-19',\n",
    "       'Feb-19', 'Mar-19', 'Apr-19', 'May-19']"
   ]
  },
  {
   "cell_type": "code",
   "execution_count": 4,
   "metadata": {},
   "outputs": [],
   "source": [
    "manager = manager.drop(['31/5/16', '30/06/2016', '31/07/2016', '31/08/2016', '30/09/2016',\n",
    "       '31/10/2016', '30/11/2016', '31/12/2016', '31/01/2017', '28/02/2017',\n",
    "       '31/03/2017', '30/04/2017', '31/05/2017', '30/06/2017', '31/07/2017',\n",
    "       '31/08/2017', '30/09/2017', '31/10/2017', '30/11/2017', '31/12/2017',\n",
    "       '31/01/2018', '28/02/2018', '31/03/2018', '30/04/2018', '31/05/2018',\n",
    "       '30/06/2018', '31/07/2018', '31/08/2018', '30/09/2018', '31/10/2018',\n",
    "       '30/11/2018', '31/12/2018', '31/01/2019', '28/02/2019', '31/03/2019',\n",
    "       '30/04/2019', '31/05/2019'], axis=1)"
   ]
  },
  {
   "cell_type": "code",
   "execution_count": 5,
   "metadata": {},
   "outputs": [],
   "source": [
    "for month in months: \n",
    "    manager[month] = manager[month].astype(str)\n",
    "    manager[month] = manager[month].apply(lambda x: x.replace(\",\", \"\"))\n",
    "    manager[month] = manager[month].apply(lambda x: x.strip())\n",
    "    manager[month] = manager[month].astype(float)"
   ]
  },
  {
   "cell_type": "code",
   "execution_count": 6,
   "metadata": {},
   "outputs": [],
   "source": [
    "sage['Inv No']   = sage['NLPostedNominalTrans.Reference']\n",
    "\n",
    "sage['Nom Code'] = sage['NLNominalAccounts.AccountNumber']\n",
    "\n",
    "# Change manually the date - bug\n",
    "#sage['Month'] = pd.to_datetime(sage['NLPostedNominalTrans.TransactionDate'])\n",
    "\n",
    "sage = sage.drop(['NLPostedNominalTrans.Reference', 'NLNominalAccounts.AccountNumber', 'NLPostedNominalTrans.TransactionDate'], axis=1)"
   ]
  },
  {
   "cell_type": "code",
   "execution_count": 7,
   "metadata": {},
   "outputs": [],
   "source": [
    "sage.sort_index(inplace=True)\n",
    "\n",
    "manager.sort_index(inplace=True)"
   ]
  },
  {
   "cell_type": "markdown",
   "metadata": {},
   "source": [
    "# Dates Format"
   ]
  },
  {
   "cell_type": "code",
   "execution_count": 8,
   "metadata": {},
   "outputs": [],
   "source": [
    "# Change manually the date - bug - check above!\n",
    "# sage['Month'] = sage['Month'].apply(lambda x: x.strftime(\"%B\")[:3] + str(\"-\") + x.strftime(\"%Y\")[2:4])\n",
    "\n",
    "# sage['Month'] = sage['Month'].astype(str)"
   ]
  },
  {
   "cell_type": "markdown",
   "metadata": {},
   "source": [
    "# Fill Empty Invoices"
   ]
  },
  {
   "cell_type": "code",
   "execution_count": 9,
   "metadata": {},
   "outputs": [],
   "source": [
    "for index, row in sage[ pd.isna(sage['Inv No']) ].iterrows():\n",
    "    sage.loc[index, 'Inv No'] = 'sage_' + str(row['NLPostedNominalTrans.UniqueReferenceNumber']) + \"_\" + str(index)\n",
    "    \n",
    "for index, row in manager[ pd.isna(manager['Inv No']) ].iterrows():\n",
    "    manager.loc[index, 'Inv No'] = 'manager_' + str(index)"
   ]
  },
  {
   "cell_type": "code",
   "execution_count": 10,
   "metadata": {},
   "outputs": [],
   "source": [
    "# Filter\n",
    "sage = sage[sage['Nom Code'] == 2010]"
   ]
  },
  {
   "cell_type": "markdown",
   "metadata": {},
   "source": [
    "# Make 'Inv No' UPPER"
   ]
  },
  {
   "cell_type": "code",
   "execution_count": 11,
   "metadata": {},
   "outputs": [],
   "source": [
    "sage['Inv No'] = sage['Inv No'].apply(lambda x: x.upper())\n",
    "\n",
    "manager['Inv No'] = manager['Inv No'].apply(lambda x: x.upper())"
   ]
  },
  {
   "cell_type": "markdown",
   "metadata": {},
   "source": [
    "# Find Indexes"
   ]
  },
  {
   "cell_type": "code",
   "execution_count": 12,
   "metadata": {},
   "outputs": [],
   "source": [
    "sage_index = sage['Inv No'].unique()\n",
    "\n",
    "manager_index = manager['Inv No'].unique()\n",
    "\n",
    "common_index = list(set(sage_index).intersection(manager_index))"
   ]
  },
  {
   "cell_type": "markdown",
   "metadata": {},
   "source": [
    "# Find Not in (Manger and Sage) & Group Based On 'Inv No'"
   ]
  },
  {
   "cell_type": "code",
   "execution_count": 13,
   "metadata": {},
   "outputs": [],
   "source": [
    "not_in_sage = manager[ ~manager['Inv No'].isin(common_index) ]\n",
    "\n",
    "not_in_manager = sage[ ~sage['Inv No'].isin(common_index) ]\n",
    "\n",
    "group_not_in_sage = not_in_sage.groupby(['Inv No']).sum()\n",
    "\n",
    "group_not_in_manager = not_in_manager.groupby(['Inv No', 'Month']).sum()"
   ]
  },
  {
   "cell_type": "code",
   "execution_count": 14,
   "metadata": {},
   "outputs": [],
   "source": [
    "group_not_in_sage.to_csv(\"../../Data/ITPS/Generated Files/group_not_in_sage.csv\")\n",
    "\n",
    "group_not_in_manager.to_csv(\"../../Data/ITPS/Generated Files/group_not_in_manager.csv\")\n",
    "\n",
    "group_not_in_sage = pd.read_csv(\"../../Data/ITPS/Generated Files/group_not_in_sage.csv\")\n",
    "\n",
    "group_not_in_manager = pd.read_csv(\"../../Data/ITPS/Generated Files/group_not_in_manager.csv\")"
   ]
  },
  {
   "cell_type": "markdown",
   "metadata": {},
   "source": [
    "# Find Common & Group Based On 'Inv No'"
   ]
  },
  {
   "cell_type": "code",
   "execution_count": 15,
   "metadata": {},
   "outputs": [],
   "source": [
    "common_manager = manager[ manager['Inv No'].isin(common_index) ]\n",
    "\n",
    "common_sage = sage[ sage['Inv No'].isin(common_index) ]\n",
    "\n",
    "group_common_manager = common_manager.groupby(['Inv No']).sum()\n",
    "\n",
    "group_common_sage = common_sage.groupby(['Inv No', 'Month']).sum()"
   ]
  },
  {
   "cell_type": "code",
   "execution_count": 16,
   "metadata": {},
   "outputs": [],
   "source": [
    "group_common_manager.to_csv(\"../../Data/ITPS/Generated Files/group_common_manager.csv\")\n",
    "\n",
    "group_common_sage.to_csv(\"../../Data/ITPS/Generated Files/group_common_sage.csv\")\n",
    "\n",
    "group_common_manager = pd.read_csv(\"../../Data/ITPS/Generated Files/group_common_manager.csv\")\n",
    "\n",
    "group_common_sage = pd.read_csv(\"../../Data/ITPS/Generated Files/group_common_sage.csv\")"
   ]
  },
  {
   "cell_type": "code",
   "execution_count": 17,
   "metadata": {},
   "outputs": [],
   "source": [
    "merge_common = pd.merge( group_common_sage, group_common_manager, on=['Inv No'] )\n",
    "\n",
    "merge_common.to_csv(\"../../Data/ITPS/Generated Files/merge_common.csv\")"
   ]
  },
  {
   "cell_type": "markdown",
   "metadata": {},
   "source": [
    "# Find Differences"
   ]
  },
  {
   "cell_type": "code",
   "execution_count": 18,
   "metadata": {},
   "outputs": [],
   "source": [
    "merge_common = pd.read_csv(\"../../Data/ITPS/Generated Files/merge_common.csv\")\n",
    "\n",
    "merge_common['Common_Difference'] = np.nan"
   ]
  },
  {
   "cell_type": "code",
   "execution_count": 19,
   "metadata": {},
   "outputs": [],
   "source": [
    "invoice_merge_index = merge_common['Inv No'].unique()"
   ]
  },
  {
   "cell_type": "code",
   "execution_count": 20,
   "metadata": {},
   "outputs": [],
   "source": [
    "i = 0\n",
    "\n",
    "for index, row in merge_common.iterrows():\n",
    "    merge_common.iloc[i, -1] = -1*row['NLPostedNominalTrans.GoodsValueInBaseCurrency'] - row[row['Month']]            \n",
    "    i = i + 1"
   ]
  },
  {
   "cell_type": "code",
   "execution_count": 22,
   "metadata": {},
   "outputs": [],
   "source": [
    "merge_common_index = merge_common.shape[0]"
   ]
  },
  {
   "cell_type": "code",
   "execution_count": 23,
   "metadata": {},
   "outputs": [
    {
     "name": "stdout",
     "output_type": "stream",
     "text": [
      "100\n",
      "200\n",
      "300\n",
      "400\n",
      "500\n",
      "600\n",
      "700\n",
      "800\n",
      "900\n",
      "1000\n",
      "1100\n",
      "1200\n",
      "1300\n",
      "1400\n",
      "1500\n",
      "1600\n",
      "1700\n",
      "1800\n",
      "1900\n",
      "2000\n",
      "2100\n",
      "2200\n",
      "2300\n",
      "2400\n",
      "2500\n",
      "2600\n",
      "2700\n",
      "2800\n"
     ]
    }
   ],
   "source": [
    "for invoice in invoice_merge_index:\n",
    "    sage_months = merge_common[merge_common['Inv No'] == invoice]['Month']\n",
    "    \n",
    "    exclude_months = list(set(months) - set(sage_months))\n",
    "    \n",
    "    row = merge_common[merge_common['Inv No'] == invoice].head(1)\n",
    "    \n",
    "    for month in exclude_months:\n",
    "        row['Month'] = month        \n",
    "        row['Common_Difference'] = -1*row[row['Month']]\n",
    "        merge_common = merge_common.append(row, ignore_index=True)"
   ]
  },
  {
   "cell_type": "code",
   "execution_count": 24,
   "metadata": {},
   "outputs": [],
   "source": [
    "merge_common.loc[merge_common_index:, 'NLPostedNominalTrans.GoodsValueInBaseCurrency'] = 0"
   ]
  },
  {
   "cell_type": "code",
   "execution_count": 25,
   "metadata": {},
   "outputs": [],
   "source": [
    "merge_common.to_csv(\"../../Data/ITPS/Generated Files/merge_common_final.csv\")"
   ]
  },
  {
   "cell_type": "code",
   "execution_count": 26,
   "metadata": {},
   "outputs": [],
   "source": [
    "temp = []\n",
    "for month in months:\n",
    "    difference = round(sage[ sage['Month'] == month ].sum()['NLPostedNominalTrans.GoodsValueInBaseCurrency']*-1 + \n",
    "                       group_not_in_manager[group_not_in_manager['Month'] == month].sum()['NLPostedNominalTrans.GoodsValueInBaseCurrency'] + \n",
    "                       group_not_in_sage[month].sum() - merge_common[merge_common['Month'] == month].sum()['Common_Difference'] - manager[month].sum(),2)\n",
    "\n",
    "    temp.append((month, \n",
    "              sage[ sage['Month'] == month ].sum()['NLPostedNominalTrans.GoodsValueInBaseCurrency'], \n",
    "              manager[month].sum(),\n",
    "              merge_common[merge_common['Month'] == month].sum()['Common_Difference'],\n",
    "              group_not_in_manager[group_not_in_manager['Month'] == month].sum()['NLPostedNominalTrans.GoodsValueInBaseCurrency'],\n",
    "              group_not_in_sage[month].sum(), \n",
    "              difference\n",
    "             ))\n",
    "\n",
    "sum_up = pd.DataFrame(temp, columns=('Month', 'Sage', 'Manager', 'Common_Difference', 'Not_in_Sage', 'Not_in_Manager', 'Difference'))"
   ]
  },
  {
   "cell_type": "code",
   "execution_count": 27,
   "metadata": {},
   "outputs": [],
   "source": [
    "sum_up.to_csv(\"../../Data/ITPS/Generated Files/sum_all.csv\")"
   ]
  },
  {
   "cell_type": "code",
   "execution_count": null,
   "metadata": {},
   "outputs": [],
   "source": []
  }
 ],
 "metadata": {
  "kernelspec": {
   "display_name": "Python 3",
   "language": "python",
   "name": "python3"
  },
  "language_info": {
   "codemirror_mode": {
    "name": "ipython",
    "version": 3
   },
   "file_extension": ".py",
   "mimetype": "text/x-python",
   "name": "python",
   "nbconvert_exporter": "python",
   "pygments_lexer": "ipython3",
   "version": "3.6.7rc1"
  }
 },
 "nbformat": 4,
 "nbformat_minor": 2
}
