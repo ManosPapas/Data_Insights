{
 "cells": [
  {
   "cell_type": "code",
   "execution_count": 1,
   "metadata": {
    "scrolled": true
   },
   "outputs": [
    {
     "data": {
      "text/html": [
       "<style>.container { width:100% !important; }</style>"
      ],
      "text/plain": [
       "<IPython.core.display.HTML object>"
      ]
     },
     "metadata": {},
     "output_type": "display_data"
    },
    {
     "data": {
      "text/html": [
       "<style>.container { width:100% !important; }</style>"
      ],
      "text/plain": [
       "<IPython.core.display.HTML object>"
      ]
     },
     "metadata": {},
     "output_type": "display_data"
    },
    {
     "data": {
      "text/html": [
       "<style>.container { width:100% !important; }</style>"
      ],
      "text/plain": [
       "<IPython.core.display.HTML object>"
      ]
     },
     "metadata": {},
     "output_type": "display_data"
    },
    {
     "name": "stderr",
     "output_type": "stream",
     "text": [
      "c:\\users\\mpapagiannidis\\appdata\\local\\programs\\python\\python37\\lib\\site-packages\\sklearn\\externals\\joblib\\__init__.py:15: DeprecationWarning: sklearn.externals.joblib is deprecated in 0.21 and will be removed in 0.23. Please import this functionality directly from joblib, which can be installed with: pip install joblib. If this warning is raised when loading pickled models, you may need to re-serialize those models with scikit-learn 0.21+.\n",
      "  warnings.warn(msg, category=DeprecationWarning)\n"
     ]
    },
    {
     "data": {
      "text/html": [
       "<style>.container { width:100% !important; }</style>"
      ],
      "text/plain": [
       "<IPython.core.display.HTML object>"
      ]
     },
     "metadata": {},
     "output_type": "display_data"
    },
    {
     "data": {
      "text/html": [
       "        <script type=\"text/javascript\">\n",
       "        window.PlotlyConfig = {MathJaxConfig: 'local'};\n",
       "        if (window.MathJax) {MathJax.Hub.Config({SVG: {font: \"STIX-Web\"}});}\n",
       "        if (typeof require !== 'undefined') {\n",
       "        require.undef(\"plotly\");\n",
       "        requirejs.config({\n",
       "            paths: {\n",
       "                'plotly': ['https://cdn.plot.ly/plotly-latest.min']\n",
       "            }\n",
       "        });\n",
       "        require(['plotly'], function(Plotly) {\n",
       "            window._Plotly = Plotly;\n",
       "        });\n",
       "        }\n",
       "        </script>\n",
       "        "
      ]
     },
     "metadata": {},
     "output_type": "display_data"
    },
    {
     "data": {
      "text/html": [
       "        <script type=\"text/javascript\">\n",
       "        window.PlotlyConfig = {MathJaxConfig: 'local'};\n",
       "        if (window.MathJax) {MathJax.Hub.Config({SVG: {font: \"STIX-Web\"}});}\n",
       "        if (typeof require !== 'undefined') {\n",
       "        require.undef(\"plotly\");\n",
       "        requirejs.config({\n",
       "            paths: {\n",
       "                'plotly': ['https://cdn.plot.ly/plotly-latest.min']\n",
       "            }\n",
       "        });\n",
       "        require(['plotly'], function(Plotly) {\n",
       "            window._Plotly = Plotly;\n",
       "        });\n",
       "        }\n",
       "        </script>\n",
       "        "
      ]
     },
     "metadata": {},
     "output_type": "display_data"
    },
    {
     "data": {
      "text/html": [
       "<style>.container { width:100% !important; }</style>"
      ],
      "text/plain": [
       "<IPython.core.display.HTML object>"
      ]
     },
     "metadata": {},
     "output_type": "display_data"
    },
    {
     "data": {
      "text/html": [
       "<style>.container { width:100% !important; }</style>"
      ],
      "text/plain": [
       "<IPython.core.display.HTML object>"
      ]
     },
     "metadata": {},
     "output_type": "display_data"
    },
    {
     "data": {
      "text/html": [
       "<style>.container { width:100% !important; }</style>"
      ],
      "text/plain": [
       "<IPython.core.display.HTML object>"
      ]
     },
     "metadata": {},
     "output_type": "display_data"
    }
   ],
   "source": [
    "%run \"../Libraries/Display.ipynb\"\n",
    "%run \"../Libraries/Standard.ipynb\"\n",
    "%run \"../Libraries/Modelling.ipynb\"\n",
    "%run \"../Libraries/Style.ipynb\"\n",
    "%run \"../Core/Standard.ipynb\"\n",
    "%run \"../Core/Engineering.ipynb\"\n",
    "%run \"../Core/Modelling.ipynb\""
   ]
  },
  {
   "cell_type": "markdown",
   "metadata": {},
   "source": [
    "# Read Data"
   ]
  },
  {
   "cell_type": "code",
   "execution_count": 2,
   "metadata": {},
   "outputs": [],
   "source": [
    "sage = pd.read_csv(\"sage.csv\")\n",
    "manager = pd.read_csv(\"manager.csv\")\n",
    "\n",
    "sage = sage[sage['Nom Code'] == 2010]\n",
    "\n",
    "sage.sort_index(inplace=True)\n",
    "manager.sort_index(inplace=True)"
   ]
  },
  {
   "cell_type": "markdown",
   "metadata": {},
   "source": [
    "# Make 'Inv No' UPPER"
   ]
  },
  {
   "cell_type": "code",
   "execution_count": 3,
   "metadata": {},
   "outputs": [],
   "source": [
    "sage['Inv No'] = sage['Inv No'].apply(lambda x: x.upper())\n",
    "\n",
    "manager['Inv No'] = manager['Inv No'].apply(lambda x: x.upper())"
   ]
  },
  {
   "cell_type": "code",
   "execution_count": 4,
   "metadata": {},
   "outputs": [
    {
     "name": "stdout",
     "output_type": "stream",
     "text": [
      "4619\n",
      "7527\n"
     ]
    }
   ],
   "source": [
    "print(len(sage['Inv No'].unique()))\n",
    "\n",
    "print(len(manager['Inv No'].unique()))"
   ]
  },
  {
   "cell_type": "markdown",
   "metadata": {},
   "source": [
    "# Find Indexes"
   ]
  },
  {
   "cell_type": "code",
   "execution_count": 5,
   "metadata": {},
   "outputs": [],
   "source": [
    "sage_index = sage['Inv No'].unique()\n",
    "\n",
    "manager_index = manager['Inv No'].unique()\n",
    "\n",
    "common_index = list(set(sage_index).intersection(manager_index))"
   ]
  },
  {
   "cell_type": "markdown",
   "metadata": {},
   "source": [
    "# Find Common - Group"
   ]
  },
  {
   "cell_type": "code",
   "execution_count": 6,
   "metadata": {},
   "outputs": [],
   "source": [
    "common_manager = manager[ manager['Inv No'].isin(common_index) ]\n",
    "\n",
    "common_sage = sage[ sage['Inv No'].isin(common_index) ]\n",
    "\n",
    "group_common_manager = common_manager.groupby(['Inv No']).sum()\n",
    "\n",
    "group_common_sage = common_sage.groupby(['Inv No', 'Month']).sum()\n",
    "\n",
    "group_common_manager.to_csv(\"group_common_manager.csv\")\n",
    "\n",
    "group_common_sage.to_csv(\"group_common_sage.csv\")\n",
    "\n",
    "group_common_manager = pd.read_csv(\"group_common_manager.csv\")\n",
    "\n",
    "group_common_sage = pd.read_csv(\"group_common_sage.csv\")"
   ]
  },
  {
   "cell_type": "code",
   "execution_count": 7,
   "metadata": {},
   "outputs": [],
   "source": [
    "merge_common = pd.merge( group_common_sage, group_common_manager, on=['Inv No'] )\n",
    "\n",
    "# merge_common = merge_common.groupby(['Inv No']).sum()\n",
    "\n",
    "# merge_common = merge_common.groupby(['Inv No']).agg({\n",
    "#     'Nom Code_x': 'first', 'NLNominalAccounts.AccountCostCentre': 'first',\n",
    "#        'NLNominalAccounts.AccountName': 'first',\n",
    "#        'NLPostedNominalTrans.UniqueReferenceNumber': 'first', 'Month': 'first',\n",
    "#        'NLPostedNominalTrans.TransactionDate': 'first',\n",
    "#        'SYSAccountingPeriods.PeriodNumber': 'first', 'Inv No': 'first',\n",
    "#        'NLPostedNominalTrans.Narrative': 'first',\n",
    "#        'NLPostedNominalTrans.GoodsValueInBaseCurrency': 'sum', 'Date': 'first', 'Period': 'first',\n",
    "#        'Details': 'first', 'Start Date': 'first', 'End Date': 'first', 'Day Rate': 'sum', 'Cust a/c': 'first', 'Customer': 'first',\n",
    "#        'Del': 'first', 'Inv Value': 'sum', 'Nom Code_y': 'first', 'CC': 'first', 'Jun-16': 'sum', 'Jul-16': 'sum', 'Aug-16': 'sum',\n",
    "#        'Sep-16': 'sum', 'Oct-16': 'sum', 'Nov-16': 'sum', 'Dec-16': 'sum', 'Jan-17': 'sum', 'Feb-17': 'sum', 'Mar-17': 'sum',\n",
    "#        'Apr-17': 'sum', 'May-17': 'sum', 'Jun-17': 'sum', 'Jul-17': 'sum', 'Aug-17': 'sum', 'Sep-17': 'sum', 'Oct-17': 'sum',\n",
    "#        'Nov-17': 'sum', 'Dec-17': 'sum', 'Jan-18': 'sum', 'Feb-18': 'sum', 'Mar-18': 'sum', 'Apr-18': 'sum', 'May-18': 'sum',\n",
    "#        'Jun-18': 'sum', 'Jul-18': 'sum', 'Aug-18': 'sum', 'Sep-18': 'sum', 'Oct-18': 'sum', 'Nov-18': 'sum', 'Dec-18': 'sum',\n",
    "#        'Jan-19': 'sum', 'Feb-19': 'sum', 'Mar-19': 'sum', 'Apr-19': 'sum', 'May-19': 'sum'\n",
    "# })\n",
    "\n",
    "merge_common.to_csv(\"merge_common.csv\")"
   ]
  },
  {
   "cell_type": "markdown",
   "metadata": {},
   "source": [
    "# Find Not in - Group"
   ]
  },
  {
   "cell_type": "code",
   "execution_count": 8,
   "metadata": {},
   "outputs": [],
   "source": [
    "not_in_sage = manager[ ~manager['Inv No'].isin(common_index) ]\n",
    "\n",
    "not_in_manager = sage[ ~sage['Inv No'].isin(common_index) ]\n",
    "\n",
    "group_not_in_sage = not_in_sage.groupby(['Inv No']).sum()\n",
    "\n",
    "group_not_in_manager = not_in_manager.groupby(['Inv No', 'Month']).sum()\n",
    "\n",
    "group_not_in_sage.to_csv(\"group_not_in_sage.csv\")\n",
    "\n",
    "group_not_in_manager.to_csv(\"group_not_in_manager.csv\")\n",
    "\n",
    "group_not_in_sage = pd.read_csv(\"group_not_in_sage.csv\")\n",
    "\n",
    "group_not_in_manager = pd.read_csv(\"group_not_in_manager.csv\")"
   ]
  },
  {
   "cell_type": "markdown",
   "metadata": {},
   "source": [
    "# Find Differences"
   ]
  },
  {
   "cell_type": "code",
   "execution_count": 9,
   "metadata": {},
   "outputs": [],
   "source": [
    "merge_common = pd.read_csv(\"merge_common.csv\")\n",
    "\n",
    "merge_common['Difference'] = np.nan"
   ]
  },
  {
   "cell_type": "code",
   "execution_count": 10,
   "metadata": {},
   "outputs": [],
   "source": [
    "months = ['Jun-16', 'Jul-16', 'Aug-16', 'Sep-16', 'Oct-16', 'Nov-16', 'Dec-16',\n",
    "       'Jan-17', 'Feb-17', 'Mar-17', 'Apr-17', 'May-17', 'Jun-17', 'Jul-17',\n",
    "       'Aug-17', 'Sep-17', 'Oct-17', 'Nov-17', 'Dec-17', 'Jan-18', 'Feb-18',\n",
    "       'Mar-18', 'Apr-18', 'May-18', 'Jun-18', 'Jul-18', 'Aug-18', 'Sep-18',\n",
    "       'Oct-18', 'Nov-18', 'Dec-18', 'Jan-19', 'Feb-19', 'Mar-19', 'Apr-19',\n",
    "       'May-19']"
   ]
  },
  {
   "cell_type": "code",
   "execution_count": 11,
   "metadata": {},
   "outputs": [],
   "source": [
    "i = 0\n",
    "\n",
    "for index, row in merge_common.iterrows():\n",
    "    merge_common.iloc[i, -1] = -1*row['NLPostedNominalTrans.GoodsValueInBaseCurrency'] - row[row['Month']]            \n",
    "    i = i + 1"
   ]
  },
  {
   "cell_type": "code",
   "execution_count": 12,
   "metadata": {
    "scrolled": true
   },
   "outputs": [
    {
     "data": {
      "text/html": [
       "<div>\n",
       "<style scoped>\n",
       "    .dataframe tbody tr th:only-of-type {\n",
       "        vertical-align: middle;\n",
       "    }\n",
       "\n",
       "    .dataframe tbody tr th {\n",
       "        vertical-align: top;\n",
       "    }\n",
       "\n",
       "    .dataframe thead th {\n",
       "        text-align: right;\n",
       "    }\n",
       "</style>\n",
       "<table border=\"1\" class=\"dataframe\">\n",
       "  <thead>\n",
       "    <tr style=\"text-align: right;\">\n",
       "      <th></th>\n",
       "      <th>Unnamed: 0</th>\n",
       "      <th>Inv No</th>\n",
       "      <th>Month</th>\n",
       "      <th>Nom Code_x</th>\n",
       "      <th>NLPostedNominalTrans.UniqueReferenceNumber</th>\n",
       "      <th>SYSAccountingPeriods.PeriodNumber</th>\n",
       "      <th>NLPostedNominalTrans.GoodsValueInBaseCurrency</th>\n",
       "      <th>Date</th>\n",
       "      <th>Start Date</th>\n",
       "      <th>End Date</th>\n",
       "      <th>...</th>\n",
       "      <th>Sep-18</th>\n",
       "      <th>Oct-18</th>\n",
       "      <th>Nov-18</th>\n",
       "      <th>Dec-18</th>\n",
       "      <th>Jan-19</th>\n",
       "      <th>Feb-19</th>\n",
       "      <th>Mar-19</th>\n",
       "      <th>Apr-19</th>\n",
       "      <th>May-19</th>\n",
       "      <th>Difference</th>\n",
       "    </tr>\n",
       "  </thead>\n",
       "  <tbody>\n",
       "    <tr>\n",
       "      <th>0</th>\n",
       "      <td>0</td>\n",
       "      <td>01/02/18-30/04/18</td>\n",
       "      <td>Apr-18</td>\n",
       "      <td>2010</td>\n",
       "      <td>118311</td>\n",
       "      <td>11</td>\n",
       "      <td>-580.17</td>\n",
       "      <td>43098</td>\n",
       "      <td>43132</td>\n",
       "      <td>43220</td>\n",
       "      <td>...</td>\n",
       "      <td>0.0</td>\n",
       "      <td>0.0</td>\n",
       "      <td>0.0</td>\n",
       "      <td>0.0</td>\n",
       "      <td>0.0</td>\n",
       "      <td>0.0</td>\n",
       "      <td>0.0</td>\n",
       "      <td>0.0</td>\n",
       "      <td>0.0</td>\n",
       "      <td>-13.182273</td>\n",
       "    </tr>\n",
       "    <tr>\n",
       "      <th>1</th>\n",
       "      <td>1</td>\n",
       "      <td>01/02/18-30/04/18</td>\n",
       "      <td>Feb-18</td>\n",
       "      <td>2010</td>\n",
       "      <td>118309</td>\n",
       "      <td>9</td>\n",
       "      <td>-580.17</td>\n",
       "      <td>43098</td>\n",
       "      <td>43132</td>\n",
       "      <td>43220</td>\n",
       "      <td>...</td>\n",
       "      <td>0.0</td>\n",
       "      <td>0.0</td>\n",
       "      <td>0.0</td>\n",
       "      <td>0.0</td>\n",
       "      <td>0.0</td>\n",
       "      <td>0.0</td>\n",
       "      <td>0.0</td>\n",
       "      <td>0.0</td>\n",
       "      <td>0.0</td>\n",
       "      <td>46.152954</td>\n",
       "    </tr>\n",
       "    <tr>\n",
       "      <th>2</th>\n",
       "      <td>2</td>\n",
       "      <td>01/02/18-30/04/18</td>\n",
       "      <td>Mar-18</td>\n",
       "      <td>2010</td>\n",
       "      <td>118310</td>\n",
       "      <td>10</td>\n",
       "      <td>-580.17</td>\n",
       "      <td>43098</td>\n",
       "      <td>43132</td>\n",
       "      <td>43220</td>\n",
       "      <td>...</td>\n",
       "      <td>0.0</td>\n",
       "      <td>0.0</td>\n",
       "      <td>0.0</td>\n",
       "      <td>0.0</td>\n",
       "      <td>0.0</td>\n",
       "      <td>0.0</td>\n",
       "      <td>0.0</td>\n",
       "      <td>0.0</td>\n",
       "      <td>0.0</td>\n",
       "      <td>-32.960682</td>\n",
       "    </tr>\n",
       "    <tr>\n",
       "      <th>3</th>\n",
       "      <td>3</td>\n",
       "      <td>01/03/18-31/03/18</td>\n",
       "      <td>Mar-18</td>\n",
       "      <td>2010</td>\n",
       "      <td>120860</td>\n",
       "      <td>10</td>\n",
       "      <td>-80.00</td>\n",
       "      <td>43130</td>\n",
       "      <td>43160</td>\n",
       "      <td>43190</td>\n",
       "      <td>...</td>\n",
       "      <td>0.0</td>\n",
       "      <td>0.0</td>\n",
       "      <td>0.0</td>\n",
       "      <td>0.0</td>\n",
       "      <td>0.0</td>\n",
       "      <td>0.0</td>\n",
       "      <td>0.0</td>\n",
       "      <td>0.0</td>\n",
       "      <td>0.0</td>\n",
       "      <td>0.000000</td>\n",
       "    </tr>\n",
       "    <tr>\n",
       "      <th>4</th>\n",
       "      <td>4</td>\n",
       "      <td>01/10/17-30/09/18</td>\n",
       "      <td>Apr-18</td>\n",
       "      <td>2010</td>\n",
       "      <td>106615</td>\n",
       "      <td>11</td>\n",
       "      <td>-25.00</td>\n",
       "      <td>85956</td>\n",
       "      <td>86018</td>\n",
       "      <td>86746</td>\n",
       "      <td>...</td>\n",
       "      <td>0.0</td>\n",
       "      <td>0.0</td>\n",
       "      <td>0.0</td>\n",
       "      <td>0.0</td>\n",
       "      <td>0.0</td>\n",
       "      <td>0.0</td>\n",
       "      <td>0.0</td>\n",
       "      <td>0.0</td>\n",
       "      <td>0.0</td>\n",
       "      <td>25.000000</td>\n",
       "    </tr>\n",
       "  </tbody>\n",
       "</table>\n",
       "<p>5 rows × 52 columns</p>\n",
       "</div>"
      ],
      "text/plain": [
       "   Unnamed: 0             Inv No   Month  Nom Code_x  \\\n",
       "0           0  01/02/18-30/04/18  Apr-18        2010   \n",
       "1           1  01/02/18-30/04/18  Feb-18        2010   \n",
       "2           2  01/02/18-30/04/18  Mar-18        2010   \n",
       "3           3  01/03/18-31/03/18  Mar-18        2010   \n",
       "4           4  01/10/17-30/09/18  Apr-18        2010   \n",
       "\n",
       "   NLPostedNominalTrans.UniqueReferenceNumber  \\\n",
       "0                                      118311   \n",
       "1                                      118309   \n",
       "2                                      118310   \n",
       "3                                      120860   \n",
       "4                                      106615   \n",
       "\n",
       "   SYSAccountingPeriods.PeriodNumber  \\\n",
       "0                                 11   \n",
       "1                                  9   \n",
       "2                                 10   \n",
       "3                                 10   \n",
       "4                                 11   \n",
       "\n",
       "   NLPostedNominalTrans.GoodsValueInBaseCurrency   Date  Start Date  End Date  \\\n",
       "0                                        -580.17  43098       43132     43220   \n",
       "1                                        -580.17  43098       43132     43220   \n",
       "2                                        -580.17  43098       43132     43220   \n",
       "3                                         -80.00  43130       43160     43190   \n",
       "4                                         -25.00  85956       86018     86746   \n",
       "\n",
       "   ...  Sep-18  Oct-18  Nov-18  Dec-18  Jan-19  Feb-19  Mar-19  Apr-19  \\\n",
       "0  ...     0.0     0.0     0.0     0.0     0.0     0.0     0.0     0.0   \n",
       "1  ...     0.0     0.0     0.0     0.0     0.0     0.0     0.0     0.0   \n",
       "2  ...     0.0     0.0     0.0     0.0     0.0     0.0     0.0     0.0   \n",
       "3  ...     0.0     0.0     0.0     0.0     0.0     0.0     0.0     0.0   \n",
       "4  ...     0.0     0.0     0.0     0.0     0.0     0.0     0.0     0.0   \n",
       "\n",
       "   May-19  Difference  \n",
       "0     0.0  -13.182273  \n",
       "1     0.0   46.152954  \n",
       "2     0.0  -32.960682  \n",
       "3     0.0    0.000000  \n",
       "4     0.0   25.000000  \n",
       "\n",
       "[5 rows x 52 columns]"
      ]
     },
     "execution_count": 12,
     "metadata": {},
     "output_type": "execute_result"
    }
   ],
   "source": [
    "merge_common.head()"
   ]
  },
  {
   "cell_type": "code",
   "execution_count": 13,
   "metadata": {},
   "outputs": [],
   "source": [
    "invoice_merge_index = merge_common['Inv No'].unique()"
   ]
  },
  {
   "cell_type": "code",
   "execution_count": 14,
   "metadata": {},
   "outputs": [
    {
     "name": "stdout",
     "output_type": "stream",
     "text": [
      "(12812, 52)\n"
     ]
    }
   ],
   "source": [
    "print(merge_common.shape)"
   ]
  },
  {
   "cell_type": "code",
   "execution_count": null,
   "metadata": {},
   "outputs": [],
   "source": []
  },
  {
   "cell_type": "code",
   "execution_count": 30,
   "metadata": {
    "scrolled": false
   },
   "outputs": [
    {
     "name": "stdout",
     "output_type": "stream",
     "text": [
      "100\n",
      "200\n",
      "300\n",
      "400\n",
      "500\n",
      "600\n",
      "700\n",
      "800\n"
     ]
    }
   ],
   "source": [
    "# i = 0\n",
    "# for invoice in invoice_merge_index[2000:]:\n",
    "#     sage_months = merge_common[merge_common['Inv No'] == invoice]['Month']\n",
    "    \n",
    "#     exclude_months = list(set(months) - set(sage_months))\n",
    "    \n",
    "#     row = merge_common[merge_common['Inv No'] == invoice].head(1)\n",
    "#     row['NLPostedNominalTrans.GoodsValueInBaseCurrency'] = 0\n",
    "    \n",
    "#     for month in exclude_months:\n",
    "#         row['Month'] = month        \n",
    "#         row['Difference'] = -1*row[row['Month']]\n",
    "#         merge_common = merge_common.append(row, ignore_index=True)\n",
    "    \n",
    "#     i = i +1\n",
    "#     if(i%100 == 0):\n",
    "#         print(i)\n",
    "    "
   ]
  },
  {
   "cell_type": "code",
   "execution_count": 31,
   "metadata": {},
   "outputs": [
    {
     "name": "stdout",
     "output_type": "stream",
     "text": [
      "(102024, 52)\n"
     ]
    }
   ],
   "source": [
    "print(merge_common.shape)"
   ]
  },
  {
   "cell_type": "code",
   "execution_count": null,
   "metadata": {},
   "outputs": [],
   "source": []
  },
  {
   "cell_type": "code",
   "execution_count": null,
   "metadata": {},
   "outputs": [],
   "source": []
  },
  {
   "cell_type": "code",
   "execution_count": 32,
   "metadata": {},
   "outputs": [],
   "source": [
    "#merge_common.to_csv(\"merge_common_2000_end.csv\")"
   ]
  },
  {
   "cell_type": "code",
   "execution_count": null,
   "metadata": {},
   "outputs": [],
   "source": []
  },
  {
   "cell_type": "code",
   "execution_count": 60,
   "metadata": {},
   "outputs": [],
   "source": [
    "check = pd.DataFrame()"
   ]
  },
  {
   "cell_type": "code",
   "execution_count": 61,
   "metadata": {},
   "outputs": [],
   "source": [
    "check['Month'] = np.nan\n",
    "\n",
    "check['Sage'] = np.nan \n",
    "\n",
    "check['Manager'] = np.nan \n",
    "\n",
    "check['Common_Difference'] = np.nan \n",
    "\n",
    "check['Not_in_Sage'] = np.nan \n",
    "\n",
    "check['Not_in_Manager'] = np.nan \n",
    "\n",
    "check['Difference'] = np.nan "
   ]
  },
  {
   "cell_type": "code",
   "execution_count": 71,
   "metadata": {},
   "outputs": [],
   "source": [
    "a = pd.DataFrame()\n",
    "\n",
    "a['Month'] = np.nan\n",
    "\n",
    "a['Sage'] = np.nan \n",
    "\n",
    "a['Manager'] = np.nan \n",
    "\n",
    "a['Common_Difference'] = np.nan \n",
    "\n",
    "a['Not_in_Sage'] = np.nan \n",
    "\n",
    "a['Not_in_Manager'] = np.nan \n",
    "\n",
    "a['Difference'] = np.nan "
   ]
  },
  {
   "cell_type": "code",
   "execution_count": 78,
   "metadata": {},
   "outputs": [
    {
     "data": {
      "text/plain": [
       "Index(['Month', 'Sage', 'Manager', 'Common_Difference', 'Not_in_Sage',\n",
       "       'Not_in_Manager', 'Difference'],\n",
       "      dtype='object')"
      ]
     },
     "execution_count": 78,
     "metadata": {},
     "output_type": "execute_result"
    }
   ],
   "source": [
    "a.columns"
   ]
  },
  {
   "cell_type": "code",
   "execution_count": 95,
   "metadata": {},
   "outputs": [],
   "source": [
    "d = []\n",
    "for month in months:\n",
    "    sum_all = round(sage[ sage['Month'] == month ].sum()['NLPostedNominalTrans.GoodsValueInBaseCurrency']*-1 + group_not_in_manager[group_not_in_manager['Month'] == month].sum()['NLPostedNominalTrans.GoodsValueInBaseCurrency'] + group_not_in_sage[month].sum() - merge_common[merge_common['Month'] == month].sum()['Difference'] - manager[month].sum(),2)\n",
    "\n",
    "    d.append((month, sage[ sage['Month'] == month ].sum()['NLPostedNominalTrans.GoodsValueInBaseCurrency'], manager[month].sum(), merge_common[merge_common['Month'] == month].sum()['Difference'],\n",
    "              group_not_in_manager[group_not_in_manager['Month'] == month].sum()['NLPostedNominalTrans.GoodsValueInBaseCurrency'],group_not_in_sage[month].sum(), sum_all\n",
    "             ))\n",
    "\n",
    "sum_up = pd.DataFrame(d, columns=('Month', 'Sage', 'Manager', 'Common_Difference', 'Not_in_Sage',\n",
    "       'Not_in_Manager', 'Difference'))\n",
    "\n",
    "# for month in months:\n",
    "#     a['Month'] = month\n",
    "#     a['Sage'] = sage[ sage['Month'] == month ].sum()['NLPostedNominalTrans.GoodsValueInBaseCurrency']\n",
    "#     a['Manager'] = manager[month].sum()\n",
    "#     a['Common_Difference'] = merge_common[merge_common['Month'] == month].sum()['Difference']\n",
    "#     a['Not_in_Manager'] = group_not_in_manager[group_not_in_manager['Month'] == month].sum()['NLPostedNominalTrans.GoodsValueInBaseCurrency']\n",
    "#     a['Not_in_Sage'] = group_not_in_sage[month].sum()\n",
    "#     a['Difference'] = a['Sage']*-1 + a['Not_in_Manager'] + a['Not_in_Sage'] - a['Common_Difference'] - a['Manager']\n",
    "    \n",
    "#     a = a.append(a,ignore_index=True)\n",
    "#     #print(sage[ sage['Month'] == month ].sum()['NLPostedNominalTrans.GoodsValueInBaseCurrency'])\n",
    "#     print(a)"
   ]
  },
  {
   "cell_type": "code",
   "execution_count": 96,
   "metadata": {},
   "outputs": [
    {
     "data": {
      "text/html": [
       "<div>\n",
       "<style scoped>\n",
       "    .dataframe tbody tr th:only-of-type {\n",
       "        vertical-align: middle;\n",
       "    }\n",
       "\n",
       "    .dataframe tbody tr th {\n",
       "        vertical-align: top;\n",
       "    }\n",
       "\n",
       "    .dataframe thead th {\n",
       "        text-align: right;\n",
       "    }\n",
       "</style>\n",
       "<table border=\"1\" class=\"dataframe\">\n",
       "  <thead>\n",
       "    <tr style=\"text-align: right;\">\n",
       "      <th></th>\n",
       "      <th>Month</th>\n",
       "      <th>Sage</th>\n",
       "      <th>Manager</th>\n",
       "      <th>Common_Difference</th>\n",
       "      <th>Not_in_Sage</th>\n",
       "      <th>Not_in_Manager</th>\n",
       "      <th>Difference</th>\n",
       "    </tr>\n",
       "  </thead>\n",
       "  <tbody>\n",
       "    <tr>\n",
       "      <th>0</th>\n",
       "      <td>Jun-16</td>\n",
       "      <td>0.0</td>\n",
       "      <td>596806.668603</td>\n",
       "      <td>-6461.777886</td>\n",
       "      <td>0.0</td>\n",
       "      <td>590344.890716</td>\n",
       "      <td>0.0</td>\n",
       "    </tr>\n",
       "    <tr>\n",
       "      <th>1</th>\n",
       "      <td>Jul-16</td>\n",
       "      <td>0.0</td>\n",
       "      <td>638758.324503</td>\n",
       "      <td>-35939.432789</td>\n",
       "      <td>0.0</td>\n",
       "      <td>602818.891714</td>\n",
       "      <td>0.0</td>\n",
       "    </tr>\n",
       "    <tr>\n",
       "      <th>2</th>\n",
       "      <td>Aug-16</td>\n",
       "      <td>0.0</td>\n",
       "      <td>653405.102799</td>\n",
       "      <td>-63775.114389</td>\n",
       "      <td>0.0</td>\n",
       "      <td>589629.988410</td>\n",
       "      <td>0.0</td>\n",
       "    </tr>\n",
       "    <tr>\n",
       "      <th>3</th>\n",
       "      <td>Sep-16</td>\n",
       "      <td>0.0</td>\n",
       "      <td>652279.600849</td>\n",
       "      <td>-89310.301964</td>\n",
       "      <td>0.0</td>\n",
       "      <td>562969.298885</td>\n",
       "      <td>0.0</td>\n",
       "    </tr>\n",
       "    <tr>\n",
       "      <th>4</th>\n",
       "      <td>Oct-16</td>\n",
       "      <td>0.0</td>\n",
       "      <td>723362.723972</td>\n",
       "      <td>-121539.928039</td>\n",
       "      <td>0.0</td>\n",
       "      <td>601822.795933</td>\n",
       "      <td>0.0</td>\n",
       "    </tr>\n",
       "  </tbody>\n",
       "</table>\n",
       "</div>"
      ],
      "text/plain": [
       "    Month  Sage        Manager  Common_Difference  Not_in_Sage  \\\n",
       "0  Jun-16   0.0  596806.668603       -6461.777886          0.0   \n",
       "1  Jul-16   0.0  638758.324503      -35939.432789          0.0   \n",
       "2  Aug-16   0.0  653405.102799      -63775.114389          0.0   \n",
       "3  Sep-16   0.0  652279.600849      -89310.301964          0.0   \n",
       "4  Oct-16   0.0  723362.723972     -121539.928039          0.0   \n",
       "\n",
       "   Not_in_Manager  Difference  \n",
       "0   590344.890716         0.0  \n",
       "1   602818.891714         0.0  \n",
       "2   589629.988410         0.0  \n",
       "3   562969.298885         0.0  \n",
       "4   601822.795933         0.0  "
      ]
     },
     "execution_count": 96,
     "metadata": {},
     "output_type": "execute_result"
    }
   ],
   "source": [
    "sum_up.head()"
   ]
  },
  {
   "cell_type": "code",
   "execution_count": 92,
   "metadata": {},
   "outputs": [],
   "source": [
    "sum_up.to_csv(\"sum_all.csv\")"
   ]
  },
  {
   "cell_type": "code",
   "execution_count": null,
   "metadata": {},
   "outputs": [],
   "source": []
  },
  {
   "cell_type": "code",
   "execution_count": null,
   "metadata": {},
   "outputs": [],
   "source": []
  },
  {
   "cell_type": "code",
   "execution_count": null,
   "metadata": {},
   "outputs": [],
   "source": []
  },
  {
   "cell_type": "code",
   "execution_count": null,
   "metadata": {},
   "outputs": [],
   "source": []
  },
  {
   "cell_type": "code",
   "execution_count": null,
   "metadata": {},
   "outputs": [],
   "source": []
  },
  {
   "cell_type": "code",
   "execution_count": null,
   "metadata": {},
   "outputs": [],
   "source": []
  },
  {
   "cell_type": "code",
   "execution_count": null,
   "metadata": {},
   "outputs": [],
   "source": []
  },
  {
   "cell_type": "code",
   "execution_count": null,
   "metadata": {},
   "outputs": [],
   "source": []
  },
  {
   "cell_type": "code",
   "execution_count": null,
   "metadata": {},
   "outputs": [],
   "source": []
  },
  {
   "cell_type": "code",
   "execution_count": null,
   "metadata": {},
   "outputs": [],
   "source": []
  },
  {
   "cell_type": "code",
   "execution_count": null,
   "metadata": {},
   "outputs": [],
   "source": []
  },
  {
   "cell_type": "code",
   "execution_count": null,
   "metadata": {},
   "outputs": [],
   "source": []
  },
  {
   "cell_type": "code",
   "execution_count": null,
   "metadata": {},
   "outputs": [],
   "source": []
  }
 ],
 "metadata": {
  "kernelspec": {
   "display_name": "Python 3",
   "language": "python",
   "name": "python3"
  },
  "language_info": {
   "codemirror_mode": {
    "name": "ipython",
    "version": 3
   },
   "file_extension": ".py",
   "mimetype": "text/x-python",
   "name": "python",
   "nbconvert_exporter": "python",
   "pygments_lexer": "ipython3",
   "version": "3.7.3"
  }
 },
 "nbformat": 4,
 "nbformat_minor": 2
}
