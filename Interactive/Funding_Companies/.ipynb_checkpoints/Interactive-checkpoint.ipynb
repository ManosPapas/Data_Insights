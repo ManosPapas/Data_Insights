{
 "cells": [
  {
   "cell_type": "markdown",
   "metadata": {},
   "source": [
    "# Interactive Notebook"
   ]
  },
  {
   "cell_type": "code",
   "execution_count": 1,
   "metadata": {},
   "outputs": [
    {
     "data": {
      "text/html": [
       "<style>.container { width:100% !important; }</style>"
      ],
      "text/plain": [
       "<IPython.core.display.HTML object>"
      ]
     },
     "metadata": {},
     "output_type": "display_data"
    },
    {
     "data": {
      "text/html": [
       "<style>.container { width:100% !important; }</style>"
      ],
      "text/plain": [
       "<IPython.core.display.HTML object>"
      ]
     },
     "metadata": {},
     "output_type": "display_data"
    },
    {
     "data": {
      "text/html": [
       "<style>.container { width:100% !important; }</style>"
      ],
      "text/plain": [
       "<IPython.core.display.HTML object>"
      ]
     },
     "metadata": {},
     "output_type": "display_data"
    },
    {
     "name": "stderr",
     "output_type": "stream",
     "text": [
      "c:\\users\\mpapagiannidis\\appdata\\local\\programs\\python\\python37\\lib\\site-packages\\sklearn\\externals\\joblib\\__init__.py:15: DeprecationWarning: sklearn.externals.joblib is deprecated in 0.21 and will be removed in 0.23. Please import this functionality directly from joblib, which can be installed with: pip install joblib. If this warning is raised when loading pickled models, you may need to re-serialize those models with scikit-learn 0.21+.\n",
      "  warnings.warn(msg, category=DeprecationWarning)\n"
     ]
    },
    {
     "data": {
      "text/html": [
       "<style>.container { width:100% !important; }</style>"
      ],
      "text/plain": [
       "<IPython.core.display.HTML object>"
      ]
     },
     "metadata": {},
     "output_type": "display_data"
    },
    {
     "data": {
      "text/html": [
       "<style>.container { width:100% !important; }</style>"
      ],
      "text/plain": [
       "<IPython.core.display.HTML object>"
      ]
     },
     "metadata": {},
     "output_type": "display_data"
    },
    {
     "data": {
      "text/html": [
       "        <script type=\"text/javascript\">\n",
       "        window.PlotlyConfig = {MathJaxConfig: 'local'};\n",
       "        if (window.MathJax) {MathJax.Hub.Config({SVG: {font: \"STIX-Web\"}});}\n",
       "        if (typeof require !== 'undefined') {\n",
       "        require.undef(\"plotly\");\n",
       "        requirejs.config({\n",
       "            paths: {\n",
       "                'plotly': ['https://cdn.plot.ly/plotly-latest.min']\n",
       "            }\n",
       "        });\n",
       "        require(['plotly'], function(Plotly) {\n",
       "            window._Plotly = Plotly;\n",
       "        });\n",
       "        }\n",
       "        </script>\n",
       "        "
      ]
     },
     "metadata": {},
     "output_type": "display_data"
    },
    {
     "data": {
      "text/html": [
       "        <script type=\"text/javascript\">\n",
       "        window.PlotlyConfig = {MathJaxConfig: 'local'};\n",
       "        if (window.MathJax) {MathJax.Hub.Config({SVG: {font: \"STIX-Web\"}});}\n",
       "        if (typeof require !== 'undefined') {\n",
       "        require.undef(\"plotly\");\n",
       "        requirejs.config({\n",
       "            paths: {\n",
       "                'plotly': ['https://cdn.plot.ly/plotly-latest.min']\n",
       "            }\n",
       "        });\n",
       "        require(['plotly'], function(Plotly) {\n",
       "            window._Plotly = Plotly;\n",
       "        });\n",
       "        }\n",
       "        </script>\n",
       "        "
      ]
     },
     "metadata": {},
     "output_type": "display_data"
    },
    {
     "data": {
      "text/html": [
       "<style>.container { width:100% !important; }</style>"
      ],
      "text/plain": [
       "<IPython.core.display.HTML object>"
      ]
     },
     "metadata": {},
     "output_type": "display_data"
    },
    {
     "data": {
      "text/html": [
       "<style>.container { width:100% !important; }</style>"
      ],
      "text/plain": [
       "<IPython.core.display.HTML object>"
      ]
     },
     "metadata": {},
     "output_type": "display_data"
    },
    {
     "data": {
      "text/html": [
       "<style>.container { width:100% !important; }</style>"
      ],
      "text/plain": [
       "<IPython.core.display.HTML object>"
      ]
     },
     "metadata": {},
     "output_type": "display_data"
    }
   ],
   "source": [
    "%run \"../../Libraries/Display.ipynb\"\n",
    "%run \"../../Libraries/Standard.ipynb\"\n",
    "%run \"../../Libraries/Modelling.ipynb\"\n",
    "%run \"../../Libraries/Interactive.ipynb\"\n",
    "%run \"../../Libraries/Style.ipynb\"\n",
    "%run \"../../Core/Standard.ipynb\"\n",
    "%run \"../../Core/Engineering.ipynb\"\n",
    "%run \"../../Core/Modelling.ipynb\""
   ]
  },
  {
   "cell_type": "code",
   "execution_count": 2,
   "metadata": {},
   "outputs": [],
   "source": [
    "style.use('seaborn-whitegrid') or plt.style.use('seaborn-whitegrid')\n",
    "\n",
    "plt.style.use('seaborn-whitegrid')\n",
    "\n",
    "sns.set(style=\"ticks\", color_codes=True)"
   ]
  },
  {
   "cell_type": "code",
   "execution_count": 3,
   "metadata": {},
   "outputs": [],
   "source": [
    "data = pd.read_csv(\"../../Data/Funding_Companies/data.csv\")\n",
    "\n",
    "data['Date of Incorporation'] = pd.to_datetime(data['Date of Incorporation'])\n",
    "\n",
    "data['Date of Incorporation'] = abs(round(data['Date of Incorporation'].apply(lambda x:(datetime.today()-x).days)/365, 1))\n",
    "\n",
    "data = data.sample(frac=0.1, replace=True, random_state=1)"
   ]
  },
  {
   "cell_type": "code",
   "execution_count": 4,
   "metadata": {},
   "outputs": [
    {
     "data": {
      "application/vnd.jupyter.widget-view+json": {
       "model_id": "c6c55783570e4ceebf090455b14526d9",
       "version_major": 2,
       "version_minor": 0
      },
      "text/plain": [
       "interactive(children=(FloatSlider(value=0.0, description='value', max=1.0, step=0.05), Output()), _dom_classes…"
      ]
     },
     "metadata": {},
     "output_type": "display_data"
    },
    {
     "data": {
      "text/plain": [
       "<function __main__.interactive_empty_columns(value=1)>"
      ]
     },
     "execution_count": 4,
     "metadata": {},
     "output_type": "execute_result"
    }
   ],
   "source": [
    "empty_value_percentage = FloatSlider(min=0.0, max=1, step=0.05)\n",
    "\n",
    "def interactive_empty_columns(value=1): \n",
    "    df = data.loc[:, data.isnull().mean() <= value]\n",
    "    print(df.shape)\n",
    "    \n",
    "interact(interactive_empty_columns, value=empty_value_percentage)"
   ]
  },
  {
   "cell_type": "code",
   "execution_count": 5,
   "metadata": {},
   "outputs": [
    {
     "data": {
      "application/vnd.jupyter.widget-view+json": {
       "model_id": "80588cc31d01483aa11faad40206baed",
       "version_major": 2,
       "version_minor": 0
      },
      "text/plain": [
       "interactive(children=(Select(description='Variables (Column Names)', options=('Location', 'Date of Incorporati…"
      ]
     },
     "metadata": {},
     "output_type": "display_data"
    },
    {
     "data": {
      "text/plain": [
       "<function __main__.interactive_count_plot(col)>"
      ]
     },
     "execution_count": 5,
     "metadata": {},
     "output_type": "execute_result"
    }
   ],
   "source": [
    "count_column = widgets.Select(\n",
    "    options=list(data),\n",
    "    rows=15,\n",
    "    value='Location',\n",
    "    description='Variables (Column Names)',\n",
    "    disabled=False\n",
    ")\n",
    "\n",
    "def interactive_count_plot(col): \n",
    "    count_plot(data, col)\n",
    "    \n",
    "interact(interactive_count_plot, col=count_column)"
   ]
  },
  {
   "cell_type": "code",
   "execution_count": 6,
   "metadata": {},
   "outputs": [
    {
     "data": {
      "application/vnd.jupyter.widget-view+json": {
       "model_id": "0aec99178b4845669967f83dd88932ce",
       "version_major": 2,
       "version_minor": 0
      },
      "text/plain": [
       "interactive(children=(Dropdown(description='Column1:', index=98, options=('Location', 'Date of Incorporation',…"
      ]
     },
     "metadata": {},
     "output_type": "display_data"
    },
    {
     "data": {
      "text/plain": [
       "<function __main__.interactive_plot_regplot(col_1, col_2)>"
      ]
     },
     "execution_count": 6,
     "metadata": {},
     "output_type": "execute_result"
    }
   ],
   "source": [
    "column_1 = widgets.Dropdown(\n",
    "    options=list(data),\n",
    "    description='Column1:',\n",
    "    value='Total Net Assets (Period 1)',\n",
    "    disabled=False,\n",
    ")\n",
    "\n",
    "column_2 = widgets.Dropdown(\n",
    "    options=list(data),\n",
    "    value='Export Sales (Period 3)',\n",
    "    description='Column2:',\n",
    "    disabled=False,\n",
    ")\n",
    "\n",
    "def interactive_plot_regplot(col_1, col_2): \n",
    "    plot_regplot(data, col_1, col_2)\n",
    "\n",
    "interact(interactive_plot_regplot , col_1=column_1, col_2=column_2)"
   ]
  },
  {
   "cell_type": "code",
   "execution_count": 7,
   "metadata": {
    "scrolled": true
   },
   "outputs": [
    {
     "data": {
      "application/vnd.jupyter.widget-view+json": {
       "model_id": "9358b87108d143bb8a67e9fd3c4f733c",
       "version_major": 2,
       "version_minor": 0
      },
      "text/plain": [
       "interactive(children=(Dropdown(description='Column:', index=4, options=('Location', 'Date of Incorporation', '…"
      ]
     },
     "metadata": {},
     "output_type": "display_data"
    },
    {
     "data": {
      "text/plain": [
       "<function __main__.interactive_plot_most_correlated(col_1, corr=0.6)>"
      ]
     },
     "execution_count": 7,
     "metadata": {},
     "output_type": "execute_result"
    }
   ],
   "source": [
    "column_1 = widgets.Dropdown(\n",
    "    options=list(data),\n",
    "    description='Column:',\n",
    "    value='Total Sales / Turnover (Period 1)',\n",
    "    disabled=False,\n",
    ")\n",
    "\n",
    "correlation_ = FloatSlider(min=0.0, max=1, value=0.7, step=0.05)\n",
    "\n",
    "def interactive_plot_most_correlated(col_1, corr=0.6): \n",
    "    plot_most_correlated(data, col_1, corr)\n",
    "\n",
    "interact(interactive_plot_most_correlated , col_1=column_1, corr=correlation_)"
   ]
  },
  {
   "cell_type": "code",
   "execution_count": 8,
   "metadata": {},
   "outputs": [
    {
     "data": {
      "application/vnd.jupyter.widget-view+json": {
       "model_id": "96de54c275724e12b289671e4be4b2c9",
       "version_major": 2,
       "version_minor": 0
      },
      "text/plain": [
       "interactive(children=(Dropdown(description='Column:', options=('Location', 'Date of Incorporation', 'Turnover …"
      ]
     },
     "metadata": {},
     "output_type": "display_data"
    },
    {
     "data": {
      "text/plain": [
       "<function __main__.interactive_plot_stack(col_1, col_2)>"
      ]
     },
     "execution_count": 8,
     "metadata": {},
     "output_type": "execute_result"
    }
   ],
   "source": [
    "df = pd.DataFrame()\n",
    "df['Location'] = data['Location']\n",
    "df['Date of Incorporation'] = round(data['Date of Incorporation'], 0)\n",
    "df['Turnover size'] = data['Turnover size']\n",
    "df['3 year Performance'] = data['3 year Performance']\n",
    "df['GP Movement'] = data['GP Movement']\n",
    "df['Profitability'] = data['Profitability']\n",
    "df['Employee Size'] = data['Employee Size']\n",
    "df['Net Asset Size'] = data['Net Asset Size']\n",
    "df['Comm Delphi Score Cur'] = data['Comm Delphi Score Cur']\n",
    "\n",
    "df['SIC Industry'] = data['SIC Industry'].map({'Transportation and Storage': 0, 'Wholesale and retail,motor vehicle repair,sale of fuel': 1,\n",
    "    'Agriculture, Forestry, Fishing, Veterinary': 2, 'Information and Communication': 3, 'Business services': 4 , 'Other Service activities':5, 'Government administrative functions, Education, Health':6,\n",
    "     'All other Manufacturing':7, 'Manufacture food, drink, tobacco':8, 'Utilities, sewerage, waste and recycling':9, 'Construction (including development of real estate)':10,\n",
    "     'Manufacture machinery, vehicle, transport':11, 'Mining, Quarrying (inc extraction of petroleum and gas)':12, 'Manufacture coke, petroleum, chemicals, pharmaceuticals':13, \n",
    "     'Manufacture computer, electronic, light electrical':14, 'Manufacture computer, electronic, light electrical':15, 'Business services ':16, 'Machinery repair excluding motor vehicles':17,\n",
    "     'Manufacture textiles, leather':18                                                                        \n",
    "})\n",
    "    \n",
    "column_1 = widgets.Dropdown(\n",
    "    options=list(df),\n",
    "    value='Location',\n",
    "    description='Column:',\n",
    "    disabled=False,\n",
    ")\n",
    "\n",
    "column_2 = widgets.Dropdown(\n",
    "    options=list(df),\n",
    "    value='Net Asset Size',\n",
    "    description='Column:',\n",
    "    disabled=False,\n",
    ")\n",
    "\n",
    "def interactive_plot_stack(col_1, col_2):\n",
    "    \n",
    "    \n",
    "    plot_stack(df, [col_1, col_2])\n",
    "\n",
    "interact(interactive_plot_stack , col_1=column_1, col_2=column_2)"
   ]
  },
  {
   "cell_type": "code",
   "execution_count": 9,
   "metadata": {
    "scrolled": true
   },
   "outputs": [
    {
     "data": {
      "application/vnd.jupyter.widget-view+json": {
       "model_id": "0e6315975fa84c05af33afa7d0ad6b0d",
       "version_major": 2,
       "version_minor": 0
      },
      "text/plain": [
       "interactive(children=(Select(description='Variables (Column Names)', index=98, options=('Location', 'Date of I…"
      ]
     },
     "metadata": {},
     "output_type": "display_data"
    },
    {
     "data": {
      "text/plain": [
       "<function __main__.interactive_plot_log(col)>"
      ]
     },
     "execution_count": 9,
     "metadata": {},
     "output_type": "execute_result"
    }
   ],
   "source": [
    "count_column = widgets.Select(\n",
    "    options=list(data),\n",
    "    rows=15,\n",
    "    description='Variables (Column Names)',\n",
    "    value='Total Net Assets (Period 1)',\n",
    "    disabled=False\n",
    ")\n",
    "\n",
    "def interactive_plot_log(col): \n",
    "    plot_log(data.dropna(), col)\n",
    "    \n",
    "interact(interactive_plot_log, col=count_column)"
   ]
  },
  {
   "cell_type": "code",
   "execution_count": 15,
   "metadata": {},
   "outputs": [
    {
     "data": {
      "application/vnd.jupyter.widget-view+json": {
       "model_id": "40ab41ee371c4922b5322cd58f55d9f7",
       "version_major": 2,
       "version_minor": 0
      },
      "text/plain": [
       "interactive(children=(Dropdown(description='X:', options=('Location', 'Date of Incorporation', 'SIC Industry',…"
      ]
     },
     "metadata": {},
     "output_type": "display_data"
    },
    {
     "data": {
      "text/plain": [
       "<function __main__.interactive_iplot(col_1, col_2, category, mode)>"
      ]
     },
     "execution_count": 15,
     "metadata": {},
     "output_type": "execute_result"
    }
   ],
   "source": [
    "column_1 = widgets.Dropdown(\n",
    "    options=list(data),\n",
    "    value='Location',\n",
    "    description='X:',\n",
    "    disabled=False,\n",
    ")\n",
    "\n",
    "column_2 = widgets.Dropdown(\n",
    "    options=list(data),\n",
    "    value='Net Asset Size',\n",
    "    description='Y:',\n",
    "    disabled=False,\n",
    ")\n",
    "\n",
    "category_ = widgets.Dropdown(\n",
    "    options=list(data),\n",
    "    value='Profitability',\n",
    "    description='Category:',\n",
    "    disabled=False,\n",
    ")\n",
    "\n",
    "mode_ = widgets.Dropdown(\n",
    "    options=['lines', 'markers', 'lines+markers', 'lines+text'],\n",
    "    value='markers',\n",
    "    description='Display as:',\n",
    "    disabled=False,\n",
    ")\n",
    "\n",
    "def interactive_iplot(col_1, col_2, category, mode):  \n",
    "    data.iplot(\n",
    "        x=col_1,\n",
    "        y=col_2,\n",
    "        # Specify the category\n",
    "        categories=category,\n",
    "        mode=mode,\n",
    "        layout=dict(\n",
    "        xaxis=dict(title=col_1),\n",
    "        yaxis=dict(title=col_2),\n",
    "        title=''))\n",
    "    \n",
    "\n",
    "interact(interactive_iplot,col_1=column_1, col_2=column_2, category=category_, mode=mode_)"
   ]
  },
  {
   "cell_type": "code",
   "execution_count": null,
   "metadata": {},
   "outputs": [],
   "source": []
  }
 ],
 "metadata": {
  "kernelspec": {
   "display_name": "Python 3",
   "language": "python",
   "name": "python3"
  },
  "language_info": {
   "codemirror_mode": {
    "name": "ipython",
    "version": 3
   },
   "file_extension": ".py",
   "mimetype": "text/x-python",
   "name": "python",
   "nbconvert_exporter": "python",
   "pygments_lexer": "ipython3",
   "version": "3.7.3"
  }
 },
 "nbformat": 4,
 "nbformat_minor": 2
}
