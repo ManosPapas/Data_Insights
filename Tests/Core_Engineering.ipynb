{
 "cells": [
  {
   "cell_type": "markdown",
   "metadata": {},
   "source": [
    "# Core Engineering Tests"
   ]
  },
  {
   "cell_type": "code",
   "execution_count": null,
   "metadata": {},
   "outputs": [],
   "source": [
    "from IPython.core.display import display, HTML\n",
    "\n",
    "# Make notebooks expand 100%.\n",
    "display(HTML(\"<style>.container { width:100% !important; }</style>\"))"
   ]
  },
  {
   "cell_type": "code",
   "execution_count": 3,
   "metadata": {},
   "outputs": [],
   "source": [
    "class Test_Engineering(unittest.TestCase):\n",
    "        \n",
    "    def test_replace_values(self):\n",
    "        result = load_test_data()\n",
    "        \n",
    "        replace_values(result, 2404.0, \"BBC\")\n",
    "        \n",
    "        self.assertEqual(result['ucr_ncic_code'].iloc[0], \"BBC\")\n",
    "        \n",
    "        \n",
    "    def test_fill_na_with_none(self):\n",
    "        result = load_test_data()\n",
    "        \n",
    "        fill_na_with_none(result)\n",
    "        \n",
    "        self.assertIsInstance(result, pd.DataFrame)  \n",
    "        \n",
    "        \n",
    "    def test_fill_na_with_zero(self):\n",
    "        result = load_test_data()\n",
    "        \n",
    "        fill_na_with_zero(result, [])\n",
    "        \n",
    "        self.assertEqual(result['ucr_ncic_code'].iloc[9], 0)\n",
    "        \n",
    "        \n",
    "    def test_fill_na_with_mode(self):\n",
    "        result = load_test_data()\n",
    "        \n",
    "        fill_na_with_mode(result, [])\n",
    "        \n",
    "        self.assertEqual(result['ucr_ncic_code'].iloc[9], 2299.0)\n",
    "    \n",
    "    \n",
    "    def test_fill_na_with_mean(self):\n",
    "        result = load_test_data()\n",
    "        \n",
    "        fill_na_with_mean(result, ['ucr_ncic_code'])\n",
    "        \n",
    "        self.assertEqual(round(result['ucr_ncic_code'].iloc[9], 0), 2358.0)\n",
    "        \n",
    "        \n",
    "    def test_dummy_df(self):\n",
    "        result = load_test_data()\n",
    "        \n",
    "        result = dummy_df(result, [\"beat\"])\n",
    "\n",
    "        self.assertTrue(result.shape > load_test_data().shape)"
   ]
  },
  {
   "cell_type": "code",
   "execution_count": null,
   "metadata": {},
   "outputs": [],
   "source": []
  }
 ],
 "metadata": {
  "kernelspec": {
   "display_name": "Python 3",
   "language": "python",
   "name": "python3"
  },
  "language_info": {
   "codemirror_mode": {
    "name": "ipython",
    "version": 3
   },
   "file_extension": ".py",
   "mimetype": "text/x-python",
   "name": "python",
   "nbconvert_exporter": "python",
   "pygments_lexer": "ipython3",
   "version": "3.6.7rc1"
  }
 },
 "nbformat": 4,
 "nbformat_minor": 2
}
