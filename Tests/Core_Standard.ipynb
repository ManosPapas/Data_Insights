{
 "cells": [
  {
   "cell_type": "markdown",
   "metadata": {},
   "source": [
    "# Core Standard Tests"
   ]
  },
  {
   "cell_type": "code",
   "execution_count": 2,
   "metadata": {},
   "outputs": [
    {
     "data": {
      "text/html": [
       "<style>.container { width:100% !important; }</style>"
      ],
      "text/plain": [
       "<IPython.core.display.HTML object>"
      ]
     },
     "metadata": {},
     "output_type": "display_data"
    },
    {
     "data": {
      "text/html": [
       "<style>.container { width:100% !important; }</style>"
      ],
      "text/plain": [
       "<IPython.core.display.HTML object>"
      ]
     },
     "metadata": {},
     "output_type": "display_data"
    }
   ],
   "source": [
    "from IPython.core.display import display, HTML\n",
    "\n",
    "# Make notebooks expand 100%.\n",
    "display(HTML(\"<style>.container { width:100% !important; }</style>\"))"
   ]
  },
  {
   "cell_type": "code",
   "execution_count": 3,
   "metadata": {},
   "outputs": [],
   "source": [
    "class Test_Standard(unittest.TestCase):\n",
    "        \n",
    "    def test_data_types(self):\n",
    "        result = data_types(\"../Data/Test/test_data_mini.csv\")\n",
    "        \n",
    "        self.assertIsInstance(result, dict)\n",
    "        \n",
    "        \n",
    "    def test_empty_columns(self):        \n",
    "        result = empty_columns(load_test_data())\n",
    "        \n",
    "        self.assertIsInstance(result, pd.Series)  "
   ]
  },
  {
   "cell_type": "code",
   "execution_count": 4,
   "metadata": {},
   "outputs": [],
   "source": [
    "class Test_Standard_plots(unittest.TestCase):\n",
    "    \n",
    "    def test_correlation_heatmap(self):        \n",
    "        result = correlation_heatmap(load_test_data())\n",
    "        \n",
    "        self.assertEqual(plt.gcf().number, 1)\n",
    "\n",
    "        \n",
    "    def test_correlation_heatmap(self): \n",
    "        # Should fail to give an image\n",
    "        result = plot_most_correlated(load_test_data(),'address')\n",
    "\n",
    "        self.assertEqual(result, -1) \n",
    "        \n",
    "        \n",
    "    def test_plot_regplot(self):        \n",
    "        result = plot_regplot(load_test_data(), 'grid', 'district')\n",
    "        \n",
    "        self.assertEqual(plt.gcf().number, 1)\n",
    "        \n",
    "        \n",
    "    def test_count_plot(self):        \n",
    "        result = count_plot(load_test_data(), 'address')\n",
    "        \n",
    "        self.assertEqual(plt.gcf().number, 1)\n",
    "        \n",
    "        \n",
    "    def test_plot_stack(self):        \n",
    "        result = plot_stack(load_test_data(), 'address')\n",
    "        \n",
    "        self.assertEqual(plt.gcf().number, 1)\n",
    "        \n",
    "        \n",
    "    def test_plot_log(self):        \n",
    "        result = plot_log(load_test_data(), 'district')\n",
    "        \n",
    "        self.assertEqual(plt.gcf().number, 2)   "
   ]
  },
  {
   "cell_type": "code",
   "execution_count": null,
   "metadata": {},
   "outputs": [],
   "source": []
  }
 ],
 "metadata": {
  "kernelspec": {
   "display_name": "Python 3",
   "language": "python",
   "name": "python3"
  },
  "language_info": {
   "codemirror_mode": {
    "name": "ipython",
    "version": 3
   },
   "file_extension": ".py",
   "mimetype": "text/x-python",
   "name": "python",
   "nbconvert_exporter": "python",
   "pygments_lexer": "ipython3",
   "version": "3.6.7rc1"
  }
 },
 "nbformat": 4,
 "nbformat_minor": 2
}
