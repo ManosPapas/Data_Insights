{
 "cells": [
  {
   "cell_type": "markdown",
   "metadata": {},
   "source": [
    "# Core Modelling Tests"
   ]
  },
  {
   "cell_type": "code",
   "execution_count": 1,
   "metadata": {},
   "outputs": [
    {
     "data": {
      "text/html": [
       "<style>.container { width:100% !important; }</style>"
      ],
      "text/plain": [
       "<IPython.core.display.HTML object>"
      ]
     },
     "metadata": {},
     "output_type": "display_data"
    }
   ],
   "source": [
    "from IPython.core.display import display, HTML\n",
    "\n",
    "# Make notebooks expand 100%.\n",
    "display(HTML(\"<style>.container { width:100% !important; }</style>\"))"
   ]
  },
  {
   "cell_type": "code",
   "execution_count": 3,
   "metadata": {},
   "outputs": [],
   "source": [
    "class Test_Modelling(unittest.TestCase):\n",
    "    \n",
    "    def test_caluclate_cumsum(self):\n",
    "        data = load_test_data().iloc[:,6:]\n",
    "        \n",
    "        data.dropna(inplace=True)\n",
    "        \n",
    "        result = caluclate_cumsum(data)\n",
    "        \n",
    "        self.assertIsInstance(result, np.ndarray)\n",
    "        \n",
    "\n",
    "    def test_plot_pca(self):\n",
    "        data = load_test_data().iloc[:,6:]\n",
    "        \n",
    "        data.dropna(inplace=True)\n",
    "        \n",
    "        result = plot_pca(data, data.iloc[:,-1])\n",
    "        \n",
    "        self.assertEqual(plt.gcf().number, 1)\n",
    "        \n",
    "    \n",
    "    def test_plot_pca_variance(self):\n",
    "        data = load_test_data().iloc[:,6:]\n",
    "        \n",
    "        data.dropna(inplace=True)\n",
    "        \n",
    "        result = plot_pca_variance(data)\n",
    "        \n",
    "        self.assertEqual(plt.gcf().number, 1)"
   ]
  },
  {
   "cell_type": "code",
   "execution_count": null,
   "metadata": {},
   "outputs": [],
   "source": []
  }
 ],
 "metadata": {
  "kernelspec": {
   "display_name": "Python 3",
   "language": "python",
   "name": "python3"
  },
  "language_info": {
   "codemirror_mode": {
    "name": "ipython",
    "version": 3
   },
   "file_extension": ".py",
   "mimetype": "text/x-python",
   "name": "python",
   "nbconvert_exporter": "python",
   "pygments_lexer": "ipython3",
   "version": "3.7.3"
  }
 },
 "nbformat": 4,
 "nbformat_minor": 2
}
