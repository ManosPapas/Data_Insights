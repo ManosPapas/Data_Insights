{
 "cells": [
  {
   "cell_type": "markdown",
   "metadata": {},
   "source": [
    "# Engineering Functions"
   ]
  },
  {
   "cell_type": "code",
   "execution_count": 1,
   "metadata": {},
   "outputs": [
    {
     "data": {
      "text/html": [
       "<style>.container { width:100% !important; }</style>"
      ],
      "text/plain": [
       "<IPython.core.display.HTML object>"
      ]
     },
     "metadata": {},
     "output_type": "display_data"
    }
   ],
   "source": [
    "from IPython.core.display import display, HTML\n",
    "\n",
    "# Make notebooks expand 100%.\n",
    "display(HTML(\"<style>.container { width:100% !important; }</style>\"))"
   ]
  },
  {
   "cell_type": "code",
   "execution_count": 2,
   "metadata": {},
   "outputs": [],
   "source": [
    "# This method replaces values from the give columns.\n",
    "# Parameters \n",
    "# df (Dataframe) : The data frame we want to use.\n",
    "# before (Object) : The value that is going to be replaced.\n",
    "# after (Object) : The value that is going to be assigned.\n",
    "# columns (List) : Column names. Empty means all columns.\n",
    "# inplace_ (Boolean) : Maintain the changes or not.\n",
    "# Returns : The data frame.\n",
    "def replace_values(df, before, after, columns=[], inplace_=True):\n",
    "    if columns:\n",
    "        for col in columns:\n",
    "            df[col].replace(before, after, inplace=inplace_)\n",
    "    else:\n",
    "        df.replace(to_replace=before, value=after, inplace=inplace_)"
   ]
  },
  {
   "cell_type": "code",
   "execution_count": 3,
   "metadata": {},
   "outputs": [],
   "source": [
    "# This method fills NA with None.\n",
    "# Parameters\n",
    "# dataframe (Dataframe) : The data frame we want to use.\n",
    "# columns (List of Strings) : The column that we want to replaces the na with None.\n",
    "# inplace_ (Boolean) : Maintain the changes or not.\n",
    "# Returns : The data frame.\n",
    "def fill_na_with_none(df, columns=[], inplace_=True):\n",
    "    if columns:\n",
    "        for col in columns:\n",
    "            df[col].fillna('None', inplace=inplace_)\n",
    "    else:\n",
    "        df.fillna('None', inplace=inplace_)"
   ]
  },
  {
   "cell_type": "code",
   "execution_count": 4,
   "metadata": {},
   "outputs": [],
   "source": [
    "# This method fills NA with zero.\n",
    "# Parameters\n",
    "# dataframe (Dataframe) : The data frame we want to use.\n",
    "# columns (List of Strings) : The column that we want to replaces the na with zero.\n",
    "# inplace_ (Boolean) : Maintain the changes or not.\n",
    "# Returns : The data frame.\n",
    "def fill_na_with_zero(df, columns=[], inplace_=True):\n",
    "    if columns:\n",
    "        for col in (columns):\n",
    "            df[col].fillna(0, inplace=inplace_)\n",
    "    else:\n",
    "        df.fillna(0, inplace=inplace_)"
   ]
  },
  {
   "cell_type": "code",
   "execution_count": 5,
   "metadata": {},
   "outputs": [],
   "source": [
    "# This method fills NA with mode.\n",
    "# Parameters\n",
    "# dataframe (Dataframe) : The data frame we want to use.\n",
    "# columns (List of Strings) : The column that we want to replaces the na with mode.\n",
    "# inplace_ (Boolean) : Maintain the changes or not.\n",
    "# Returns : The data frame.\n",
    "def fill_na_with_mode(df, columns=[], inplace_=True):\n",
    "    if not columns:\n",
    "        columns = df.columns\n",
    "    \n",
    "    for col in columns:\n",
    "        df[col].fillna(df[col].mode()[0], inplace=inplace_)"
   ]
  },
  {
   "cell_type": "code",
   "execution_count": 6,
   "metadata": {},
   "outputs": [],
   "source": [
    "# This method replaces NA with mean.\n",
    "# Parameters\n",
    "# dataframe (Dataframe) : The data frame we want to use.\n",
    "# columns (List of Strings) : The column that we want to replaces the na with mode.\n",
    "# inplace_ (Boolean) : Maintain the changes or not.\n",
    "# Returns : The data frame.\n",
    "def fill_na_with_mean(df, columns=[], inplace_=True):\n",
    "    if not columns:\n",
    "        columns = df.columns\n",
    "    \n",
    "    for col in columns:\n",
    "        df[col].fillna(df[col].mean(), inplace=inplace_)                  "
   ]
  },
  {
   "cell_type": "code",
   "execution_count": 7,
   "metadata": {},
   "outputs": [],
   "source": [
    "# This method replaces categorical values.\n",
    "# Parameters\n",
    "# dataframe (Dataframe) : The data frame we want to use.\n",
    "# columns (List of Strings) : The column that we want to replaces the na with mode.\n",
    "# Returns : The data frame.\n",
    "def replace_categorical_values(df, columns):\n",
    "    for i in columns:\n",
    "        feature_set = set(df[i])\n",
    "        \n",
    "        for j in feature_set:\n",
    "            feature_list = list(feature_set)\n",
    "            \n",
    "            df.loc[df[i]==j, i] = feature_list.index(j)"
   ]
  },
  {
   "cell_type": "code",
   "execution_count": 8,
   "metadata": {},
   "outputs": [],
   "source": [
    " # This method creates dummy variables. One hot encoding.\n",
    "# Parameters\n",
    "# dataframe (Dataframe) : The data frame we want to use.\n",
    "# todummy_list (Array) : The columns that we want to create dummy variables.\n",
    "# drop_ (Boolean) : Drop a dummy column or not.\n",
    "# Returns : The dataset with the dummy variables.\n",
    "def dummy_df(df, todummy_list, drop_=True):\n",
    "    for x in todummy_list:\n",
    "        dummies = pd.get_dummies(df[x], prefix=x, dummy_na=False, drop_first=drop_)\n",
    "        \n",
    "        df = df.drop(x,1)\n",
    "        \n",
    "        df = pd.concat([df, dummies], axis=1)\n",
    "        \n",
    "    return df"
   ]
  },
  {
   "cell_type": "code",
   "execution_count": 9,
   "metadata": {},
   "outputs": [],
   "source": [
    "# This method removes outliers using IQR.\n",
    "# Parameters\n",
    "# X (Array) : The data that have outliers.\n",
    "# outlier_constant (Float) : The outlier constant.\n",
    "# Returns : The dataframe without the outliers\n",
    "def remove_array_outliers(X, outlier_constant = 1.5):\n",
    "    a = np.array(X)\n",
    "    \n",
    "    upper_quartile = np.percentile(a, 75)\n",
    "    \n",
    "    lower_quartile = np.percentile(a, 25)\n",
    "    \n",
    "    IQR = (upper_quartile - lower_quartile) * outlier_constant\n",
    "    \n",
    "    quartile_set = (lower_quartile - IQR, upper_quartile + IQR)\n",
    "    \n",
    "    result = a[np.where((a >= quartile_set[0]) & (a <= quartile_set[1]))]\n",
    "    \n",
    "    return result.tolist()"
   ]
  },
  {
   "cell_type": "code",
   "execution_count": 10,
   "metadata": {},
   "outputs": [],
   "source": [
    "# This method removes outliers using IQR.\n",
    "# Parameters\n",
    "# df (DataFrame) : The data that have outliers.\n",
    "# columns (Array) : The columns that we want to check. If empty all columns are chosen.\n",
    "# outlier_constant (Float) : The outlier constant.\n",
    "# Returns : The dataframe without the outliers.\n",
    "def remove_outliers(df, columns=[], outlier_constant = 1.5):\n",
    "    if not columns:\n",
    "        columns = df.columns\n",
    "        \n",
    "    for col in columns:\n",
    "            df = outlier_calculations(df, col, outlier_constant)\n",
    "\n",
    "    return df"
   ]
  },
  {
   "cell_type": "code",
   "execution_count": 11,
   "metadata": {},
   "outputs": [],
   "source": [
    "# This method calculates the outliers using IQR.\n",
    "# Parameters\n",
    "# df (DataFrame) : The data that have outliers.\n",
    "# column (String) : The column that we want to check.\n",
    "# outlier_constant (Float) : The outlier constant.\n",
    "# Returns : The dataframe without the outliers.\n",
    "def outlier_calculations(df, col, outlier_constant):\n",
    "    up = np.percentile(df[col], 75)\n",
    "    \n",
    "    down = np.percentile(df[col], 25)\n",
    "    \n",
    "    IQR = (up - down) * outlier_constant\n",
    "    \n",
    "    quartile_set = (up - IQR, down + IQR)\n",
    "    \n",
    "    df = df.loc[(df[col] >= quartile_set[0]) & (df[col] <= quartile_set[1])]\n",
    "    \n",
    "    return df"
   ]
  }
 ],
 "metadata": {
  "kernelspec": {
   "display_name": "Python 3",
   "language": "python",
   "name": "python3"
  },
  "language_info": {
   "codemirror_mode": {
    "name": "ipython",
    "version": 3
   },
   "file_extension": ".py",
   "mimetype": "text/x-python",
   "name": "python",
   "nbconvert_exporter": "python",
   "pygments_lexer": "ipython3",
   "version": "3.6.7rc1"
  }
 },
 "nbformat": 4,
 "nbformat_minor": 2
}
